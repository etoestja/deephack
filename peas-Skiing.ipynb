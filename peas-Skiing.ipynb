{
 "cells": [
  {
   "cell_type": "code",
   "execution_count": 2,
   "metadata": {
    "collapsed": true
   },
   "outputs": [],
   "source": [
    "from six.moves import cPickle\n",
    "import cv2\n",
    "import numpy as np\n",
    "import gym\n",
    "from gym import wrappers"
   ]
  },
  {
   "cell_type": "code",
   "execution_count": 4,
   "metadata": {
    "collapsed": false
   },
   "outputs": [],
   "source": [
    "import sys, os\n",
    "from functools import partial\n",
    "from collections import defaultdict\n",
    "sys.path.append('/home/etoestja/peas')\n",
    "from peas.networks.rnn import NeuralNetwork\n",
    "from peas.methods.neat import NEATPopulation, NEATGenotype"
   ]
  },
  {
   "cell_type": "code",
   "execution_count": null,
   "metadata": {
    "collapsed": false
   },
   "outputs": [],
   "source": [
    "class GYMGame(object):\n",
    "    def __init__(self, game = 'Skiing-v0'):\n",
    "        self.env = gym.make(game)\n",
    "        self.actions = self.env.action_space.n\n",
    "    # Resizing to black-white 42x42\n",
    "    def resize_frame(self, frame):\n",
    "        frame = frame[34:34+160, :160]\n",
    "        # Resize by half, then down to 42x42 (essentially mipmapping). If\n",
    "        frame = cv2.resize(frame, (10, 10))\n",
    "        frame = frame.mean(2)\n",
    "        frame = frame.astype(np.float32)\n",
    "        frame *= (1.0 / 255.0)\n",
    "        return frame\n",
    "    # a = argmax_a Q(s,a)\n",
    "    def predict_action(self, observation, network):\n",
    "        #return env.action_space.sample()\n",
    "        compressed_observation = self.resize_frame(observation).flatten()\n",
    "        s = network.feed(compressed_observation)[-self.actions:]\n",
    "        action = np.argmax(s)\n",
    "        return(action)\n",
    "    def solve(self, network):\n",
    "        return False\n",
    "    def evaluate(self, network):\n",
    "        if not isinstance(network, NeuralNetwork):\n",
    "            network = NeuralNetwork(network)\n",
    "        \n",
    "        observation = self.env.reset()\n",
    "        done = False\n",
    "        iteration, total_reward = 0, 0\n",
    "        \n",
    "        while not done:\n",
    "            #env.render()\n",
    "            action = self.predict_action(observation, network)\n",
    "            observation, reward, done, info = self.env.step(action)\n",
    "            total_reward += reward\n",
    "\n",
    "            #if iteration % 500 == 0:\n",
    "                #print(str(iteration))\n",
    "\n",
    "            if total_reward < -12000 or iteration >= 8000:\n",
    "                break\n",
    "\n",
    "            iteration += 1\n",
    "\n",
    "        \n",
    "        res = {'fitness': total_reward, 'steps': iteration}\n",
    "        return res\n",
    "    def genotype(self):\n",
    "        return lambda: NEATGenotype(inputs=100,\n",
    "                                outputs = self.actions,\n",
    "                                weight_range=(-3,3),\n",
    "                                types=['tanh'])"
   ]
  },
  {
   "cell_type": "code",
   "execution_count": null,
   "metadata": {
    "collapsed": false
   },
   "outputs": [],
   "source": [
    "# Create a factory for genotypes (i.e. a function that returns a new\n",
    "# instance each time it is called)\n",
    "game = GYMGame()\n",
    "genotype = game.genotype()"
   ]
  },
  {
   "cell_type": "code",
   "execution_count": null,
   "metadata": {
    "collapsed": false
   },
   "outputs": [],
   "source": [
    "# Create a population\n",
    "pop = NEATPopulation(genotype, popsize=5, max_cores=8)\n",
    "\n",
    "# Run the evolution, tell it to use the task as an evaluator\n",
    "pop.epoch(generations=100, evaluator=game, solution=game)"
   ]
  },
  {
   "cell_type": "code",
   "execution_count": null,
   "metadata": {
    "collapsed": true
   },
   "outputs": [],
   "source": []
  }
 ],
 "metadata": {
  "kernelspec": {
   "display_name": "Python 2",
   "language": "python",
   "name": "python2"
  },
  "language_info": {
   "codemirror_mode": {
    "name": "ipython",
    "version": 2
   },
   "file_extension": ".py",
   "mimetype": "text/x-python",
   "name": "python",
   "nbconvert_exporter": "python",
   "pygments_lexer": "ipython2",
   "version": "2.7.9"
  }
 },
 "nbformat": 4,
 "nbformat_minor": 0
}
