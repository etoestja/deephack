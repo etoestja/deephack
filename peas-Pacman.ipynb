{
 "cells": [
  {
   "cell_type": "code",
   "execution_count": 3,
   "metadata": {
    "collapsed": false
   },
   "outputs": [],
   "source": [
    "from six.moves import cPickle\n",
    "import cv2\n",
    "import numpy as np\n",
    "import gym\n",
    "from gym import wrappers\n",
    "import sys, os\n",
    "from functools import partial\n",
    "from collections import defaultdict\n",
    "sys.path.append('/home/etoestja/peas')\n",
    "from peas.networks.rnn import NeuralNetwork\n",
    "from peas.methods.neat import NEATPopulation, NEATGenotype"
   ]
  },
  {
   "cell_type": "code",
   "execution_count": 13,
   "metadata": {
    "collapsed": true
   },
   "outputs": [],
   "source": [
    "class GYMGame(object):\n",
    "    def __init__(self, game = 'Skiing-v0'):\n",
    "        self.env = gym.make(game)\n",
    "        self.actions = self.env.action_space.n\n",
    "        self.input_size = self.env.observation_space.shape[0]\n",
    "        \n",
    "    # Resizing to black-white 42x42\n",
    "    def resize_frame(self, frame):\n",
    "        frame = frame[34:34+160, :160]\n",
    "        # Resize by half, then down to 42x42 (essentially mipmapping). If\n",
    "        frame = cv2.resize(frame, (84, 84))\n",
    "        frame = cv2.resize(frame, (42, 42))\n",
    "        frame = cv2.resize(frame, (10, 10))\n",
    "        frame = frame.mean(2)\n",
    "        frame = frame.astype(np.float32)\n",
    "        frame *= (1.0 / 255.0)\n",
    "        return frame\n",
    "    \n",
    "    # a = argmax_a Q(s,a)\n",
    "    def predict_action(self, observation, network):\n",
    "        #compressed_observation = self.resize_frame(observation).flatten()\n",
    "        #compressed_observation = self.env._get_ram()/255.*2-1\n",
    "        observation = observation / 255. * 2 - 1\n",
    "        s = network.feed(observation)[-self.actions:]\n",
    "        action = np.argmax(s)\n",
    "        return(action)\n",
    "    \n",
    "    def solve(self, network):\n",
    "        return False\n",
    "    \n",
    "    def evaluate(self, network):\n",
    "        rewards = []\n",
    "        stepss = []\n",
    "        N = 5\n",
    "        i = 0\n",
    "        while i < N:\n",
    "            t_res = self.evaluateOne(network)\n",
    "            rewards += [t_res['fitness']]\n",
    "            stepss += [t_res['steps']]\n",
    "            i += 1\n",
    "        \n",
    "        #print rewards\n",
    "        \n",
    "        res = {'fitness': np.array(rewards).mean(), 'steps': np.array(stepss).mean()}\n",
    "        return res\n",
    "    \n",
    "    def evaluateOne(self, network):\n",
    "        if not isinstance(network, NeuralNetwork):\n",
    "            network = NeuralNetwork(network)\n",
    "            \n",
    "        observation = self.env.reset()\n",
    "        done = False\n",
    "        iteration, total_reward = 0, 0\n",
    "        \n",
    "        while not done:\n",
    "            #env.render()\n",
    "            action = self.predict_action(observation, network)\n",
    "            observation, reward, done, info = self.env.step(action)\n",
    "            total_reward += reward\n",
    "\n",
    "            #if iteration % 500 == 0:\n",
    "                #print(str(iteration))\n",
    "\n",
    "            #if total_reward < -12000 or iteration >= 8000:\n",
    "            #    break\n",
    "\n",
    "            iteration += 1\n",
    "        \n",
    "        res = {'fitness': total_reward, 'steps': iteration}\n",
    "        #print res\n",
    "        return res\n",
    "    \n",
    "    def genotype(self):\n",
    "        return lambda: NEATGenotype(inputs = self.input_size,\n",
    "                                outputs = self.actions,\n",
    "                                weight_range=(-3,3),\n",
    "                                types=['tanh'])"
   ]
  },
  {
   "cell_type": "code",
   "execution_count": 14,
   "metadata": {
    "collapsed": false
   },
   "outputs": [
    {
     "name": "stderr",
     "output_type": "stream",
     "text": [
      "[2017-02-06 23:36:49,461] Making new env: MsPacman-ram-v0\n"
     ]
    }
   ],
   "source": [
    "# Create game\n",
    "game = GYMGame('MsPacman-ram-v0')\n",
    "\n",
    "# Genotype of the network\n",
    "genotype = game.genotype()"
   ]
  },
  {
   "cell_type": "code",
   "execution_count": 15,
   "metadata": {
    "collapsed": false
   },
   "outputs": [
    {
     "name": "stdout",
     "output_type": "stream",
     "text": [
      "Running in 11 processes.\n",
      "[60.0, 60.0, 60.0, 60.0, 60.0]\n",
      "[170.0, 170.0, 490.0, 170.0, 170.0]\n",
      "[290.0, 210.0, 250.0, 210.0, 230.0]\n",
      "[190.0, 120.0, 150.0, 80.0, 120.0]\n",
      "[260.0, 180.0, 240.0, 320.0, 250.0]\n",
      "[360.0, 430.0, 400.0, 140.0, 360.0]\n",
      "[110.0, 140.0, 140.0, 110.0, 140.0]\n",
      "[1880.0, 510.0, 240.0, 200.0, 110.0]\n",
      "[170.0, 200.0, 70.0, 170.0, 240.0]\n",
      "[340.0, 460.0, 380.0, 360.0, 340.0]\n",
      "[220.0, 340.0, 290.0, 290.0, 510.0]\n",
      "\n",
      "== Generation 1 ==\n",
      "Best (588.00): NEATGenotype with 137 nodes and 1152 connections. {'steps': 689.20000000000005, 'fitness': 588.0}\n",
      "Solved: None\n",
      "Species: [11]\n",
      "Age: [0]\n",
      "No improvement: [0]\n",
      "Running in 11 processes.\n",
      "[60.0, 60.0, 60.0, 60.0, 60.0]\n",
      "[90.0, 110.0, 70.0, 110.0, 80.0]\n",
      "[330.0, 200.0, 90.0, 110.0, 150.0]\n",
      "[180.0, 180.0, 180.0, 110.0, 70.0]\n",
      "[80.0, 200.0, 530.0, 190.0, 160.0]\n",
      "[380.0, 270.0, 370.0, 240.0, 480.0]\n",
      "[840.0, 260.0, 490.0, 330.0, 180.0]\n",
      "[290.0, 570.0, 570.0, 570.0, 570.0]\n",
      "[180.0, 220.0, 470.0, 480.0, 270.0]\n",
      "[310.0, 320.0, 170.0, 620.0, 600.0]\n",
      "[200.0, 300.0, 310.0, 230.0, 230.0]\n",
      "\n",
      "== Generation 2 ==\n",
      "Best (514.00): NEATGenotype with 137 nodes and 1152 connections. {'steps': 730.60000000000002, 'fitness': 514.0}\n",
      "Solved: None\n",
      "Species: [11]\n",
      "Age: [1]\n",
      "No improvement: [1]\n"
     ]
    },
    {
     "data": {
      "text/plain": [
       "{'champions': [<peas.methods.neat.NEATGenotype at 0x7f27b46e5d10>,\n",
       "  <peas.methods.neat.NEATGenotype at 0x7f27b46e5cd0>],\n",
       " 'stats': defaultdict(list,\n",
       "             {'fitness_avg': [258.54545454545456, 269.81818181818181],\n",
       "              'fitness_max': [588.0, 514.0],\n",
       "              'fitness_min': [60.0, 60.0],\n",
       "              'solved': [False, False],\n",
       "              'steps_avg': [613.80000000000007, 664.38181818181818],\n",
       "              'steps_max': [824.20000000000005, 976.20000000000005],\n",
       "              'steps_min': [430.0, 456.39999999999998]})}"
      ]
     },
     "execution_count": 15,
     "metadata": {},
     "output_type": "execute_result"
    }
   ],
   "source": [
    "# Create a population\n",
    "pop = NEATPopulation(genotype, popsize=11, max_cores=11)\n",
    "\n",
    "# Run the evolution, tell it to use the task as an evaluator\n",
    "pop.epoch(generations=2, evaluator=game, solution=game)"
   ]
  },
  {
   "cell_type": "code",
   "execution_count": 11,
   "metadata": {
    "collapsed": false
   },
   "outputs": [
    {
     "data": {
      "text/plain": [
       "['__class__',\n",
       " '__delattr__',\n",
       " '__dict__',\n",
       " '__doc__',\n",
       " '__format__',\n",
       " '__getattribute__',\n",
       " '__hash__',\n",
       " '__init__',\n",
       " '__module__',\n",
       " '__new__',\n",
       " '__reduce__',\n",
       " '__reduce_ex__',\n",
       " '__repr__',\n",
       " '__setattr__',\n",
       " '__sizeof__',\n",
       " '__slotnames__',\n",
       " '__str__',\n",
       " '__subclasshook__',\n",
       " '__weakref__',\n",
       " 'bias_as_node',\n",
       " 'conn_genes',\n",
       " 'distance',\n",
       " 'distance_disjoint',\n",
       " 'distance_excess',\n",
       " 'distance_weight',\n",
       " 'feedforward',\n",
       " 'get_network_data',\n",
       " 'initial_weight_stdev',\n",
       " 'inputs',\n",
       " 'mate',\n",
       " 'max_depth',\n",
       " 'max_nodes',\n",
       " 'mutate',\n",
       " 'node_genes',\n",
       " 'outputs',\n",
       " 'prob_add_conn',\n",
       " 'prob_add_node',\n",
       " 'prob_disable_conn',\n",
       " 'prob_mutate_bias',\n",
       " 'prob_mutate_response',\n",
       " 'prob_mutate_type',\n",
       " 'prob_mutate_weight',\n",
       " 'prob_reenable_conn',\n",
       " 'prob_reenable_parent',\n",
       " 'prob_reset_weight',\n",
       " 'response_default',\n",
       " 'stats',\n",
       " 'stdev_mutate_bias',\n",
       " 'stdev_mutate_response',\n",
       " 'stdev_mutate_weight',\n",
       " 'types',\n",
       " 'visualize',\n",
       " 'weight_range']"
      ]
     },
     "execution_count": 11,
     "metadata": {},
     "output_type": "execute_result"
    }
   ],
   "source": [
    "dir(pop.champions[0])"
   ]
  },
  {
   "cell_type": "markdown",
   "metadata": {},
   "source": [
    "# Adjusting image"
   ]
  },
  {
   "cell_type": "code",
   "execution_count": 11,
   "metadata": {
    "collapsed": false
   },
   "outputs": [],
   "source": [
    "observation, reward, done, info = game.env.step(0)"
   ]
  },
  {
   "cell_type": "code",
   "execution_count": 12,
   "metadata": {
    "collapsed": true
   },
   "outputs": [],
   "source": [
    "from scipy.misc import imsave"
   ]
  },
  {
   "cell_type": "code",
   "execution_count": 13,
   "metadata": {
    "collapsed": false
   },
   "outputs": [
    {
     "ename": "IndexError",
     "evalue": "too many indices for array",
     "output_type": "error",
     "traceback": [
      "\u001b[1;31m---------------------------------------------------------------------------\u001b[0m",
      "\u001b[1;31mIndexError\u001b[0m                                Traceback (most recent call last)",
      "\u001b[1;32m<ipython-input-13-919108a9096c>\u001b[0m in \u001b[0;36m<module>\u001b[1;34m()\u001b[0m\n\u001b[1;32m----> 1\u001b[1;33m \u001b[0mframe\u001b[0m \u001b[1;33m=\u001b[0m \u001b[0mobservation\u001b[0m\u001b[1;33m[\u001b[0m\u001b[1;36m50\u001b[0m\u001b[1;33m:\u001b[0m\u001b[1;36m50\u001b[0m\u001b[1;33m+\u001b[0m\u001b[1;36m160\u001b[0m\u001b[1;33m,\u001b[0m \u001b[1;36m30\u001b[0m\u001b[1;33m:\u001b[0m\u001b[1;33m-\u001b[0m\u001b[1;36m30\u001b[0m\u001b[1;33m]\u001b[0m\u001b[1;33m\u001b[0m\u001b[0m\n\u001b[0m\u001b[0;32m      2\u001b[0m \u001b[0mframe\u001b[0m \u001b[1;33m=\u001b[0m \u001b[0mcv2\u001b[0m\u001b[1;33m.\u001b[0m\u001b[0mresize\u001b[0m\u001b[1;33m(\u001b[0m\u001b[0mframe\u001b[0m\u001b[1;33m,\u001b[0m \u001b[1;33m(\u001b[0m\u001b[1;36m84\u001b[0m\u001b[1;33m,\u001b[0m \u001b[1;36m84\u001b[0m\u001b[1;33m)\u001b[0m\u001b[1;33m)\u001b[0m\u001b[1;33m\u001b[0m\u001b[0m\n\u001b[0;32m      3\u001b[0m \u001b[0mframe\u001b[0m \u001b[1;33m=\u001b[0m \u001b[0mcv2\u001b[0m\u001b[1;33m.\u001b[0m\u001b[0mresize\u001b[0m\u001b[1;33m(\u001b[0m\u001b[0mframe\u001b[0m\u001b[1;33m,\u001b[0m \u001b[1;33m(\u001b[0m\u001b[1;36m30\u001b[0m\u001b[1;33m,\u001b[0m \u001b[1;36m30\u001b[0m\u001b[1;33m)\u001b[0m\u001b[1;33m)\u001b[0m\u001b[1;33m\u001b[0m\u001b[0m\n\u001b[0;32m      4\u001b[0m \u001b[0mframe\u001b[0m \u001b[1;33m=\u001b[0m \u001b[0mframe\u001b[0m\u001b[1;33m.\u001b[0m\u001b[0mmean\u001b[0m\u001b[1;33m(\u001b[0m\u001b[1;36m2\u001b[0m\u001b[1;33m)\u001b[0m\u001b[1;33m\u001b[0m\u001b[0m\n\u001b[0;32m      5\u001b[0m \u001b[0mframe\u001b[0m \u001b[1;33m=\u001b[0m \u001b[0mframe\u001b[0m\u001b[1;33m.\u001b[0m\u001b[0mastype\u001b[0m\u001b[1;33m(\u001b[0m\u001b[0mnp\u001b[0m\u001b[1;33m.\u001b[0m\u001b[0mfloat32\u001b[0m\u001b[1;33m)\u001b[0m\u001b[1;33m\u001b[0m\u001b[0m\n",
      "\u001b[1;31mIndexError\u001b[0m: too many indices for array"
     ]
    }
   ],
   "source": [
    "frame = observation[50:50+160, 30:-30]\n",
    "frame = cv2.resize(frame, (84, 84))\n",
    "frame = cv2.resize(frame, (30, 30))\n",
    "frame = frame.mean(2)\n",
    "frame = frame.astype(np.float32)\n",
    "frame *= (1.0 / 255.0)"
   ]
  }
 ],
 "metadata": {
  "kernelspec": {
   "display_name": "Python 2",
   "language": "python",
   "name": "python2"
  },
  "language_info": {
   "codemirror_mode": {
    "name": "ipython",
    "version": 2
   },
   "file_extension": ".py",
   "mimetype": "text/x-python",
   "name": "python",
   "nbconvert_exporter": "python",
   "pygments_lexer": "ipython2",
   "version": "2.7.9"
  }
 },
 "nbformat": 4,
 "nbformat_minor": 0
}
