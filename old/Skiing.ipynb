{
 "cells": [
  {
   "cell_type": "markdown",
   "metadata": {},
   "source": [
    "Playing ATARI-ram games using python-neat and convolutional autoencoder"
   ]
  },
  {
   "cell_type": "markdown",
   "metadata": {},
   "source": [
    "# Import"
   ]
  },
  {
   "cell_type": "code",
   "execution_count": 1,
   "metadata": {
    "collapsed": true
   },
   "outputs": [],
   "source": [
    "from time import time\n",
    "import numpy as np\n",
    "import gym\n",
    "from gym import wrappers\n",
    "from __future__ import print_function\n",
    "import os\n",
    "%matplotlib inline\n",
    "import neat\n",
    "import visualize\n",
    "os.environ['DISPLAY']=':0'\n",
    "\n",
    "from six.moves import cPickle as pickle\n",
    "import gym\n",
    "import numpy as np\n",
    "import json\n",
    "from object_detection import *\n",
    "from skimage.transform import resize\n",
    "from skimage.color import rgb2gray\n",
    "import multiprocessing\n",
    "from multiprocessing.reduction import reduce_connection\n",
    "from hashlib import sha256\n",
    "import SharedArray as sa"
   ]
  },
  {
   "cell_type": "code",
   "execution_count": 2,
   "metadata": {
    "collapsed": true
   },
   "outputs": [],
   "source": [
    "from time import clock"
   ]
  },
  {
   "cell_type": "markdown",
   "metadata": {},
   "source": [
    "# Define config"
   ]
  },
  {
   "cell_type": "code",
   "execution_count": 3,
   "metadata": {
    "collapsed": true
   },
   "outputs": [],
   "source": [
    "fc_config_filename = 'fc.config'\n",
    "game_name = 'Skiing'\n",
    "game_version = 'v0'\n",
    "game = game_name + '-' + game_version\n",
    "num_evaluations = 1\n",
    "num_cores = 11\n",
    "population_size = 60\n",
    "encoder_filename = './data/{}_Encoder_08_02'.format(game_name)\n",
    "cpu_percent = 0.4"
   ]
  },
  {
   "cell_type": "markdown",
   "metadata": {},
   "source": [
    "# Create environment"
   ]
  },
  {
   "cell_type": "code",
   "execution_count": 4,
   "metadata": {
    "collapsed": false
   },
   "outputs": [
    {
     "name": "stderr",
     "output_type": "stream",
     "text": [
      "[2017-02-10 10:41:51,455] Making new env: Skiing-v0\n"
     ]
    }
   ],
   "source": [
    "env = gym.make(game)"
   ]
  },
  {
   "cell_type": "markdown",
   "metadata": {},
   "source": [
    "# Object detection features (frame -> lowres)"
   ]
  },
  {
   "cell_type": "code",
   "execution_count": 6,
   "metadata": {
    "collapsed": false
   },
   "outputs": [],
   "source": [
    "# fit detector and save\n",
    "odf = ObjectDetectionFeatures2(env)\n",
    "#odf_filename = 'odf-' + game + '.config'\n",
    "#pickle.dump(odf, open(odf_filename, 'wb'))"
   ]
  },
  {
   "cell_type": "code",
   "execution_count": 7,
   "metadata": {
    "collapsed": false
   },
   "outputs": [],
   "source": [
    "# load detector\n",
    "#odf = pickle.load(open(odf_filename, 'rb'))"
   ]
  },
  {
   "cell_type": "code",
   "execution_count": 5,
   "metadata": {
    "collapsed": false
   },
   "outputs": [],
   "source": [
    "# transform for detector\n",
    "output_shape = (60, 60)\n",
    "process_image = lambda x: (resize(odf.get_simple_image(x), output_shape, order=0) * 255).astype('uint8')\n",
    "#process_image = lambda x: (np.random.rand(60,60))"
   ]
  },
  {
   "cell_type": "markdown",
   "metadata": {},
   "source": [
    "# Create neat-python population"
   ]
  },
  {
   "cell_type": "code",
   "execution_count": 6,
   "metadata": {
    "collapsed": false
   },
   "outputs": [],
   "source": [
    "# Load configuration.\n",
    "config_initial = neat.Config(neat.DefaultGenome, neat.DefaultReproduction,\n",
    "                             neat.DefaultSpeciesSet, neat.DefaultStagnation, fc_config_filename)\n",
    "\n",
    "config_initial.genome_config.num_inputs = 64 #env.observation_space.shape[0]\n",
    "config_initial.genome_config.num_outputs = env.action_space.n\n",
    "config_initial.pop_size = population_size"
   ]
  },
  {
   "cell_type": "code",
   "execution_count": 7,
   "metadata": {
    "collapsed": false
   },
   "outputs": [],
   "source": [
    "game_fc_config_filename = 'fc-' + game + '.config'\n",
    "\n",
    "config_initial.save(game_fc_config_filename)\n",
    "\n",
    "config = neat.Config(neat.DefaultGenome, neat.DefaultReproduction,\n",
    "                     neat.DefaultSpeciesSet, neat.DefaultStagnation, game_fc_config_filename)\n",
    "\n",
    "# Create the population, which is the top-level object for a NEAT run.\n",
    "p = neat.Population(config)"
   ]
  },
  {
   "cell_type": "markdown",
   "metadata": {},
   "source": [
    "# Add reporters"
   ]
  },
  {
   "cell_type": "code",
   "execution_count": 8,
   "metadata": {
    "collapsed": true
   },
   "outputs": [],
   "source": [
    "# Add a stdout reporter to show progress in the terminal.\n",
    "p.add_reporter(neat.StdOutReporter())\n",
    "stats = neat.StatisticsReporter()\n",
    "p.add_reporter(stats)\n",
    "p.add_reporter(neat.Checkpointer(5))"
   ]
  },
  {
   "cell_type": "markdown",
   "metadata": {},
   "source": [
    "# Stuff for pipes"
   ]
  },
  {
   "cell_type": "code",
   "execution_count": 9,
   "metadata": {
    "collapsed": true
   },
   "outputs": [],
   "source": [
    "def compress_pipe(p):\n",
    "    pp = pickle.dumps(reduce_connection(p))\n",
    "    return(pp)\n",
    "def decompress_pipe(pp):\n",
    "    upw = pickle.loads(pp)\n",
    "    pp = upw[0](upw[1][0],upw[1][1],upw[1][2])\n",
    "    return(pp)"
   ]
  },
  {
   "cell_type": "markdown",
   "metadata": {},
   "source": [
    "# Spawn cuda conv autoencoder"
   ]
  },
  {
   "cell_type": "code",
   "execution_count": 10,
   "metadata": {
    "collapsed": false
   },
   "outputs": [
    {
     "ename": "NameError",
     "evalue": "name 'cuda_process_p' is not defined",
     "output_type": "error",
     "traceback": [
      "\u001b[1;31m---------------------------------------------------------------------------\u001b[0m",
      "\u001b[1;31mNameError\u001b[0m                                 Traceback (most recent call last)",
      "\u001b[1;32m<ipython-input-10-dc890e6aa8ac>\u001b[0m in \u001b[0;36m<module>\u001b[1;34m()\u001b[0m\n\u001b[1;32m----> 1\u001b[1;33m \u001b[0mcuda_process_p\u001b[0m\u001b[1;33m.\u001b[0m\u001b[0mterminate\u001b[0m\u001b[1;33m(\u001b[0m\u001b[1;33m)\u001b[0m\u001b[1;33m\u001b[0m\u001b[0m\n\u001b[0m\u001b[0;32m      2\u001b[0m \u001b[0mcuda_process_p\u001b[0m\u001b[1;33m.\u001b[0m\u001b[0mjoin\u001b[0m\u001b[1;33m(\u001b[0m\u001b[1;33m)\u001b[0m\u001b[1;33m\u001b[0m\u001b[0m\n",
      "\u001b[1;31mNameError\u001b[0m: name 'cuda_process_p' is not defined"
     ]
    }
   ],
   "source": [
    "cuda_process_p.terminate()\n",
    "cuda_process_p.join()"
   ]
  },
  {
   "cell_type": "code",
   "execution_count": 11,
   "metadata": {
    "collapsed": true
   },
   "outputs": [],
   "source": [
    "m = multiprocessing.Manager()\n",
    "cuda_q = m.Queue()"
   ]
  },
  {
   "cell_type": "code",
   "execution_count": 12,
   "metadata": {
    "collapsed": false
   },
   "outputs": [
    {
     "name": "stdout",
     "output_type": "stream",
     "text": [
      "Importing keras...\n"
     ]
    },
    {
     "name": "stderr",
     "output_type": "stream",
     "text": [
      "Using Theano backend.\n"
     ]
    }
   ],
   "source": [
    "def cuda_process():\n",
    "    print(\"Importing keras...\")\n",
    "    import os    \n",
    "    os.environ['THEANO_FLAGS'] = \"device=gpu1\"\n",
    "    from keras.models import model_from_json\n",
    "    from keras import backend as K\n",
    "    K.set_image_dim_ordering('th')\n",
    "    \n",
    "    print(\"Loading GPU encoder...\")\n",
    "    \n",
    "    with open(encoder_filename + '.txt', 'r') as model_file:\n",
    "        gpu_encoder = model_from_json(json.loads(next(model_file)))\n",
    "\n",
    "    gpu_encoder.load_weights(encoder_filename + '.h5')\n",
    "    \n",
    "    print(\"Listening\")\n",
    "    global cuda_q\n",
    "    while True:\n",
    "        [sn_frame, sn_features, p] = cuda_q.get(block = True)\n",
    "        fr = sa.attach(sn_frame)\n",
    "        ft = sa.attach(sn_features)\n",
    "        p = decompress_pipe(p)\n",
    "        \n",
    "        try:\n",
    "            ft[:] = gpu_encoder.predict(np.array([fr]))[0]\n",
    "        except:\n",
    "            ft[:] = np.zeros(64)\n",
    "\n",
    "        try:\n",
    "            p.send(' ')\n",
    "        except:\n",
    "            continue\n",
    "        \n",
    "cuda_process_p = multiprocessing.Process(target = cuda_process, args = ())\n",
    "cuda_process_p.daemon = True\n",
    "cuda_process_p.start()"
   ]
  },
  {
   "cell_type": "markdown",
   "metadata": {},
   "source": [
    "# Open CPU encoder"
   ]
  },
  {
   "cell_type": "code",
   "execution_count": 16,
   "metadata": {
    "collapsed": false
   },
   "outputs": [
    {
     "name": "stderr",
     "output_type": "stream",
     "text": [
      "Using Theano backend.\n"
     ]
    },
    {
     "name": "stdout",
     "output_type": "stream",
     "text": [
      "Loading CPU encoder...\n"
     ]
    }
   ],
   "source": [
    "os.environ['THEANO_FLAGS'] = \"device=cpu\"\n",
    "from keras.models import model_from_json\n",
    "from keras import backend as K\n",
    "K.set_image_dim_ordering('th')\n",
    "\n",
    "print(\"Loading CPU encoder...\")\n",
    "\n",
    "with open(encoder_filename + '.txt', 'r') as model_file:\n",
    "    cpu_encoder = model_from_json(json.loads(next(model_file)))\n",
    "\n",
    "cpu_encoder.load_weights(encoder_filename + '.h5')"
   ]
  },
  {
   "cell_type": "markdown",
   "metadata": {},
   "source": [
    "# Define fitness via game score"
   ]
  },
  {
   "cell_type": "code",
   "execution_count": 17,
   "metadata": {
    "collapsed": false
   },
   "outputs": [],
   "source": [
    "buf = []\n",
    "use_gpu = False\n",
    "shared_name_frame = None\n",
    "shared_name_features = None\n",
    "shared_array_frame = None\n",
    "shared_array_features = None\n",
    "\n",
    "def init_shared(obj):\n",
    "    global shared_name_frame, shared_name_features, shared_array_frame, shared_array_features\n",
    "    h = sha256(obj.__str__())\n",
    "    seed = np.frombuffer(h.digest(), dtype='uint32')\n",
    "    rstate = np.random.RandomState(seed)\n",
    "    \n",
    "    shared_name_frame = \"shm://\" + str(os.getpid()) + '_frame' + str(seed[0])\n",
    "    shared_name_features = \"shm://\" + str(os.getpid()) + '_features' + str(seed[0])\n",
    "\n",
    "    try:\n",
    "        sa.delete(shared_name_frame[6:])\n",
    "    except:\n",
    "        print('-')\n",
    "    try:\n",
    "        sa.delete(shared_name_features[6:])\n",
    "    except:\n",
    "        print('s')\n",
    "    \n",
    "    shared_array_frame = sa.create(shared_name_frame, (3, 60, 60))\n",
    "    shared_array_features = sa.create(shared_name_features, (64))\n",
    "\n",
    "def get_features_cpu(buf):\n",
    "    return(cpu_encoder.predict(np.array([buf]))[0])\n",
    "\n",
    "def get_features_gpu(buf):\n",
    "    global cuda_q\n",
    "    a, b = multiprocessing.Pipe()\n",
    "    b = compress_pipe(b)\n",
    "    shared_array_frame[:] = np.array(buf)\n",
    "    cuda_q.put([shared_name_frame, shared_name_features, b])\n",
    "    a.recv()\n",
    "    return(shared_array_features)\n",
    "\n",
    "def get_features(buf):\n",
    "    #global use_gpu\n",
    "    \n",
    "    s = np.random.rand(1)[0]\n",
    "    use_gpu = (s > cpu_percent)\n",
    "    \n",
    "    if use_gpu:\n",
    "        return(get_features_gpu(buf))\n",
    "    return(get_features_cpu(buf))\n",
    "\n",
    "def transform_observation(observation):\n",
    "    global buf\n",
    "\n",
    "    image = process_image(env.ale.getScreenGrayscale()[:, :, 0])\n",
    "    if len(buf) < 3:\n",
    "        buf.append(image)\n",
    "        buf.append(image)\n",
    "        buf.append(image)\n",
    "    else:\n",
    "        buf.pop(0)\n",
    "        buf.append(image)\n",
    "\n",
    "    features = get_features(buf)\n",
    "    return features\n",
    "\n",
    "# a = argmax_a Q(s,a)\n",
    "def predict_action(observation, network):\n",
    "    observation = transform_observation(observation)\n",
    "    output = network.activate(observation)\n",
    "    action = np.argmax(output)\n",
    "    return(action)\n",
    "\n",
    "# play num_evaluations games, take mean\n",
    "def evaluate_network(env, network):\n",
    "    rewards = []\n",
    "    i = 0\n",
    "    while i < num_evaluations:\n",
    "        rewards += [get_reward(env, network)]\n",
    "        i += 1\n",
    "\n",
    "    res = np.array(rewards).mean()\n",
    "    return res\n",
    "\n",
    "# play 1 game with network\n",
    "def get_reward(env, network):\n",
    "    global buf\n",
    "    buf = []\n",
    "    observation = env.reset()\n",
    "    done = False\n",
    "    iteration, total_reward = 0, 0\n",
    "        \n",
    "    while not done:\n",
    "        #env.render()\n",
    "        action = predict_action(observation, network)\n",
    "        observation, reward, done, info = env.step(action)\n",
    "        total_reward += reward\n",
    "\n",
    "        #if iteration % 500 == 0:\n",
    "        #    print(str(iteration))\n",
    "\n",
    "        if total_reward < -12000 or iteration >= 8000:\n",
    "            break\n",
    "\n",
    "        iteration += 1\n",
    "        \n",
    "    return total_reward\n",
    "\n",
    "def evaluate_genome(genome, config):\n",
    "    init_shared(genome)\n",
    "    network = neat.nn.FeedForwardNetwork.create(genome, config)\n",
    "    fitness = evaluate_network(env, network)\n",
    "    return fitness\n",
    "\n",
    "evaluator = neat.parallel.ParallelEvaluator(num_workers = num_cores, eval_function = evaluate_genome, timeout = None)"
   ]
  },
  {
   "cell_type": "code",
   "execution_count": 18,
   "metadata": {
    "collapsed": false
   },
   "outputs": [],
   "source": [
    "#%timeit -n1 print(evaluate_genome(p.species.get_species(1).members[1], config))"
   ]
  },
  {
   "cell_type": "markdown",
   "metadata": {},
   "source": [
    "# Run evolution"
   ]
  },
  {
   "cell_type": "code",
   "execution_count": null,
   "metadata": {
    "collapsed": false,
    "scrolled": true
   },
   "outputs": [
    {
     "name": "stdout",
     "output_type": "stream",
     "text": [
      "\n",
      " ****** Running generation 0 ****** \n",
      "\n",
      "Population's average fitness: -10797.91667 stdev: 1602.34915\n",
      "Best fitness: -9013.00000 - size: (8, 512) - species 1 - id 2\n",
      "Species length: 1 totaling 60 individuals\n",
      "Species no improv: {1: 0}\n",
      "Average adjusted fitness: 0.741\n",
      "Spawn amounts: [60]\n",
      "Species fitness  : [0.7406021411616529]\n",
      "Mean genetic distance 1.13228420648, std dev 0.137559609654\n",
      "Total extinctions: 0\n",
      "Generation time: 1035.596 sec\n",
      "Saving checkpoint to neat-checkpoint-0\n",
      "\n",
      " ****** Running generation 1 ****** \n",
      "\n",
      "Population's average fitness: -10045.86667 stdev: 1713.08026\n",
      "Best fitness: -9013.00000 - size: (8, 512) - species 1 - id 2\n",
      "Species length: 1 totaling 60 individuals\n",
      "Species no improv: {1: 0}\n",
      "Average adjusted fitness: 0.850\n",
      "Spawn amounts: [60]\n",
      "Species fitness  : [0.84989584847163691]\n",
      "Mean genetic distance 1.25833458452, std dev 0.182277822776\n",
      "Total extinctions: 0\n",
      "Generation time: 785.711 sec (910.653 average)\n",
      "Saving checkpoint to neat-checkpoint-1\n",
      "\n",
      " ****** Running generation 2 ****** \n",
      "\n",
      "Population's average fitness: -9461.45000 stdev: 1067.71152\n",
      "Best fitness: -9011.00000 - size: (8, 445) - species 1 - id 134\n",
      "Species length: 1 totaling 60 individuals\n",
      "Species no improv: {1: 0}\n",
      "Average adjusted fitness: 0.850\n",
      "Spawn amounts: [60]\n",
      "Species fitness  : [0.84959933222036699]\n",
      "Mean genetic distance 1.55824715444, std dev 0.326396768322\n",
      "Total extinctions: 0\n",
      "Generation time: 662.063 sec (827.790 average)\n",
      "Saving checkpoint to neat-checkpoint-2\n",
      "\n",
      " ****** Running generation 3 ****** \n",
      "\n",
      "Population's average fitness: -9597.58333 stdev: 1288.80864\n",
      "Best fitness: -7521.00000 - size: (9, 505) - species 1 - id 202\n",
      "Species length: 2 totaling 60 individuals\n",
      "Species no improv: {1: 1, 2: 0}\n",
      "Average adjusted fitness: 0.683\n",
      "Spawn amounts: [49, 11]\n",
      "Species fitness  : [0.7134911562619074, 0.65163533751055402]\n",
      "Mean genetic distance 1.53569331001, std dev 0.206075284598\n",
      "Total extinctions: 0\n",
      "Generation time: 671.508 sec (788.720 average)\n",
      "Saving checkpoint to neat-checkpoint-3\n",
      "\n",
      " ****** Running generation 4 ****** \n",
      "\n",
      "Population's average fitness: -9479.40000 stdev: 1320.31305\n",
      "Best fitness: -7521.00000 - size: (9, 505) - species 2 - id 202\n",
      "Species length: 2 totaling 60 individuals\n",
      "Species no improv: {1: 0, 2: 0}\n",
      "Average adjusted fitness: 0.782\n",
      "Spawn amounts: [23, 37]\n",
      "Species fitness  : [0.80954867153962173, 0.75439726186332512]\n",
      "Mean genetic distance 1.60541100227, std dev 0.165254361258\n",
      "Total extinctions: 0\n",
      "Generation time: 687.267 sec (768.429 average)\n",
      "Saving checkpoint to neat-checkpoint-4\n",
      "\n",
      " ****** Running generation 5 ****** \n",
      "\n",
      "Population's average fitness: -9890.06667 stdev: 1693.99019\n",
      "Best fitness: -9011.00000 - size: (8, 502) - species 1 - id 294\n",
      "Species length: 2 totaling 60 individuals\n",
      "Species no improv: {1: 1, 2: 1}\n",
      "Average adjusted fitness: 0.879\n",
      "Spawn amounts: [35, 25]\n",
      "Species fitness  : [0.85349870390053295, 0.90473234451151063]\n",
      "Mean genetic distance 1.62593612736, std dev 0.214890668349\n",
      "Total extinctions: 0\n",
      "Generation time: 672.616 sec (752.460 average)\n",
      "Saving checkpoint to neat-checkpoint-5\n",
      "\n",
      " ****** Running generation 6 ****** \n",
      "\n",
      "Population's average fitness: -9732.21667 stdev: 1454.47873\n",
      "Best fitness: -9011.00000 - size: (9, 505) - species 1 - id 202\n",
      "Species length: 2 totaling 60 individuals\n",
      "Species no improv: {1: 2, 2: 2}\n",
      "Average adjusted fitness: 0.896\n",
      "Spawn amounts: [32, 28]\n",
      "Species fitness  : [0.90799591493451881, 0.88341107489415904]\n",
      "Mean genetic distance 1.5728270016, std dev 0.258237352825\n",
      "Total extinctions: 0\n",
      "Generation time: 745.792 sec (751.508 average)\n",
      "Saving checkpoint to neat-checkpoint-6\n",
      "\n",
      " ****** Running generation 7 ****** \n",
      "\n",
      "Population's average fitness: -9663.05000 stdev: 1453.84189\n",
      "Best fitness: -9011.00000 - size: (10, 503) - species 1 - id 441\n",
      "Species length: 2 totaling 60 individuals\n",
      "Species no improv: {1: 3, 2: 0}\n",
      "Average adjusted fitness: 0.927\n",
      "Spawn amounts: [46, 14]\n",
      "Species fitness  : [0.89071504673349788, 0.96347280739987418]\n",
      "Mean genetic distance 1.68586400928, std dev 0.214516404294\n",
      "Total extinctions: 0\n",
      "Generation time: 638.216 sec (737.346 average)\n",
      "Saving checkpoint to neat-checkpoint-7\n",
      "\n",
      " ****** Running generation 8 ****** \n",
      "\n",
      "Population's average fitness: -9243.46667 stdev: 889.21556\n",
      "Best fitness: -7521.00000 - size: (8, 439) - species 1 - id 462\n",
      "Species length: 3 totaling 60 individuals\n",
      "Species no improv: {1: 0, 2: 1, 3: 0}\n",
      "Average adjusted fitness: 0.627\n",
      "Spawn amounts: [33, 21, 5]\n",
      "Species fitness  : [0.64321803342401851, 0.56942585155436543, 0.66711289602855872]\n",
      "Mean genetic distance 1.58912012194, std dev 0.222798489818\n",
      "Total extinctions: 0\n",
      "Generation time: 731.772 sec (736.727 average)\n",
      "Saving checkpoint to neat-checkpoint-8\n",
      "\n",
      " ****** Running generation 9 ****** \n",
      "\n",
      "Population's average fitness: -9489.42373 stdev: 1087.00353\n",
      "Best fitness: -7520.00000 - size: (9, 440) - species 1 - id 514\n",
      "Species length: 3 totaling 59 individuals\n",
      "Species no improv: {1: 1, 2: 2, 3: 1}\n",
      "Average adjusted fitness: 0.550\n",
      "Spawn amounts: [28, 13, 19]\n",
      "Species fitness  : [0.58826605850680758, 0.43065834447912005, 0.63018279090503793]\n",
      "Mean genetic distance 1.56061987051, std dev 0.237699714432\n",
      "Total extinctions: 0\n",
      "Generation time: 717.358 sec (734.790 average)\n",
      "Saving checkpoint to neat-checkpoint-9\n",
      "\n",
      " ****** Running generation 10 ****** \n",
      "\n",
      "Population's average fitness: -9456.10000 stdev: 1441.33309\n",
      "Best fitness: -9011.00000 - size: (9, 440) - species 3 - id 514\n",
      "Species length: 3 totaling 60 individuals\n",
      "Species no improv: {1: 2, 2: 3, 3: 2}\n",
      "Average adjusted fitness: 0.926\n",
      "Spawn amounts: [11, 10, 38]\n",
      "Species fitness  : [0.94867460013471916, 0.88022422393336253, 0.94924039250641024]\n",
      "Mean genetic distance 1.52893054865, std dev 0.241864667216\n",
      "Total extinctions: 0\n",
      "Generation time: 550.863 sec (686.317 average)\n",
      "Saving checkpoint to neat-checkpoint-10\n",
      "\n",
      " ****** Running generation 11 ****** \n",
      "\n",
      "Population's average fitness: -9363.37288 stdev: 922.44827\n",
      "Best fitness: -9011.00000 - size: (9, 499) - species 1 - id 561\n",
      "Species length: 3 totaling 59 individuals\n",
      "Species no improv: {1: 3, 2: 0, 3: 3}\n",
      "Average adjusted fitness: 0.898\n",
      "Spawn amounts: [26, 16, 18]\n",
      "Species fitness  : [0.83010765068217141, 0.92807059384688795, 0.93702003338898165]\n",
      "Mean genetic distance 1.4844807599, std dev 0.24986279207\n",
      "Total extinctions: 0\n",
      "Generation time: 637.295 sec (671.475 average)\n",
      "Saving checkpoint to neat-checkpoint-11\n",
      "\n",
      " ****** Running generation 12 ****** \n",
      "\n",
      "Population's average fitness: -9962.01667 stdev: 1756.41483\n",
      "Best fitness: -7520.00000 - size: (9, 505) - species 2 - id 202\n",
      "Species length: 3 totaling 60 individuals\n",
      "Species no improv: {1: 4, 2: 1, 3: 4}\n",
      "Average adjusted fitness: 0.711\n",
      "Spawn amounts: [17, 15, 28]\n",
      "Species fitness  : [0.67692328105511756, 0.74607300986570158, 0.71101026988297111]\n",
      "Mean genetic distance 1.50780840491, std dev 0.291820523816\n",
      "Total extinctions: 0\n",
      "Generation time: 706.783 sec (675.947 average)\n",
      "Saving checkpoint to neat-checkpoint-12\n",
      "\n",
      " ****** Running generation 13 ****** \n",
      "\n",
      "Population's average fitness: -9323.85000 stdev: 996.84681\n",
      "Best fitness: -7521.00000 - size: (9, 505) - species 2 - id 202\n",
      "Species length: 3 totaling 60 individuals\n",
      "Species no improv: {1: 0, 2: 2, 3: 5}\n",
      "Average adjusted fitness: 0.614\n",
      "Spawn amounts: [11, 27, 22]\n",
      "Species fitness  : [0.66726137377341654, 0.56630718746017605, 0.6093162161113912]\n",
      "Mean genetic distance 1.59799135831, std dev 0.346962716169\n",
      "Total extinctions: 0\n",
      "Generation time: 664.117 sec (675.208 average)\n",
      "Saving checkpoint to neat-checkpoint-13\n",
      "\n",
      " ****** Running generation 14 ****** \n",
      "\n",
      "Population's average fitness: -9363.50000 stdev: 963.86879\n",
      "Best fitness: -8548.00000 - size: (10, 438) - species 1 - id 757\n",
      "Species length: 3 totaling 60 individuals\n",
      "Species no improv: {1: 1, 2: 3, 3: 6}\n",
      "Average adjusted fitness: 0.772\n",
      "Spawn amounts: [16, 27, 17]\n",
      "Species fitness  : [0.77174837546354558, 0.73617078410311465, 0.80784653942548668]\n",
      "Mean genetic distance 1.54219057719, std dev 0.234118396107\n",
      "Total extinctions: 0\n",
      "Generation time: 718.527 sec (678.334 average)\n",
      "Saving checkpoint to neat-checkpoint-14\n",
      "\n",
      " ****** Running generation 15 ****** \n",
      "\n",
      "Population's average fitness: -9880.80000 stdev: 1610.08881\n",
      "Best fitness: -9011.00000 - size: (10, 492) - species 2 - id 835\n",
      "Species length: 3 totaling 60 individuals\n",
      "Species no improv: {1: 2, 2: 4, 3: 7}\n",
      "Average adjusted fitness: 0.852\n",
      "Spawn amounts: [8, 36, 16]\n",
      "Species fitness  : [0.77220850081521308, 0.89168759469500425, 0.89118117100101701]\n",
      "Mean genetic distance 1.71092809343, std dev 0.311945847538\n",
      "Total extinctions: 0\n",
      "Generation time: 727.996 sec (683.872 average)\n",
      "Saving checkpoint to neat-checkpoint-15\n",
      "\n",
      " ****** Running generation 16 ****** \n",
      "\n",
      "Population's average fitness: -9053.25000 stdev: 445.44452\n",
      "Best fitness: -7521.00000 - size: (9, 505) - species 3 - id 202\n",
      "Species length: 4 totaling 60 individuals\n",
      "Species no improv: {1: 3, 2: 0, 3: 0, 4: 0}\n",
      "Average adjusted fitness: 0.663\n",
      "Spawn amounts: [25, 14, 12, 9]\n",
      "Species fitness  : [0.64226190476190492, 0.66700148809523796, 0.69724025974025983, 0.64640624999999996]\n",
      "Mean genetic distance 1.55156625975, std dev 0.298215279662\n",
      "Total extinctions: 0\n",
      "Generation time: 565.627 sec (665.855 average)\n",
      "Saving checkpoint to neat-checkpoint-16\n",
      "\n",
      " ****** Running generation 17 ****** \n",
      "\n",
      "Population's average fitness: -9501.35000 stdev: 1333.64500\n",
      "Best fitness: -7520.00000 - size: (9, 505) - species 2 - id 202\n",
      "Species length: 4 totaling 60 individuals\n",
      "Species no improv: {1: 4, 2: 1, 3: 1, 4: 1}\n",
      "Average adjusted fitness: 0.776\n",
      "Spawn amounts: [23, 19, 5, 13]\n",
      "Species fitness  : [0.74581092386757508, 0.79004351830370023, 0.82162065256364292, 0.7449418634431183]\n",
      "Mean genetic distance 1.63434882556, std dev 0.33777805768\n",
      "Total extinctions: 0\n",
      "Generation time: 721.700 sec (674.204 average)\n",
      "Saving checkpoint to neat-checkpoint-17\n",
      "\n",
      " ****** Running generation 18 ****** \n",
      "\n",
      "Population's average fitness: -9216.51667 stdev: 801.81861\n",
      "Best fitness: -7520.00000 - size: (9, 505) - species 4 - id 202\n",
      "Species length: 4 totaling 60 individuals\n",
      "Species no improv: {1: 5, 2: 2, 3: 2, 4: 2}\n",
      "Average adjusted fitness: 0.621\n",
      "Spawn amounts: [22, 6, 10, 22]\n",
      "Species fitness  : [0.64777084262148898, 0.57187440290427349, 0.66723634021895284, 0.59772997473621625]\n",
      "Mean genetic distance 1.76866733892, std dev 0.301031816308\n",
      "Total extinctions: 0\n",
      "Generation time: 548.574 sec (655.884 average)\n",
      "Saving checkpoint to neat-checkpoint-18\n",
      "\n",
      " ****** Running generation 19 ****** \n",
      "\n"
     ]
    }
   ],
   "source": [
    "# Run evolution\n",
    "winner = p.run(evaluator.evaluate, 30)"
   ]
  },
  {
   "cell_type": "code",
   "execution_count": null,
   "metadata": {
    "collapsed": true
   },
   "outputs": [],
   "source": [
    "# Run evolution\n",
    "winner = p.run(evaluator.evaluate, 30)"
   ]
  },
  {
   "cell_type": "markdown",
   "metadata": {},
   "source": [
    "# Print results"
   ]
  },
  {
   "cell_type": "code",
   "execution_count": 16,
   "metadata": {
    "collapsed": false
   },
   "outputs": [
    {
     "ename": "ValueError",
     "evalue": "max() arg is an empty sequence",
     "output_type": "error",
     "traceback": [
      "\u001b[1;31m---------------------------------------------------------------------------\u001b[0m",
      "\u001b[1;31mValueError\u001b[0m                                Traceback (most recent call last)",
      "\u001b[1;32m<ipython-input-16-bcdeb6232f95>\u001b[0m in \u001b[0;36m<module>\u001b[1;34m()\u001b[0m\n\u001b[0;32m      6\u001b[0m \u001b[0mvisualize\u001b[0m\u001b[1;33m.\u001b[0m\u001b[0mdraw_net\u001b[0m\u001b[1;33m(\u001b[0m\u001b[0mconfig\u001b[0m\u001b[1;33m,\u001b[0m \u001b[0mwinner\u001b[0m\u001b[1;33m,\u001b[0m \u001b[0mFalse\u001b[0m\u001b[1;33m)\u001b[0m\u001b[1;33m\u001b[0m\u001b[0m\n\u001b[0;32m      7\u001b[0m \u001b[0mvisualize\u001b[0m\u001b[1;33m.\u001b[0m\u001b[0mplot_stats\u001b[0m\u001b[1;33m(\u001b[0m\u001b[0mstats\u001b[0m\u001b[1;33m,\u001b[0m \u001b[0mylog\u001b[0m \u001b[1;33m=\u001b[0m \u001b[0mFalse\u001b[0m\u001b[1;33m,\u001b[0m \u001b[0mview\u001b[0m \u001b[1;33m=\u001b[0m \u001b[0mFalse\u001b[0m\u001b[1;33m)\u001b[0m\u001b[1;33m\u001b[0m\u001b[0m\n\u001b[1;32m----> 8\u001b[1;33m \u001b[0mvisualize\u001b[0m\u001b[1;33m.\u001b[0m\u001b[0mplot_species\u001b[0m\u001b[1;33m(\u001b[0m\u001b[0mstats\u001b[0m\u001b[1;33m,\u001b[0m \u001b[0mview\u001b[0m \u001b[1;33m=\u001b[0m \u001b[0mFalse\u001b[0m\u001b[1;33m)\u001b[0m\u001b[1;33m\u001b[0m\u001b[0m\n\u001b[0m\u001b[0;32m      9\u001b[0m \u001b[1;33m\u001b[0m\u001b[0m\n\u001b[0;32m     10\u001b[0m \u001b[1;31m#p = neat.Checkpointer.restore_checkpoint('neat-checkpoint-4')\u001b[0m\u001b[1;33m\u001b[0m\u001b[1;33m\u001b[0m\u001b[0m\n",
      "\u001b[1;32m/home/etoestja/dh/neat-python/visualize.pyc\u001b[0m in \u001b[0;36mplot_species\u001b[1;34m(statistics, view, filename)\u001b[0m\n\u001b[0;32m     95\u001b[0m         \u001b[1;32mreturn\u001b[0m\u001b[1;33m\u001b[0m\u001b[0m\n\u001b[0;32m     96\u001b[0m \u001b[1;33m\u001b[0m\u001b[0m\n\u001b[1;32m---> 97\u001b[1;33m     \u001b[0mspecies_sizes\u001b[0m \u001b[1;33m=\u001b[0m \u001b[0mstatistics\u001b[0m\u001b[1;33m.\u001b[0m\u001b[0mget_species_sizes\u001b[0m\u001b[1;33m(\u001b[0m\u001b[1;33m)\u001b[0m\u001b[1;33m\u001b[0m\u001b[0m\n\u001b[0m\u001b[0;32m     98\u001b[0m     \u001b[0mnum_generations\u001b[0m \u001b[1;33m=\u001b[0m \u001b[0mlen\u001b[0m\u001b[1;33m(\u001b[0m\u001b[0mspecies_sizes\u001b[0m\u001b[1;33m)\u001b[0m\u001b[1;33m\u001b[0m\u001b[0m\n\u001b[0;32m     99\u001b[0m     \u001b[0mcurves\u001b[0m \u001b[1;33m=\u001b[0m \u001b[0mnp\u001b[0m\u001b[1;33m.\u001b[0m\u001b[0marray\u001b[0m\u001b[1;33m(\u001b[0m\u001b[0mspecies_sizes\u001b[0m\u001b[1;33m)\u001b[0m\u001b[1;33m.\u001b[0m\u001b[0mT\u001b[0m\u001b[1;33m\u001b[0m\u001b[0m\n",
      "\u001b[1;32m/home/etoestja/venv/lib/python2.7/site-packages/neat/statistics.pyc\u001b[0m in \u001b[0;36mget_species_sizes\u001b[1;34m(self)\u001b[0m\n\u001b[0;32m    123\u001b[0m             \u001b[0mall_species\u001b[0m \u001b[1;33m=\u001b[0m \u001b[0mall_species\u001b[0m\u001b[1;33m.\u001b[0m\u001b[0munion\u001b[0m\u001b[1;33m(\u001b[0m\u001b[0mgen_data\u001b[0m\u001b[1;33m.\u001b[0m\u001b[0mkeys\u001b[0m\u001b[1;33m(\u001b[0m\u001b[1;33m)\u001b[0m\u001b[1;33m)\u001b[0m\u001b[1;33m\u001b[0m\u001b[0m\n\u001b[0;32m    124\u001b[0m \u001b[1;33m\u001b[0m\u001b[0m\n\u001b[1;32m--> 125\u001b[1;33m         \u001b[0mmax_species\u001b[0m \u001b[1;33m=\u001b[0m \u001b[0mmax\u001b[0m\u001b[1;33m(\u001b[0m\u001b[0mall_species\u001b[0m\u001b[1;33m)\u001b[0m\u001b[1;33m\u001b[0m\u001b[0m\n\u001b[0m\u001b[0;32m    126\u001b[0m         \u001b[0mspecies_counts\u001b[0m \u001b[1;33m=\u001b[0m \u001b[1;33m[\u001b[0m\u001b[1;33m]\u001b[0m\u001b[1;33m\u001b[0m\u001b[0m\n\u001b[0;32m    127\u001b[0m         \u001b[1;32mfor\u001b[0m \u001b[0mgen_data\u001b[0m \u001b[1;32min\u001b[0m \u001b[0mself\u001b[0m\u001b[1;33m.\u001b[0m\u001b[0mgeneration_statistics\u001b[0m\u001b[1;33m:\u001b[0m\u001b[1;33m\u001b[0m\u001b[0m\n",
      "\u001b[1;31mValueError\u001b[0m: max() arg is an empty sequence"
     ]
    }
   ],
   "source": [
    "# Display the winning genome.\n",
    "#print('\\nBest genome:\\n{!s}'.format(winner))\n",
    "\n",
    "# Show output of the most fit genome against training data.\n",
    "winner_network = neat.nn.FeedForwardNetwork.create(winner, config)\n",
    "visualize.draw_net(config, winner, False)\n",
    "visualize.plot_stats(stats, ylog = False, view = False)\n",
    "visualize.plot_species(stats, view = False)\n",
    "\n",
    "#p = neat.Checkpointer.restore_checkpoint('neat-checkpoint-4')\n",
    "#p.run(eval_genomes, 10)"
   ]
  },
  {
   "cell_type": "markdown",
   "metadata": {},
   "source": [
    "# Evaluate from checkpoint & send to OpenAI"
   ]
  },
  {
   "cell_type": "code",
   "execution_count": 17,
   "metadata": {
    "collapsed": true
   },
   "outputs": [],
   "source": [
    "def get_winner(p):\n",
    "    max_fitness = -9999999999\n",
    "    best_genome = None\n",
    "    for v in p.population:\n",
    "        genome = p.population[v]\n",
    "        if genome.fitness > max_fitness:\n",
    "            max_fitness = genome.fitness\n",
    "            winner = genome\n",
    "    print(max_fitness)\n",
    "    return(winner)"
   ]
  },
  {
   "cell_type": "code",
   "execution_count": 23,
   "metadata": {
    "collapsed": false
   },
   "outputs": [
    {
     "name": "stdout",
     "output_type": "stream",
     "text": [
      "-9013.0\n",
      "-9011.0\n",
      "-7521.0\n",
      "-7849.0\n",
      "-7521.0\n",
      "-9011.0\n",
      "-9011.0\n",
      "-9011.0\n",
      "-7521.0\n",
      "-9013.0\n",
      "-7521.0\n",
      "-7849.0\n",
      "-7521.0\n",
      "-7521.0\n",
      "-9013.0\n",
      "-9013.0\n",
      "-8856.0\n",
      "-7520.0\n",
      "-9011.0\n",
      "-7520.0\n",
      "-7521.0\n",
      "-7521.0\n",
      "-7526.0\n",
      "-9013.0\n",
      "-9013.0\n",
      "-9013.0\n",
      "-9011.0\n",
      "-7520.0\n",
      "-7521.0\n",
      "-7891.0\n",
      "-7526.0\n",
      "-9013.0\n",
      "-9011.0\n",
      "-9013.0\n",
      "-7520.0\n",
      "-7521.0\n",
      "-9011.0\n",
      "-7520.0\n",
      "-9011.0\n",
      "-9013.0\n",
      "-9011.0\n",
      "-9013.0\n",
      "-7521.0\n",
      "-9011.0\n",
      "-9011.0\n",
      "-7520.0\n",
      "-9013.0\n",
      "-8864.0\n",
      "-9011.0\n",
      "-9011.0\n",
      "-8548.0\n",
      "-9011.0\n",
      "-7520.0\n",
      "-7520.0\n",
      "-7521.0\n",
      "-9013.0\n",
      "-9011.0\n"
     ]
    },
    {
     "ename": "IOError",
     "evalue": "[Errno 2] No such file or directory: ''",
     "output_type": "error",
     "traceback": [
      "\u001b[1;31m---------------------------------------------------------------------------\u001b[0m",
      "\u001b[1;31mIOError\u001b[0m                                   Traceback (most recent call last)",
      "\u001b[1;32m<ipython-input-23-c7470ba58a4e>\u001b[0m in \u001b[0;36m<module>\u001b[1;34m()\u001b[0m\n\u001b[0;32m      1\u001b[0m \u001b[0ms\u001b[0m \u001b[1;33m=\u001b[0m \u001b[1;34m'neat-checkpoint-0 neat-checkpoint-15 neat-checkpoint-21 neat-checkpoint-28 neat-checkpoint-34 neat-checkpoint-40 neat-checkpoint-47 neat-checkpoint-53 neat-checkpoint-8 neat-checkpoint-1 neat-checkpoint-16 neat-checkpoint-22 neat-checkpoint-29 neat-checkpoint-35 neat-checkpoint-41 neat-checkpoint-48 neat-checkpoint-54 neat-checkpoint-9 neat-checkpoint-10 neat-checkpoint-17 neat-checkpoint-23 neat-checkpoint-3 neat-checkpoint-36 neat-checkpoint-42 neat-checkpoint-49 neat-checkpoint-55 neat-checkpoint-11 neat-checkpoint-18 neat-checkpoint-24 neat-checkpoint-30 neat-checkpoint-37 neat-checkpoint-43 neat-checkpoint-5 neat-checkpoint-56 neat-checkpoint-12 neat-checkpoint-19 neat-checkpoint-25 neat-checkpoint-31 neat-checkpoint-38 neat-checkpoint-44 neat-checkpoint-50 neat-checkpoint-57 neat-checkpoint-13 neat-checkpoint-2 neat-checkpoint-26 neat-checkpoint-32 neat-checkpoint-39 neat-checkpoint-45 neat-checkpoint-51 neat-checkpoint-6 neat-checkpoint-14 neat-checkpoint-20 neat-checkpoint-27 neat-checkpoint-33 neat-checkpoint-4 neat-checkpoint-46 neat-checkpoint-7 '\u001b[0m\u001b[1;33m\u001b[0m\u001b[0m\n\u001b[0;32m      2\u001b[0m \u001b[1;32mfor\u001b[0m \u001b[0mx\u001b[0m \u001b[1;32min\u001b[0m \u001b[0ms\u001b[0m\u001b[1;33m.\u001b[0m\u001b[0msplit\u001b[0m\u001b[1;33m(\u001b[0m\u001b[1;34m' '\u001b[0m\u001b[1;33m)\u001b[0m\u001b[1;33m:\u001b[0m\u001b[1;33m\u001b[0m\u001b[0m\n\u001b[1;32m----> 3\u001b[1;33m     \u001b[0mp\u001b[0m \u001b[1;33m=\u001b[0m \u001b[0mneat\u001b[0m\u001b[1;33m.\u001b[0m\u001b[0mCheckpointer\u001b[0m\u001b[1;33m.\u001b[0m\u001b[0mrestore_checkpoint\u001b[0m\u001b[1;33m(\u001b[0m\u001b[0mx\u001b[0m\u001b[1;33m)\u001b[0m\u001b[1;33m\u001b[0m\u001b[0m\n\u001b[0m\u001b[0;32m      4\u001b[0m     \u001b[0mwinner\u001b[0m \u001b[1;33m=\u001b[0m \u001b[0mget_winner\u001b[0m\u001b[1;33m(\u001b[0m\u001b[0mp\u001b[0m\u001b[1;33m)\u001b[0m\u001b[1;33m\u001b[0m\u001b[0m\n",
      "\u001b[1;32m/home/etoestja/venv/lib/python2.7/site-packages/neat/checkpoint.pyc\u001b[0m in \u001b[0;36mrestore_checkpoint\u001b[1;34m(filename)\u001b[0m\n\u001b[0;32m     52\u001b[0m     \u001b[1;32mdef\u001b[0m \u001b[0mrestore_checkpoint\u001b[0m\u001b[1;33m(\u001b[0m\u001b[0mfilename\u001b[0m\u001b[1;33m)\u001b[0m\u001b[1;33m:\u001b[0m\u001b[1;33m\u001b[0m\u001b[0m\n\u001b[0;32m     53\u001b[0m         \u001b[1;34m'''Resumes the simulation from a previous saved point.'''\u001b[0m\u001b[1;33m\u001b[0m\u001b[0m\n\u001b[1;32m---> 54\u001b[1;33m         \u001b[1;32mwith\u001b[0m \u001b[0mgzip\u001b[0m\u001b[1;33m.\u001b[0m\u001b[0mopen\u001b[0m\u001b[1;33m(\u001b[0m\u001b[0mfilename\u001b[0m\u001b[1;33m)\u001b[0m \u001b[1;32mas\u001b[0m \u001b[0mf\u001b[0m\u001b[1;33m:\u001b[0m\u001b[1;33m\u001b[0m\u001b[0m\n\u001b[0m\u001b[0;32m     55\u001b[0m             \u001b[0mgeneration\u001b[0m\u001b[1;33m,\u001b[0m \u001b[0mconfig\u001b[0m\u001b[1;33m,\u001b[0m \u001b[0mpopulation\u001b[0m\u001b[1;33m,\u001b[0m \u001b[0mspecies\u001b[0m\u001b[1;33m,\u001b[0m \u001b[0mrndstate\u001b[0m \u001b[1;33m=\u001b[0m \u001b[0mpickle\u001b[0m\u001b[1;33m.\u001b[0m\u001b[0mload\u001b[0m\u001b[1;33m(\u001b[0m\u001b[0mf\u001b[0m\u001b[1;33m)\u001b[0m\u001b[1;33m\u001b[0m\u001b[0m\n\u001b[0;32m     56\u001b[0m             \u001b[0mrandom\u001b[0m\u001b[1;33m.\u001b[0m\u001b[0msetstate\u001b[0m\u001b[1;33m(\u001b[0m\u001b[0mrndstate\u001b[0m\u001b[1;33m)\u001b[0m\u001b[1;33m\u001b[0m\u001b[0m\n",
      "\u001b[1;32m/usr/lib/python2.7/gzip.pyc\u001b[0m in \u001b[0;36mopen\u001b[1;34m(filename, mode, compresslevel)\u001b[0m\n\u001b[0;32m     32\u001b[0m \u001b[1;33m\u001b[0m\u001b[0m\n\u001b[0;32m     33\u001b[0m     \"\"\"\n\u001b[1;32m---> 34\u001b[1;33m     \u001b[1;32mreturn\u001b[0m \u001b[0mGzipFile\u001b[0m\u001b[1;33m(\u001b[0m\u001b[0mfilename\u001b[0m\u001b[1;33m,\u001b[0m \u001b[0mmode\u001b[0m\u001b[1;33m,\u001b[0m \u001b[0mcompresslevel\u001b[0m\u001b[1;33m)\u001b[0m\u001b[1;33m\u001b[0m\u001b[0m\n\u001b[0m\u001b[0;32m     35\u001b[0m \u001b[1;33m\u001b[0m\u001b[0m\n\u001b[0;32m     36\u001b[0m \u001b[1;32mclass\u001b[0m \u001b[0mGzipFile\u001b[0m\u001b[1;33m(\u001b[0m\u001b[0mio\u001b[0m\u001b[1;33m.\u001b[0m\u001b[0mBufferedIOBase\u001b[0m\u001b[1;33m)\u001b[0m\u001b[1;33m:\u001b[0m\u001b[1;33m\u001b[0m\u001b[0m\n",
      "\u001b[1;32m/usr/lib/python2.7/gzip.pyc\u001b[0m in \u001b[0;36m__init__\u001b[1;34m(self, filename, mode, compresslevel, fileobj, mtime)\u001b[0m\n\u001b[0;32m     92\u001b[0m             \u001b[0mmode\u001b[0m \u001b[1;33m+=\u001b[0m \u001b[1;34m'b'\u001b[0m\u001b[1;33m\u001b[0m\u001b[0m\n\u001b[0;32m     93\u001b[0m         \u001b[1;32mif\u001b[0m \u001b[0mfileobj\u001b[0m \u001b[1;32mis\u001b[0m \u001b[0mNone\u001b[0m\u001b[1;33m:\u001b[0m\u001b[1;33m\u001b[0m\u001b[0m\n\u001b[1;32m---> 94\u001b[1;33m             \u001b[0mfileobj\u001b[0m \u001b[1;33m=\u001b[0m \u001b[0mself\u001b[0m\u001b[1;33m.\u001b[0m\u001b[0mmyfileobj\u001b[0m \u001b[1;33m=\u001b[0m \u001b[0m__builtin__\u001b[0m\u001b[1;33m.\u001b[0m\u001b[0mopen\u001b[0m\u001b[1;33m(\u001b[0m\u001b[0mfilename\u001b[0m\u001b[1;33m,\u001b[0m \u001b[0mmode\u001b[0m \u001b[1;32mor\u001b[0m \u001b[1;34m'rb'\u001b[0m\u001b[1;33m)\u001b[0m\u001b[1;33m\u001b[0m\u001b[0m\n\u001b[0m\u001b[0;32m     95\u001b[0m         \u001b[1;32mif\u001b[0m \u001b[0mfilename\u001b[0m \u001b[1;32mis\u001b[0m \u001b[0mNone\u001b[0m\u001b[1;33m:\u001b[0m\u001b[1;33m\u001b[0m\u001b[0m\n\u001b[0;32m     96\u001b[0m             \u001b[1;31m# Issue #13781: os.fdopen() creates a fileobj with a bogus name\u001b[0m\u001b[1;33m\u001b[0m\u001b[1;33m\u001b[0m\u001b[0m\n",
      "\u001b[1;31mIOError\u001b[0m: [Errno 2] No such file or directory: ''"
     ]
    }
   ],
   "source": [
    "s = 'neat-checkpoint-0 neat-checkpoint-15 neat-checkpoint-21 neat-checkpoint-28 neat-checkpoint-34 neat-checkpoint-40 neat-checkpoint-47 neat-checkpoint-53 neat-checkpoint-8 neat-checkpoint-1 neat-checkpoint-16 neat-checkpoint-22 neat-checkpoint-29 neat-checkpoint-35 neat-checkpoint-41 neat-checkpoint-48 neat-checkpoint-54 neat-checkpoint-9 neat-checkpoint-10 neat-checkpoint-17 neat-checkpoint-23 neat-checkpoint-3 neat-checkpoint-36 neat-checkpoint-42 neat-checkpoint-49 neat-checkpoint-55 neat-checkpoint-11 neat-checkpoint-18 neat-checkpoint-24 neat-checkpoint-30 neat-checkpoint-37 neat-checkpoint-43 neat-checkpoint-5 neat-checkpoint-56 neat-checkpoint-12 neat-checkpoint-19 neat-checkpoint-25 neat-checkpoint-31 neat-checkpoint-38 neat-checkpoint-44 neat-checkpoint-50 neat-checkpoint-57 neat-checkpoint-13 neat-checkpoint-2 neat-checkpoint-26 neat-checkpoint-32 neat-checkpoint-39 neat-checkpoint-45 neat-checkpoint-51 neat-checkpoint-6 neat-checkpoint-14 neat-checkpoint-20 neat-checkpoint-27 neat-checkpoint-33 neat-checkpoint-4 neat-checkpoint-46 neat-checkpoint-7 '\n",
    "for x in s.split(' '):\n",
    "    p = neat.Checkpointer.restore_checkpoint(x)\n",
    "    winner = get_winner(p)"
   ]
  },
  {
   "cell_type": "code",
   "execution_count": 18,
   "metadata": {
    "collapsed": false
   },
   "outputs": [
    {
     "name": "stdout",
     "output_type": "stream",
     "text": [
      "-9013.0\n"
     ]
    }
   ],
   "source": []
  },
  {
   "cell_type": "code",
   "execution_count": null,
   "metadata": {
    "collapsed": false
   },
   "outputs": [],
   "source": [
    "env_eval = gym.make(game)\n",
    "monitor_path = '/tmp/' + game + '-eval'\n",
    "env_eval = wrappers.Monitor(env_eval, monitor_path)\n",
    "def evaluate_with_video(game, network):\n",
    "    for i_episode in range(100):\n",
    "        observation = env_eval.reset()\n",
    "        total_reward = 0\n",
    "        t = 0\n",
    "        while True:\n",
    "            env_eval.render()\n",
    "            action = predict_action(observation, network)\n",
    "            observation, reward, done, info = env_eval.step(action)\n",
    "            total_reward += reward\n",
    "            t += 1\n",
    "            if done:\n",
    "                print(\"Episode finished after {0} timesteps reward = {1}\".format(t+1, total_reward))\n",
    "                break"
   ]
  },
  {
   "cell_type": "code",
   "execution_count": null,
   "metadata": {
    "collapsed": true
   },
   "outputs": [],
   "source": [
    "evaluate_with_video(game, winner_network)"
   ]
  },
  {
   "cell_type": "code",
   "execution_count": null,
   "metadata": {
    "collapsed": true
   },
   "outputs": [],
   "source": [
    "env_eval.close()"
   ]
  },
  {
   "cell_type": "code",
   "execution_count": null,
   "metadata": {
    "collapsed": true
   },
   "outputs": [],
   "source": [
    "gym.upload(monitor_path, api_key='sk_ciz2F0csRzCkpESayoRuug')"
   ]
  },
  {
   "cell_type": "markdown",
   "metadata": {},
   "source": [
    "# Measure performance"
   ]
  },
  {
   "cell_type": "code",
   "execution_count": null,
   "metadata": {
    "collapsed": false
   },
   "outputs": [],
   "source": [
    "# FPS total\n",
    "t_initial = time()\n",
    "env.reset()\n",
    "F = 100\n",
    "buf = []\n",
    "for i in range(F):\n",
    "    action = env.action_space.sample()\n",
    "    observation, reward, done, info = env.step(action)\n",
    "    features = transform_observation(1)\n",
    "t_end = time()\n",
    "print(\"FPS: \" + str(1. * F / (t_end - t_initial)))"
   ]
  },
  {
   "cell_type": "code",
   "execution_count": null,
   "metadata": {
    "collapsed": false
   },
   "outputs": [],
   "source": [
    "# FPS emulator-only\n",
    "t_initial = time()\n",
    "env.reset()\n",
    "F = 100\n",
    "buf = []\n",
    "for i in range(F):\n",
    "    action = env.action_space.sample()\n",
    "    observation, reward, done, info = env.step(action)\n",
    "t_end = time()\n",
    "print(\"FPS: \" + str(1. * F / (t_end - t_initial)))"
   ]
  },
  {
   "cell_type": "code",
   "execution_count": 28,
   "metadata": {
    "collapsed": false
   },
   "outputs": [
    {
     "name": "stdout",
     "output_type": "stream",
     "text": [
      "FPS: 180.967358771\n"
     ]
    }
   ],
   "source": [
    "# FPS OD-only\n",
    "t_initial = time()\n",
    "env.reset()\n",
    "F = 100\n",
    "buf = []\n",
    "for i in range(F):\n",
    "    action = env.action_space.sample()\n",
    "    observation, reward, done, info = env.step(action)\n",
    "    image = process_image(env.ale.getScreenGrayscale()[:, :, 0])\n",
    "    buf = [image,image,image]\n",
    "t_end = time()\n",
    "print(\"FPS: \" + str(1. * F / (t_end - t_initial)))"
   ]
  },
  {
   "cell_type": "code",
   "execution_count": 26,
   "metadata": {
    "collapsed": false
   },
   "outputs": [],
   "source": [
    "init_shared('sdsf')"
   ]
  },
  {
   "cell_type": "code",
   "execution_count": 29,
   "metadata": {
    "collapsed": false
   },
   "outputs": [],
   "source": [
    "for i in range(10):\n",
    "    get_features_gpu(buf)"
   ]
  },
  {
   "cell_type": "code",
   "execution_count": null,
   "metadata": {
    "collapsed": false
   },
   "outputs": [],
   "source": [
    "%timeit get_features_gpu(buf)"
   ]
  },
  {
   "cell_type": "code",
   "execution_count": null,
   "metadata": {
    "collapsed": true
   },
   "outputs": [],
   "source": []
  }
 ],
 "metadata": {
  "kernelspec": {
   "display_name": "Python 2",
   "language": "python",
   "name": "python2"
  },
  "language_info": {
   "codemirror_mode": {
    "name": "ipython",
    "version": 2
   },
   "file_extension": ".py",
   "mimetype": "text/x-python",
   "name": "python",
   "nbconvert_exporter": "python",
   "pygments_lexer": "ipython2",
   "version": "2.7.9"
  }
 },
 "nbformat": 4,
 "nbformat_minor": 0
}
