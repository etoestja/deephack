{
 "cells": [
  {
   "cell_type": "code",
   "execution_count": 1,
   "metadata": {
    "collapsed": false
   },
   "outputs": [],
   "source": [
    "%load_ext autoreload\n",
    "%autoreload 2\n",
    "#%matplotlib nbagg\n",
    "from Object_detection_features_old import *\n",
    "import gym\n",
    "from gym import wrappers\n",
    "\n",
    "% matplotlib inline"
   ]
  },
  {
   "cell_type": "code",
   "execution_count": 2,
   "metadata": {
    "collapsed": false
   },
   "outputs": [
    {
     "name": "stderr",
     "output_type": "stream",
     "text": [
      "INFO:gym.envs.registration:Making new env: Skiing-v0\n",
      "[2017-02-07 15:43:19,801] Making new env: Skiing-v0\n"
     ]
    }
   ],
   "source": [
    "env = gym.make('Skiing-v0')\n",
    "odf = ObjectDetectionFeatures(env)"
   ]
  },
  {
   "cell_type": "code",
   "execution_count": 3,
   "metadata": {
    "collapsed": false
   },
   "outputs": [],
   "source": [
    "from skimage.transform import resize\n",
    "from skimage.color import rgb2gray"
   ]
  },
  {
   "cell_type": "code",
   "execution_count": 4,
   "metadata": {
    "collapsed": true
   },
   "outputs": [],
   "source": [
    "import warnings\n",
    "warnings.filterwarnings('ignore')"
   ]
  },
  {
   "cell_type": "markdown",
   "metadata": {},
   "source": [
    "## First, let's collect some samples"
   ]
  },
  {
   "cell_type": "code",
   "execution_count": 5,
   "metadata": {
    "collapsed": false
   },
   "outputs": [
    {
     "name": "stderr",
     "output_type": "stream",
     "text": [
      "INFO:gym.envs.registration:Making new env: Skiing-v0\n",
      "[2017-02-07 15:44:35,167] Making new env: Skiing-v0\n"
     ]
    },
    {
     "name": "stdout",
     "output_type": "stream",
     "text": [
      "1000\n",
      "2000\n",
      "3000\n",
      "4000\n",
      "5000\n",
      "6000\n",
      "7000\n",
      "8000\n",
      "9000\n",
      "10000\n",
      "11000\n",
      "12000\n",
      "13000\n",
      "14000\n",
      "15000\n",
      "16000\n",
      "17000\n",
      "18000\n",
      "19000\n",
      "20000\n"
     ]
    }
   ],
   "source": [
    "max_observations = 20000\n",
    "observations = []\n",
    "render = False\n",
    "count = 0\n",
    "output_shape = (60, 60)\n",
    "\n",
    "env_name = 'Skiing-v0'\n",
    "env = gym.make(env_name)\n",
    "\n",
    "while True:\n",
    "    if len(observations) >= max_observations: break\n",
    "    s = env.reset()\n",
    "    if count % 10 == 0:\n",
    "        observation = (resize(odf.get_simple_image(env.ale.getScreenGrayscale()[:, :, 0]), \n",
    "                              output_shape, order=0) * 255).astype('uint8')\n",
    "        observations.append(observation)\n",
    "    count += 1\n",
    "    done = False\n",
    "\n",
    "    while not done:\n",
    "        if render: env.render()\n",
    "        if len(observations) >= max_observations: break\n",
    "        a = env.action_space.sample()\n",
    "        s, r, done, _ = env.step(a)\n",
    "        if count % 10 == 0:\n",
    "            observation = (resize(odf.get_simple_image(env.ale.getScreenGrayscale()[:, :, 0]), \n",
    "                                  output_shape, order=0) * 255).astype('uint8')\n",
    "            observations.append(observation)\n",
    "            if not len(observations) % 1000:\n",
    "                print(len(observations))\n",
    "        a = env.action_space.sample()\n",
    "        count += 1\n",
    "        \n",
    "env.close()"
   ]
  },
  {
   "cell_type": "code",
   "execution_count": 28,
   "metadata": {
    "collapsed": false
   },
   "outputs": [],
   "source": [
    "observations = np.array(observations)\n",
    "observations = observations.reshape(20000, 1, 60, 60)"
   ]
  },
  {
   "cell_type": "markdown",
   "metadata": {},
   "source": [
    "## Train an autoencoder"
   ]
  },
  {
   "cell_type": "code",
   "execution_count": 9,
   "metadata": {
    "collapsed": false
   },
   "outputs": [
    {
     "name": "stderr",
     "output_type": "stream",
     "text": [
      "Using TensorFlow backend.\n"
     ]
    }
   ],
   "source": [
    "from keras.layers import Input, Dense, Convolution2D, MaxPooling2D, UpSampling2D, Reshape, Flatten\n",
    "from keras.models import Model\n",
    "border_mode = 'same'\n",
    "\n",
    "input_img = Input(shape=observations.shape[1:])\n",
    "\n",
    "x = Convolution2D(16, 8, 8, activation='relu', border_mode=border_mode)(input_img)\n",
    "x = MaxPooling2D((2, 2), border_mode=border_mode)(x)\n",
    "x = Convolution2D(32, 4, 4, activation='relu', border_mode=border_mode)(x)\n",
    "x = MaxPooling2D((2, 2), border_mode=border_mode)(x)\n",
    "filters_shape = x.get_shape()\n",
    "flattened = Flatten()(x)\n",
    "flat_shape = flattened.get_shape()\n",
    "encoded = Dense(64, activation='relu')(flattened)\n",
    "\n",
    "x = Dense(int(flat_shape[1]), activation='relu')(encoded)\n",
    "x = Reshape(tuple([int(shp) for shp in filters_shape[1:]]))(x)\n",
    "x = Convolution2D(32, 4, 4, activation='relu', border_mode=border_mode)(x)\n",
    "x = UpSampling2D((2, 2))(x)\n",
    "x = Convolution2D(16, 8, 8, activation='relu', border_mode=border_mode)(x)\n",
    "x = UpSampling2D((2, 2))(x)\n",
    "x = Convolution2D(1, 3, 3, activation='relu', border_mode=border_mode)(x)\n",
    "\n",
    "decoded = x\n",
    "\n",
    "encoder = Model(input_img, encoded)\n",
    "autoencoder = Model(input_img, decoded)\n",
    "autoencoder.compile(optimizer='adadelta', loss='mse')"
   ]
  },
  {
   "cell_type": "code",
   "execution_count": 10,
   "metadata": {
    "collapsed": false
   },
   "outputs": [
    {
     "name": "stdout",
     "output_type": "stream",
     "text": [
      "____________________________________________________________________________________________________\n",
      "Layer (type)                     Output Shape          Param #     Connected to                     \n",
      "====================================================================================================\n",
      "input_1 (InputLayer)             (None, 1, 60, 60)     0                                            \n",
      "____________________________________________________________________________________________________\n",
      "convolution2d_1 (Convolution2D)  (None, 16, 60, 60)    1040        input_1[0][0]                    \n",
      "____________________________________________________________________________________________________\n",
      "maxpooling2d_1 (MaxPooling2D)    (None, 16, 30, 30)    0           convolution2d_1[0][0]            \n",
      "____________________________________________________________________________________________________\n",
      "convolution2d_2 (Convolution2D)  (None, 32, 30, 30)    8224        maxpooling2d_1[0][0]             \n",
      "____________________________________________________________________________________________________\n",
      "maxpooling2d_2 (MaxPooling2D)    (None, 32, 15, 15)    0           convolution2d_2[0][0]            \n",
      "____________________________________________________________________________________________________\n",
      "flatten_1 (Flatten)              (None, 7200)          0           maxpooling2d_2[0][0]             \n",
      "____________________________________________________________________________________________________\n",
      "dense_1 (Dense)                  (None, 64)            460864      flatten_1[0][0]                  \n",
      "____________________________________________________________________________________________________\n",
      "dense_2 (Dense)                  (None, 7200)          468000      dense_1[0][0]                    \n",
      "____________________________________________________________________________________________________\n",
      "reshape_1 (Reshape)              (None, 32, 15, 15)    0           dense_2[0][0]                    \n",
      "____________________________________________________________________________________________________\n",
      "convolution2d_3 (Convolution2D)  (None, 32, 15, 15)    16416       reshape_1[0][0]                  \n",
      "____________________________________________________________________________________________________\n",
      "upsampling2d_1 (UpSampling2D)    (None, 32, 30, 30)    0           convolution2d_3[0][0]            \n",
      "____________________________________________________________________________________________________\n",
      "convolution2d_4 (Convolution2D)  (None, 16, 30, 30)    32784       upsampling2d_1[0][0]             \n",
      "____________________________________________________________________________________________________\n",
      "upsampling2d_2 (UpSampling2D)    (None, 16, 60, 60)    0           convolution2d_4[0][0]            \n",
      "____________________________________________________________________________________________________\n",
      "convolution2d_5 (Convolution2D)  (None, 1, 60, 60)     145         upsampling2d_2[0][0]             \n",
      "====================================================================================================\n",
      "Total params: 987473\n",
      "____________________________________________________________________________________________________\n"
     ]
    }
   ],
   "source": [
    "autoencoder.summary()"
   ]
  },
  {
   "cell_type": "code",
   "execution_count": 11,
   "metadata": {
    "collapsed": true
   },
   "outputs": [],
   "source": [
    "import keras\n",
    "class LossHistory(keras.callbacks.Callback):\n",
    "    def on_train_begin(self, logs={}):\n",
    "        self.losses = []\n",
    "        self.val_losses = []\n",
    "\n",
    "    def on_batch_end(self, batch, logs={}):\n",
    "        self.losses.append(float(logs.get('loss')))\n",
    "    \n",
    "    def on_epoch_end(self, epoch, logs={}):\n",
    "        self.val_losses.append(logs.get('val_loss'))\n"
   ]
  },
  {
   "cell_type": "code",
   "execution_count": 12,
   "metadata": {
    "collapsed": false
   },
   "outputs": [
    {
     "name": "stdout",
     "output_type": "stream",
     "text": [
      "Epoch 1/40\n",
      "20000/20000 [==============================] - 310s - loss: 466.0637   \n",
      "Epoch 2/40\n",
      "20000/20000 [==============================] - 346s - loss: 177.0336   \n",
      "Epoch 3/40\n",
      "20000/20000 [==============================] - 350s - loss: 132.9763   \n",
      "Epoch 4/40\n",
      "20000/20000 [==============================] - 356s - loss: 111.7421   \n",
      "Epoch 5/40\n",
      "20000/20000 [==============================] - 359s - loss: 96.2776   \n",
      "Epoch 6/40\n",
      "20000/20000 [==============================] - 356s - loss: 84.9050   \n",
      "Epoch 7/40\n",
      "20000/20000 [==============================] - 354s - loss: 77.5212   \n",
      "Epoch 8/40\n",
      "20000/20000 [==============================] - 357s - loss: 70.2496   \n",
      "Epoch 9/40\n",
      "20000/20000 [==============================] - 357s - loss: 66.2044   \n",
      "Epoch 10/40\n",
      "20000/20000 [==============================] - 361s - loss: 58.1283   \n",
      "Epoch 11/40\n",
      "20000/20000 [==============================] - 363s - loss: 54.8720   \n",
      "Epoch 12/40\n",
      "20000/20000 [==============================] - 363s - loss: 52.6134   \n",
      "Epoch 13/40\n",
      "20000/20000 [==============================] - 362s - loss: 48.2689   \n",
      "Epoch 14/40\n",
      "20000/20000 [==============================] - 358s - loss: 45.9779   \n",
      "Epoch 15/40\n",
      "20000/20000 [==============================] - 361s - loss: 43.5548   \n",
      "Epoch 16/40\n",
      "20000/20000 [==============================] - 358s - loss: 40.5139   \n",
      "Epoch 17/40\n",
      "20000/20000 [==============================] - 357s - loss: 39.1473   \n",
      "Epoch 18/40\n",
      "20000/20000 [==============================] - 356s - loss: 37.6193   \n",
      "Epoch 19/40\n",
      "20000/20000 [==============================] - 356s - loss: 34.5374   \n",
      "Epoch 20/40\n",
      "20000/20000 [==============================] - 356s - loss: 32.4032   \n",
      "Epoch 21/40\n",
      "20000/20000 [==============================] - 354s - loss: 33.4544   \n",
      "Epoch 22/40\n",
      "20000/20000 [==============================] - 353s - loss: 32.0124   \n",
      "Epoch 23/40\n",
      "20000/20000 [==============================] - 351s - loss: 30.3843   \n",
      "Epoch 24/40\n",
      "20000/20000 [==============================] - 351s - loss: 31.1714   \n",
      "Epoch 25/40\n",
      "20000/20000 [==============================] - 347s - loss: 30.1106   \n",
      "Epoch 26/40\n",
      "20000/20000 [==============================] - 350s - loss: 28.1302   \n",
      "Epoch 27/40\n",
      "20000/20000 [==============================] - 349s - loss: 27.4075   \n",
      "Epoch 28/40\n",
      "20000/20000 [==============================] - 347s - loss: 27.2737   \n",
      "Epoch 29/40\n",
      "20000/20000 [==============================] - 349s - loss: 26.3006   \n",
      "Epoch 30/40\n",
      "20000/20000 [==============================] - 347s - loss: 27.0337   \n",
      "Epoch 31/40\n",
      "20000/20000 [==============================] - 347s - loss: 25.5253   \n",
      "Epoch 32/40\n",
      "20000/20000 [==============================] - 349s - loss: 23.3520   \n",
      "Epoch 33/40\n",
      "20000/20000 [==============================] - 346s - loss: 23.5414   \n",
      "Epoch 34/40\n",
      "20000/20000 [==============================] - 345s - loss: 23.3457   \n",
      "Epoch 35/40\n",
      "20000/20000 [==============================] - 343s - loss: 23.6219   \n",
      "Epoch 36/40\n",
      "20000/20000 [==============================] - 346s - loss: 23.0662   \n",
      "Epoch 37/40\n",
      "20000/20000 [==============================] - 348s - loss: 21.2393   \n",
      "Epoch 38/40\n",
      "20000/20000 [==============================] - 346s - loss: 21.4307   \n",
      "Epoch 39/40\n",
      "20000/20000 [==============================] - 344s - loss: 22.6352   \n",
      "Epoch 40/40\n",
      "20000/20000 [==============================] - 346s - loss: 22.0656   \n"
     ]
    },
    {
     "data": {
      "text/plain": [
       "<keras.callbacks.History at 0x1830cca20>"
      ]
     },
     "execution_count": 12,
     "metadata": {},
     "output_type": "execute_result"
    }
   ],
   "source": [
    "history = LossHistory()\n",
    "autoencoder.fit(observations, observations,\n",
    "                nb_epoch=40,\n",
    "                batch_size=32,\n",
    "                shuffle=True,\n",
    "                callbacks=[history])"
   ]
  },
  {
   "cell_type": "markdown",
   "metadata": {},
   "source": [
    "## And save our results"
   ]
  },
  {
   "cell_type": "code",
   "execution_count": null,
   "metadata": {
    "collapsed": true
   },
   "outputs": [],
   "source": [
    "import os\n",
    "if not 'data' in os.listdir('.'):\n",
    "    os.mkdir('./data/')\n",
    "sample_features = encoder.predict(observations)\n",
    "np.savez('./data/sample_features_20k.npz', sample_features)"
   ]
  },
  {
   "cell_type": "code",
   "execution_count": 27,
   "metadata": {
    "collapsed": true
   },
   "outputs": [],
   "source": [
    "autoencoder.save_weights('./data/Autoencoder_21_01.h5')\n",
    "autoencoder.to_json()\n",
    "import json\n",
    "with open('./data/Autoencoder_21_01.txt', 'w') as outfile:\n",
    "    json.dump(autoencoder.to_json(), outfile)"
   ]
  },
  {
   "cell_type": "code",
   "execution_count": 28,
   "metadata": {
    "collapsed": true
   },
   "outputs": [],
   "source": [
    "encoder.save_weights('./data/Encoder_21_01.h5')\n",
    "autoencoder.to_json()\n",
    "import json\n",
    "with open('./data/Encoder_21_01.txt', 'w') as outfile:\n",
    "    json.dump(encoder.to_json(), outfile)"
   ]
  },
  {
   "cell_type": "code",
   "execution_count": null,
   "metadata": {
    "collapsed": true
   },
   "outputs": [],
   "source": []
  }
 ],
 "metadata": {
  "kernelspec": {
   "display_name": "Python 2",
   "language": "python",
   "name": "python2"
  },
  "language_info": {
   "codemirror_mode": {
    "name": "ipython",
    "version": 2
   },
   "file_extension": ".py",
   "mimetype": "text/x-python",
   "name": "python",
   "nbconvert_exporter": "python",
   "pygments_lexer": "ipython2",
   "version": "2.7.12"
  }
 },
 "nbformat": 4,
 "nbformat_minor": 0
}
