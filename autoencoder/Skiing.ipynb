{
 "cells": [
  {
   "cell_type": "code",
   "execution_count": 1,
   "metadata": {
    "collapsed": false
   },
   "outputs": [],
   "source": [
    "from __future__ import print_function, division\n",
    "import gym\n",
    "import time\n",
    "import numpy as np\n",
    "import matplotlib.pyplot as plt\n",
    "seed = 417\n",
    "%matplotlib inline"
   ]
  },
  {
   "cell_type": "code",
   "execution_count": 2,
   "metadata": {
    "collapsed": false
   },
   "outputs": [
    {
     "name": "stderr",
     "output_type": "stream",
     "text": [
      "INFO:gym.envs.registration:Making new env: Skiing-v0\n",
      "[2017-02-07 13:24:02,523] Making new env: Skiing-v0\n"
     ]
    }
   ],
   "source": [
    "env_name = 'Skiing-v0'\n",
    "env = gym.make(env_name)"
   ]
  },
  {
   "cell_type": "markdown",
   "metadata": {},
   "source": [
    "## Convolutional autoencoder for feature engineering"
   ]
  },
  {
   "cell_type": "code",
   "execution_count": 3,
   "metadata": {
    "collapsed": false
   },
   "outputs": [
    {
     "name": "stderr",
     "output_type": "stream",
     "text": [
      "Using Theano backend.\n",
      "Using gpu device 0: GeForce GT 650M (CNMeM is disabled, cuDNN not available)\n"
     ]
    }
   ],
   "source": [
    "from keras import backend as K\n",
    "K.set_image_dim_ordering('th')"
   ]
  },
  {
   "cell_type": "code",
   "execution_count": 4,
   "metadata": {
    "collapsed": true
   },
   "outputs": [],
   "source": [
    "from Object_detection_features_old import *\n",
    "from skimage.transform import resize\n",
    "from skimage.color import rgb2gray\n",
    "odf = ObjectDetectionFeatures(env)"
   ]
  },
  {
   "cell_type": "code",
   "execution_count": 5,
   "metadata": {
    "collapsed": true
   },
   "outputs": [],
   "source": [
    "from keras.models import model_from_json\n",
    "import json\n",
    "\n",
    "with open('./data/Encoder_21_01.txt', 'r') as model_file:\n",
    "     encoder = model_from_json(json.loads(next(model_file)))\n",
    "        \n",
    "encoder.load_weights('./data/Encoder_21_01.h5')"
   ]
  },
  {
   "cell_type": "markdown",
   "metadata": {},
   "source": [
    "## Monte-Carlo Policy Gradient (REINFORCE)"
   ]
  },
  {
   "cell_type": "code",
   "execution_count": 6,
   "metadata": {
    "collapsed": true
   },
   "outputs": [],
   "source": [
    "discount = 1.0\n",
    "render = True"
   ]
  },
  {
   "cell_type": "code",
   "execution_count": 7,
   "metadata": {
    "collapsed": false
   },
   "outputs": [],
   "source": [
    "class Agent:\n",
    "    def __init__(self, env, learning_rate):\n",
    "        self.nA = env.action_space.n\n",
    "        n_components = 100\n",
    "        self.lr = learning_rate\n",
    "        self.feature_memory = []\n",
    "        res = np.load('./data/sample_features_20k.npz')['arr_0']\n",
    "        n = res.shape[0]\n",
    "        observation_examples = np.hstack((res.reshape((n, -1)), \n",
    "                                          np.array([env.action_space.sample() for _ in range(n)])[:, np.newaxis]))\n",
    "\n",
    "        self.scaler = StandardScaler()\n",
    "        \n",
    "        self.feature_map = FeatureUnion([(\"rbf1\", RBFSampler(n_components=n_components, gamma=1., random_state=1)),\n",
    "                                         (\"rbf01\", RBFSampler(n_components=n_components, gamma=0.1, random_state=1)),\n",
    "                                         (\"rbf10\", RBFSampler(n_components=n_components, gamma=10, random_state=1))])\n",
    "\n",
    "        self.feature_map.fit(self.scaler.fit_transform(observation_examples))\n",
    "        \n",
    "        self.theta = np.random.rand(3 * n_components)\n",
    "    \n",
    "    def act(self, s):\n",
    "        #s_tmp = s.reshape(tuple([1] + list(np.roll(s.shape, 1))))\n",
    "        #s_tmp = np.concatenate((s_tmp, np.zeros((s_tmp.shape[0], 3, 6, s_tmp.shape[3]), dtype='uint8')), axis=2)\n",
    "        #s_tmp = encoder.predict(s_tmp.astype('float16')/255).ravel()\n",
    "        #Phi_s = self.feature_map.transform(self.scaler.transform(\n",
    "        #        np.hstack((np.arange(self.nA)[:, np.newaxis], np.repeat(s_tmp[np.newaxis, :], self.nA, axis=0)))))\n",
    "        \n",
    "        Phi_s = self.feature_map.transform(self.scaler.transform(\n",
    "                np.hstack((np.arange(self.nA)[:, np.newaxis], \n",
    "                           np.repeat(encoder.predict(s[np.newaxis, np.newaxis, :, :]), self.nA, axis=0)))))\n",
    "        \n",
    "        \n",
    "        self.feature_memory.append(Phi_s)\n",
    "        self.probs = np.exp(np.dot(Phi_s, self.theta))\n",
    "        return np.random.choice(self.nA, p=self.probs/np.sum(self.probs))\n",
    "    \n",
    "    def update(self, memory):\n",
    "        gamma = 1 # 0.999\n",
    "        G = np.cumsum(map(lambda x: x[2], memory)[::-1])[::-1]\n",
    "        \n",
    "        for t in range(len(memory)):\n",
    "            self.theta += self.lr * (self.feature_memory[t][memory[t][1]] - \\\n",
    "                                     np.sum(self.probs[:, np.newaxis] * self.feature_memory[t], axis=0)) * G[t]\n",
    "        \n",
    "        self.feature_memory = []"
   ]
  },
  {
   "cell_type": "code",
   "execution_count": 8,
   "metadata": {
    "collapsed": true
   },
   "outputs": [],
   "source": [
    "from sklearn.preprocessing import StandardScaler\n",
    "from sklearn.kernel_approximation import RBFSampler\n",
    "from sklearn.pipeline import FeatureUnion"
   ]
  },
  {
   "cell_type": "code",
   "execution_count": 9,
   "metadata": {
    "collapsed": false
   },
   "outputs": [],
   "source": [
    "agent = Agent(env, 0.01)"
   ]
  },
  {
   "cell_type": "code",
   "execution_count": null,
   "metadata": {
    "collapsed": true
   },
   "outputs": [],
   "source": [
    "env = wrappers.Monitor(env, '/tmp/skiing-0', force=True)"
   ]
  },
  {
   "cell_type": "code",
   "execution_count": 64,
   "metadata": {
    "collapsed": false
   },
   "outputs": [
    {
     "name": "stdout",
     "output_type": "stream",
     "text": [
      "episode 0 finished in 2653 steps with total reward: -22771.0\n",
      "episode 1 finished in 1202 steps with total reward: -15039.0\n",
      "episode 2 finished in 1179 steps with total reward: -14937.0\n",
      "episode 3 finished in 1021 steps with total reward: -13602.0\n",
      "episode 4 finished in 713 steps with total reward: -9013.0\n"
     ]
    }
   ],
   "source": [
    "for e in range(5):\n",
    "    s = env.reset()\n",
    "    episode = 0\n",
    "    done = False\n",
    "    total_reward = 0\n",
    "    memory = []\n",
    "    output_shape = (60, 60)\n",
    "    \n",
    "    while not done:\n",
    "        if render: env.render()\n",
    "        s_processed = (resize(odf.get_simple_image(env.ale.getScreenGrayscale()[:, :, 0]), \n",
    "                              output_shape, order=0) * 255).astype('uint8')\n",
    "        a = agent.act(s_processed)\n",
    "        sp, r, done, _ = env.step(a)\n",
    "        memory.append((s, a, r, sp))\n",
    "        total_reward += r\n",
    "        s = sp\n",
    "        episode += 1\n",
    "    \n",
    "    print('episode {} finished in {} steps with total reward: {}'.format(e, episode, total_reward))\n",
    "    \n",
    "    agent.update(memory)"
   ]
  },
  {
   "cell_type": "code",
   "execution_count": null,
   "metadata": {
    "collapsed": true
   },
   "outputs": [],
   "source": [
    "gym.upload('/tmp/skiing-0', api_key='...')"
   ]
  }
 ],
 "metadata": {
  "kernelspec": {
   "display_name": "Python 2",
   "language": "python",
   "name": "python2"
  },
  "language_info": {
   "codemirror_mode": {
    "name": "ipython",
    "version": 2
   },
   "file_extension": ".py",
   "mimetype": "text/x-python",
   "name": "python",
   "nbconvert_exporter": "python",
   "pygments_lexer": "ipython2",
   "version": "2.7.9"
  }
 },
 "nbformat": 4,
 "nbformat_minor": 0
}
