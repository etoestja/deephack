{
 "cells": [
  {
   "cell_type": "markdown",
   "metadata": {},
   "source": [
    "Playing ATARI-ram games using python-neat"
   ]
  },
  {
   "cell_type": "markdown",
   "metadata": {},
   "source": [
    "# Import"
   ]
  },
  {
   "cell_type": "code",
   "execution_count": 17,
   "metadata": {
    "collapsed": true
   },
   "outputs": [],
   "source": [
    "import numpy as np\n",
    "import gym\n",
    "from gym import wrappers\n",
    "from __future__ import print_function\n",
    "import os\n",
    "import neat\n",
    "import visualize"
   ]
  },
  {
   "cell_type": "markdown",
   "metadata": {},
   "source": [
    "# Define config"
   ]
  },
  {
   "cell_type": "code",
   "execution_count": 18,
   "metadata": {
    "collapsed": true
   },
   "outputs": [],
   "source": [
    "fc_config_filename = 'fc.config'\n",
    "game = 'MsPacman-ram-v0'\n",
    "num_evaluations = 3\n",
    "num_cores = 3"
   ]
  },
  {
   "cell_type": "markdown",
   "metadata": {},
   "source": [
    "# Create environment"
   ]
  },
  {
   "cell_type": "code",
   "execution_count": 19,
   "metadata": {
    "collapsed": false
   },
   "outputs": [
    {
     "name": "stderr",
     "output_type": "stream",
     "text": [
      "[2017-02-07 15:52:57,462] Making new env: MsPacman-ram-v0\n"
     ]
    }
   ],
   "source": [
    "env = gym.make(game)"
   ]
  },
  {
   "cell_type": "markdown",
   "metadata": {},
   "source": [
    "# Create neat-python population"
   ]
  },
  {
   "cell_type": "code",
   "execution_count": 20,
   "metadata": {
    "collapsed": true
   },
   "outputs": [],
   "source": [
    "# Load configuration.\n",
    "config_initial = neat.Config(neat.DefaultGenome, neat.DefaultReproduction,\n",
    "                     neat.DefaultSpeciesSet, neat.DefaultStagnation, fc_config_filename)\n",
    "\n",
    "config_initial.genome_config.num_inputs = env.observation_space.shape[0] + 1\n",
    "config_initial.genome_config.num_outputs = env.action_space.n + 1"
   ]
  },
  {
   "cell_type": "code",
   "execution_count": 21,
   "metadata": {
    "collapsed": true
   },
   "outputs": [],
   "source": [
    "game_fc_config_filename = 'fc-' + game + '.config'\n",
    "\n",
    "config_initial.save(game_fc_config_filename)\n",
    "\n",
    "config = neat.Config(neat.DefaultGenome, neat.DefaultReproduction,\n",
    "                     neat.DefaultSpeciesSet, neat.DefaultStagnation, game_fc_config_filename)\n",
    "\n",
    "# Create the population, which is the top-level object for a NEAT run.\n",
    "p = neat.Population(config)"
   ]
  },
  {
   "cell_type": "code",
   "execution_count": 22,
   "metadata": {
    "collapsed": false
   },
   "outputs": [
    {
     "data": {
      "text/plain": [
       "{'compatibility_threshold': 3.0}"
      ]
     },
     "execution_count": 22,
     "metadata": {},
     "output_type": "execute_result"
    }
   ],
   "source": [
    "config.species_set_config"
   ]
  },
  {
   "cell_type": "code",
   "execution_count": 23,
   "metadata": {
    "collapsed": false
   },
   "outputs": [],
   "source": [
    "config.save('aa')"
   ]
  },
  {
   "cell_type": "markdown",
   "metadata": {},
   "source": [
    "# Add reporters"
   ]
  },
  {
   "cell_type": "code",
   "execution_count": 13,
   "metadata": {
    "collapsed": true
   },
   "outputs": [],
   "source": [
    "# Add a stdout reporter to show progress in the terminal.\n",
    "p.add_reporter(neat.StdOutReporter())\n",
    "stats = neat.StatisticsReporter()\n",
    "p.add_reporter(stats)\n",
    "p.add_reporter(neat.Checkpointer(5))"
   ]
  },
  {
   "cell_type": "markdown",
   "metadata": {},
   "source": [
    "# Define fitness via game score"
   ]
  },
  {
   "cell_type": "code",
   "execution_count": 15,
   "metadata": {
    "collapsed": false
   },
   "outputs": [
    {
     "ename": "NameError",
     "evalue": "name 'num_cores' is not defined",
     "output_type": "error",
     "traceback": [
      "\u001b[1;31m---------------------------------------------------------------------------\u001b[0m",
      "\u001b[1;31mNameError\u001b[0m                                 Traceback (most recent call last)",
      "\u001b[1;32m<ipython-input-15-bb40c928c2a1>\u001b[0m in \u001b[0;36m<module>\u001b[1;34m()\u001b[0m\n\u001b[0;32m     46\u001b[0m \u001b[1;31m#print(evaluate_genome(p.species.get_species(1).members[1], config))\u001b[0m\u001b[1;33m\u001b[0m\u001b[1;33m\u001b[0m\u001b[0m\n\u001b[0;32m     47\u001b[0m \u001b[1;33m\u001b[0m\u001b[0m\n\u001b[1;32m---> 48\u001b[1;33m \u001b[0mevaluator\u001b[0m \u001b[1;33m=\u001b[0m \u001b[0mneat\u001b[0m\u001b[1;33m.\u001b[0m\u001b[0mparallel\u001b[0m\u001b[1;33m.\u001b[0m\u001b[0mParallelEvaluator\u001b[0m\u001b[1;33m(\u001b[0m\u001b[0mnum_workers\u001b[0m \u001b[1;33m=\u001b[0m \u001b[0mnum_cores\u001b[0m\u001b[1;33m,\u001b[0m \u001b[0meval_function\u001b[0m \u001b[1;33m=\u001b[0m \u001b[0mevaluate_genome\u001b[0m\u001b[1;33m,\u001b[0m \u001b[0mtimeout\u001b[0m \u001b[1;33m=\u001b[0m \u001b[0mNone\u001b[0m\u001b[1;33m)\u001b[0m\u001b[1;33m\u001b[0m\u001b[0m\n\u001b[0m",
      "\u001b[1;31mNameError\u001b[0m: name 'num_cores' is not defined"
     ]
    }
   ],
   "source": [
    "# a = argmax_a Q(s,a)\n",
    "def predict_action(observation, network):\n",
    "    observation = observation / 255. * 2 - 1\n",
    "    output = network.activate(observation)\n",
    "    action = np.argmax(output)\n",
    "    return(action)\n",
    "\n",
    "# play num_evaluations games, take mean\n",
    "def evaluate_network(env, network):\n",
    "    rewards = []\n",
    "    i = 0\n",
    "    while i < num_evaluations:\n",
    "        rewards += [get_reward(env, network)]\n",
    "        i += 1\n",
    "\n",
    "    res = np.array(rewards).mean()\n",
    "    return res\n",
    "\n",
    "# play 1 game with network\n",
    "def get_reward(env, network):\n",
    "    observation = env.reset()\n",
    "    done = False\n",
    "    iteration, total_reward = 0, 0\n",
    "        \n",
    "    while not done:\n",
    "        #env.render()\n",
    "        action = predict_action(observation, network)\n",
    "        observation, reward, done, info = env.step(action)\n",
    "        total_reward += reward\n",
    "\n",
    "        #if iteration % 500 == 0:\n",
    "        #    print(str(iteration))\n",
    "\n",
    "        #if total_reward < -12000 or iteration >= 8000:\n",
    "        #    break\n",
    "\n",
    "        iteration += 1\n",
    "        \n",
    "    return total_reward\n",
    "\n",
    "def evaluate_genome(genome, config):\n",
    "    network = neat.nn.FeedForwardNetwork.create(genome, config)\n",
    "    fitness = evaluate_network(env, network)\n",
    "    return fitness\n",
    "    \n",
    "#print(evaluate_genome(p.species.get_species(1).members[1], config))\n",
    "\n",
    "evaluator = neat.parallel.ParallelEvaluator(num_workers = num_cores, eval_function = evaluate_genome, timeout = None)"
   ]
  },
  {
   "cell_type": "markdown",
   "metadata": {},
   "source": [
    "# Run evolution"
   ]
  },
  {
   "cell_type": "code",
   "execution_count": 16,
   "metadata": {
    "collapsed": false
   },
   "outputs": [
    {
     "ename": "NameError",
     "evalue": "name 'evaluator' is not defined",
     "output_type": "error",
     "traceback": [
      "\u001b[1;31m---------------------------------------------------------------------------\u001b[0m",
      "\u001b[1;31mNameError\u001b[0m                                 Traceback (most recent call last)",
      "\u001b[1;32m<ipython-input-16-5efcc52e9917>\u001b[0m in \u001b[0;36m<module>\u001b[1;34m()\u001b[0m\n\u001b[0;32m      1\u001b[0m \u001b[1;31m# Run evolution\u001b[0m\u001b[1;33m\u001b[0m\u001b[1;33m\u001b[0m\u001b[0m\n\u001b[1;32m----> 2\u001b[1;33m \u001b[0mwinner\u001b[0m \u001b[1;33m=\u001b[0m \u001b[0mp\u001b[0m\u001b[1;33m.\u001b[0m\u001b[0mrun\u001b[0m\u001b[1;33m(\u001b[0m\u001b[0mevaluator\u001b[0m\u001b[1;33m.\u001b[0m\u001b[0mevaluate\u001b[0m\u001b[1;33m,\u001b[0m \u001b[1;36m1\u001b[0m\u001b[1;33m)\u001b[0m\u001b[1;33m\u001b[0m\u001b[0m\n\u001b[0m",
      "\u001b[1;31mNameError\u001b[0m: name 'evaluator' is not defined"
     ]
    }
   ],
   "source": [
    "# Run evolution\n",
    "winner = p.run(evaluator.evaluate, 1)"
   ]
  },
  {
   "cell_type": "markdown",
   "metadata": {},
   "source": [
    "# Print results"
   ]
  },
  {
   "cell_type": "code",
   "execution_count": 6,
   "metadata": {
    "collapsed": false
   },
   "outputs": [
    {
     "ename": "NameError",
     "evalue": "name 'winner' is not defined",
     "output_type": "error",
     "traceback": [
      "\u001b[1;31m---------------------------------------------------------------------------\u001b[0m",
      "\u001b[1;31mNameError\u001b[0m                                 Traceback (most recent call last)",
      "\u001b[1;32m<ipython-input-6-5b8120568591>\u001b[0m in \u001b[0;36m<module>\u001b[1;34m()\u001b[0m\n\u001b[0;32m      1\u001b[0m \u001b[1;31m# Display the winning genome.\u001b[0m\u001b[1;33m\u001b[0m\u001b[1;33m\u001b[0m\u001b[0m\n\u001b[1;32m----> 2\u001b[1;33m \u001b[1;32mprint\u001b[0m\u001b[1;33m(\u001b[0m\u001b[1;34m'\\nBest genome:\\n{!s}'\u001b[0m\u001b[1;33m.\u001b[0m\u001b[0mformat\u001b[0m\u001b[1;33m(\u001b[0m\u001b[0mwinner\u001b[0m\u001b[1;33m)\u001b[0m\u001b[1;33m)\u001b[0m\u001b[1;33m\u001b[0m\u001b[0m\n\u001b[0m\u001b[0;32m      3\u001b[0m \u001b[1;33m\u001b[0m\u001b[0m\n\u001b[0;32m      4\u001b[0m \u001b[1;31m# Show output of the most fit genome against training data.\u001b[0m\u001b[1;33m\u001b[0m\u001b[1;33m\u001b[0m\u001b[0m\n\u001b[0;32m      5\u001b[0m \u001b[1;32mprint\u001b[0m\u001b[1;33m(\u001b[0m\u001b[1;34m'\\nOutput:'\u001b[0m\u001b[1;33m)\u001b[0m\u001b[1;33m\u001b[0m\u001b[0m\n",
      "\u001b[1;31mNameError\u001b[0m: name 'winner' is not defined"
     ]
    }
   ],
   "source": [
    "# Display the winning genome.\n",
    "print('\\nBest genome:\\n{!s}'.format(winner))\n",
    "\n",
    "# Show output of the most fit genome against training data.\n",
    "print('\\nOutput:')\n",
    "winner_net = neat.nn.FeedForwardNetwork.create(winner, config)\n",
    "for xi, xo in zip(xor_inputs, xor_outputs):\n",
    "    output = winner_net.activate(xi)\n",
    "    print(\"input {!r}, expected output {!r}, got {!r}\".format(xi, xo, output))\n",
    "\n",
    "#node_names = {-1:'A', -2: 'B', 0:'A XOR B'}\n",
    "#visualize.draw_net(config, winner, True, node_names=node_names)\n",
    "#visualize.plot_stats(stats, ylog=False, view=True)\n",
    "#visualize.plot_species(stats, view=True)\n",
    "\n",
    "#p = neat.Checkpointer.restore_checkpoint('neat-checkpoint-4')\n",
    "#p.run(eval_genomes, 10)"
   ]
  }
 ],
 "metadata": {
  "kernelspec": {
   "display_name": "Python 2",
   "language": "python",
   "name": "python2"
  },
  "language_info": {
   "codemirror_mode": {
    "name": "ipython",
    "version": 2
   },
   "file_extension": ".py",
   "mimetype": "text/x-python",
   "name": "python",
   "nbconvert_exporter": "python",
   "pygments_lexer": "ipython2",
   "version": "2.7.9"
  }
 },
 "nbformat": 4,
 "nbformat_minor": 0
}
