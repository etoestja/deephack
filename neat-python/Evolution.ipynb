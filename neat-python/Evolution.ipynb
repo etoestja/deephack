{
 "cells": [
  {
   "cell_type": "markdown",
   "metadata": {},
   "source": [
    "Playing ATARI-ram games using python-neat and convolutional autoencoder"
   ]
  },
  {
   "cell_type": "markdown",
   "metadata": {},
   "source": [
    "# Import"
   ]
  },
  {
   "cell_type": "code",
   "execution_count": 1,
   "metadata": {
    "collapsed": true
   },
   "outputs": [],
   "source": [
    "from time import time, clock\n",
    "import numpy as np\n",
    "import gym\n",
    "from gym import wrappers\n",
    "from __future__ import print_function\n",
    "import os\n",
    "%matplotlib inline\n",
    "import neat\n",
    "import visualize\n",
    "os.environ['DISPLAY']=':0'\n",
    "\n",
    "from six.moves import cPickle as pickle\n",
    "import gym\n",
    "import numpy as np\n",
    "import cv2\n",
    "import multiprocessing\n",
    "from multiprocessing import Pool\n",
    "from multiprocessing.reduction import reduce_connection\n",
    "from hashlib import sha256\n",
    "import SharedArray as sa\n",
    "\n",
    "import os, sys, urllib, gzip\n",
    "from __future__ import print_function\n",
    "import cPickle as pickle\n",
    "sys.setrecursionlimit(10000)\n",
    "\n",
    "from functools import partial\n",
    "\n",
    "import matplotlib\n",
    "import matplotlib.pyplot as plt\n",
    "%matplotlib inline\n",
    "import numpy as np\n",
    "from IPython.display import Image as IPImage\n",
    "from PIL import Image\n",
    "from time import sleep"
   ]
  },
  {
   "cell_type": "markdown",
   "metadata": {},
   "source": [
    "# Define config"
   ]
  },
  {
   "cell_type": "code",
   "execution_count": 3,
   "metadata": {
    "collapsed": true
   },
   "outputs": [],
   "source": [
    "fc_config_filename = 'fc.config'\n",
    "game_name = 'Skiing'\n",
    "game_version = 'v0'\n",
    "game = game_name + '-' + game_version\n",
    "num_evaluations = 2\n",
    "num_cores = 11\n",
    "population_size = 60\n",
    "encoder_filename = '../collect/{}-enc.pkl'.format(game)\n",
    "encoder_outputs = 32\n",
    "cuda_processes = 4"
   ]
  },
  {
   "cell_type": "markdown",
   "metadata": {},
   "source": [
    "# Create environment"
   ]
  },
  {
   "cell_type": "code",
   "execution_count": 4,
   "metadata": {
    "collapsed": false
   },
   "outputs": [
    {
     "name": "stderr",
     "output_type": "stream",
     "text": [
      "[2017-02-10 14:27:36,886] Making new env: Skiing-v0\n"
     ]
    }
   ],
   "source": [
    "env = gym.make(game)"
   ]
  },
  {
   "cell_type": "markdown",
   "metadata": {},
   "source": [
    "# Autoencoder"
   ]
  },
  {
   "cell_type": "code",
   "execution_count": 5,
   "metadata": {
    "collapsed": true
   },
   "outputs": [],
   "source": [
    "def get_ae(encoder_filename):\n",
    "    from nolearn.lasagne import NeuralNet\n",
    "    ae = pickle.load(open(encoder_filename,'rb'))\n",
    "    return(ae)"
   ]
  },
  {
   "cell_type": "code",
   "execution_count": 6,
   "metadata": {
    "collapsed": true
   },
   "outputs": [],
   "source": [
    "def get_f_dense(ae):\n",
    "    import theano\n",
    "    from lasagne.layers import get_output\n",
    "    dense_layer = get_output(ae.layers_['encode'],deterministic=True)\n",
    "    input_var = ae.layers_['input0'].input_var\n",
    "    f_dense = theano.function([input_var], dense_layer)\n",
    "    return(f_dense)"
   ]
  },
  {
   "cell_type": "code",
   "execution_count": 7,
   "metadata": {
    "collapsed": true
   },
   "outputs": [],
   "source": [
    "def autoencoder(f_dense, picture):\n",
    "    return(f_dense(np.array([picture], dtype=np.float32))[0])"
   ]
  },
  {
   "cell_type": "code",
   "execution_count": 8,
   "metadata": {
    "collapsed": false
   },
   "outputs": [],
   "source": [
    "f_dense = None\n",
    "get_ae_fn = partial(get_ae, encoder_filename = encoder_filename)\n",
    "#ae = get_ae_fn()"
   ]
  },
  {
   "cell_type": "markdown",
   "metadata": {},
   "source": [
    "# Cuda processes"
   ]
  },
  {
   "cell_type": "code",
   "execution_count": 9,
   "metadata": {
    "collapsed": true
   },
   "outputs": [],
   "source": [
    "def compress_pipe(p):\n",
    "    pp = pickle.dumps(reduce_connection(p))\n",
    "    return(pp)\n",
    "def decompress_pipe(pp):\n",
    "    upw = pickle.loads(pp)\n",
    "    pp = upw[0](upw[1][0],upw[1][1],upw[1][2])\n",
    "    return(pp)"
   ]
  },
  {
   "cell_type": "code",
   "execution_count": 10,
   "metadata": {
    "collapsed": true
   },
   "outputs": [],
   "source": [
    "m = multiprocessing.Manager()\n",
    "cuda_q = m.Queue()\n",
    "cuda_r = []"
   ]
  },
  {
   "cell_type": "code",
   "execution_count": 11,
   "metadata": {
    "collapsed": true
   },
   "outputs": [],
   "source": [
    "def cuda_process():\n",
    "    sys.stdout = open(str(os.getpid()) + \".out\", \"w\")\n",
    "    print(\"importing...\")\n",
    "    global f_dense\n",
    "    ae = get_ae_fn()\n",
    "    f_dense = get_f_dense(ae)\n",
    "    \n",
    "    print(\"Listening\")\n",
    "    global cuda_q\n",
    "    while True:\n",
    "        [sn_frame, sn_features, p] = cuda_q.get(block = True)\n",
    "        fr = sa.attach(sn_frame)\n",
    "        ft = sa.attach(sn_features)\n",
    "        p = decompress_pipe(p)\n",
    "        \n",
    "        try:\n",
    "            ft[:] = autoencoder(f_dense, fr)\n",
    "        except:\n",
    "            ft[:] = np.zeros(encoder_outputs)\n",
    "\n",
    "        try:\n",
    "            p.send(' ')\n",
    "        except:\n",
    "            continue\n",
    "    return(0)"
   ]
  },
  {
   "cell_type": "code",
   "execution_count": 12,
   "metadata": {
    "collapsed": false
   },
   "outputs": [
    {
     "name": "stderr",
     "output_type": "stream",
     "text": [
      "Using gpu device 1: GeForce GTX 980 (CNMeM is disabled, cuDNN 5105)\n",
      "/home/etoestja/venv/lib/python2.7/site-packages/theano/sandbox/cuda/__init__.py:600: UserWarning: Your cuDNN version is more recent than the one Theano officially supports. If you see any problems, try updating Theano or downgrading cuDNN to version 5.\n",
      "  warnings.warn(warn)\n",
      "/home/etoestja/venv/lib/python2.7/site-packages/sklearn/cross_validation.py:44: DeprecationWarning: This module was deprecated in version 0.18 in favor of the model_selection module into which all the refactored classes and functions are moved. Also note that the interface of the new CV iterators are different from that of this module. This module will be removed in 0.20.\n",
      "  \"This module will be removed in 0.20.\", DeprecationWarning)\n",
      "INFO (theano.gof.compilelock): Waiting for existing lock by process '28009' (I am process '28023')\n",
      "[2017-02-10 14:27:57,800] Waiting for existing lock by process '28009' (I am process '28023')\n",
      "INFO (theano.gof.compilelock): To manually release the lock, delete /home/etoestja/.theano/compiledir_Linux-3.16--amd64-x86_64-with-debian-8.6--2.7.9-64/lock_dir\n",
      "[2017-02-10 14:27:57,808] To manually release the lock, delete /home/etoestja/.theano/compiledir_Linux-3.16--amd64-x86_64-with-debian-8.6--2.7.9-64/lock_dir\n",
      "INFO (theano.gof.compilelock): Waiting for existing lock by process '28009' (I am process '28034')\n",
      "[2017-02-10 14:27:58,681] Waiting for existing lock by process '28009' (I am process '28034')\n",
      "INFO (theano.gof.compilelock): To manually release the lock, delete /home/etoestja/.theano/compiledir_Linux-3.16--amd64-x86_64-with-debian-8.6--2.7.9-64/lock_dir\n",
      "[2017-02-10 14:27:58,688] To manually release the lock, delete /home/etoestja/.theano/compiledir_Linux-3.16--amd64-x86_64-with-debian-8.6--2.7.9-64/lock_dir\n",
      "Using gpu device 1: GeForce GTX 980 (CNMeM is disabled, cuDNN 5105)\n",
      "/home/etoestja/venv/lib/python2.7/site-packages/theano/sandbox/cuda/__init__.py:600: UserWarning: Your cuDNN version is more recent than the one Theano officially supports. If you see any problems, try updating Theano or downgrading cuDNN to version 5.\n",
      "  warnings.warn(warn)\n",
      "/home/etoestja/venv/lib/python2.7/site-packages/sklearn/cross_validation.py:44: DeprecationWarning: This module was deprecated in version 0.18 in favor of the model_selection module into which all the refactored classes and functions are moved. Also note that the interface of the new CV iterators are different from that of this module. This module will be removed in 0.20.\n",
      "  \"This module will be removed in 0.20.\", DeprecationWarning)\n",
      "INFO (theano.gof.compilelock): Waiting for existing lock by process '28023' (I am process '28034')\n",
      "[2017-02-10 14:28:05,464] Waiting for existing lock by process '28023' (I am process '28034')\n",
      "INFO (theano.gof.compilelock): To manually release the lock, delete /home/etoestja/.theano/compiledir_Linux-3.16--amd64-x86_64-with-debian-8.6--2.7.9-64/lock_dir\n",
      "[2017-02-10 14:28:05,470] To manually release the lock, delete /home/etoestja/.theano/compiledir_Linux-3.16--amd64-x86_64-with-debian-8.6--2.7.9-64/lock_dir\n",
      "Using gpu device 1: GeForce GTX 980 (CNMeM is disabled, cuDNN 5105)\n",
      "/home/etoestja/venv/lib/python2.7/site-packages/theano/sandbox/cuda/__init__.py:600: UserWarning: Your cuDNN version is more recent than the one Theano officially supports. If you see any problems, try updating Theano or downgrading cuDNN to version 5.\n",
      "  warnings.warn(warn)\n",
      "/home/etoestja/venv/lib/python2.7/site-packages/sklearn/cross_validation.py:44: DeprecationWarning: This module was deprecated in version 0.18 in favor of the model_selection module into which all the refactored classes and functions are moved. Also note that the interface of the new CV iterators are different from that of this module. This module will be removed in 0.20.\n",
      "  \"This module will be removed in 0.20.\", DeprecationWarning)\n",
      "Using gpu device 1: GeForce GTX 980 (CNMeM is disabled, cuDNN 5105)\n",
      "/home/etoestja/venv/lib/python2.7/site-packages/theano/sandbox/cuda/__init__.py:600: UserWarning: Your cuDNN version is more recent than the one Theano officially supports. If you see any problems, try updating Theano or downgrading cuDNN to version 5.\n",
      "  warnings.warn(warn)\n",
      "/home/etoestja/venv/lib/python2.7/site-packages/sklearn/cross_validation.py:44: DeprecationWarning: This module was deprecated in version 0.18 in favor of the model_selection module into which all the refactored classes and functions are moved. Also note that the interface of the new CV iterators are different from that of this module. This module will be removed in 0.20.\n",
      "  \"This module will be removed in 0.20.\", DeprecationWarning)\n"
     ]
    }
   ],
   "source": [
    "for i in range(cuda_processes):\n",
    "    cuda_process_p = multiprocessing.Process(target = cuda_process, args = ())\n",
    "    cuda_process_p.daemon = True\n",
    "    cuda_process_p.start()\n",
    "    cuda_r.append(cuda_process_p)\n",
    "    sleep(1)"
   ]
  },
  {
   "cell_type": "code",
   "execution_count": 13,
   "metadata": {
    "collapsed": false
   },
   "outputs": [
    {
     "name": "stdout",
     "output_type": "stream",
     "text": [
      "[<Process(Process-2, started daemon)>, <Process(Process-3, started daemon)>, <Process(Process-4, started daemon)>, <Process(Process-5, started daemon)>]\n"
     ]
    }
   ],
   "source": [
    "print(cuda_r)"
   ]
  },
  {
   "cell_type": "markdown",
   "metadata": {},
   "source": [
    "# Create neat-python population"
   ]
  },
  {
   "cell_type": "code",
   "execution_count": 14,
   "metadata": {
    "collapsed": false
   },
   "outputs": [],
   "source": [
    "# Load configuration.\n",
    "config_initial = neat.Config(neat.DefaultGenome, neat.DefaultReproduction,\n",
    "                             neat.DefaultSpeciesSet, neat.DefaultStagnation, fc_config_filename)\n",
    "\n",
    "config_initial.genome_config.num_inputs = encoder_outputs\n",
    "config_initial.genome_config.num_outputs = env.action_space.n\n",
    "config_initial.pop_size = population_size"
   ]
  },
  {
   "cell_type": "code",
   "execution_count": 15,
   "metadata": {
    "collapsed": false
   },
   "outputs": [],
   "source": [
    "game_fc_config_filename = 'fc-' + game + '.config'\n",
    "\n",
    "config_initial.save(game_fc_config_filename)\n",
    "\n",
    "config = neat.Config(neat.DefaultGenome, neat.DefaultReproduction,\n",
    "                     neat.DefaultSpeciesSet, neat.DefaultStagnation, game_fc_config_filename)\n",
    "\n",
    "# Create the population, which is the top-level object for a NEAT run.\n",
    "p = neat.Population(config)"
   ]
  },
  {
   "cell_type": "markdown",
   "metadata": {},
   "source": [
    "# Add reporters"
   ]
  },
  {
   "cell_type": "code",
   "execution_count": 16,
   "metadata": {
    "collapsed": true
   },
   "outputs": [],
   "source": [
    "# Add a stdout reporter to show progress in the terminal.\n",
    "p.add_reporter(neat.StdOutReporter())\n",
    "stats = neat.StatisticsReporter()\n",
    "p.add_reporter(stats)\n",
    "p.add_reporter(neat.Checkpointer(5))"
   ]
  },
  {
   "cell_type": "markdown",
   "metadata": {},
   "source": [
    "# Define fitness via game score"
   ]
  },
  {
   "cell_type": "code",
   "execution_count": 20,
   "metadata": {
    "collapsed": true
   },
   "outputs": [],
   "source": [
    "alpha = 0.6\n",
    "sz = 28\n",
    "f_dense = None\n",
    "\n",
    "shared_name_frame = None\n",
    "shared_name_features = None\n",
    "shared_array_frame = None\n",
    "shared_array_features = None\n",
    "\n",
    "def init_shared(obj):\n",
    "    global shared_name_frame, shared_name_features, shared_array_frame, shared_array_features\n",
    "    h = sha256(obj.__str__())\n",
    "    seed = np.frombuffer(h.digest(), dtype='uint32')\n",
    "    rstate = np.random.RandomState(seed)\n",
    "    \n",
    "    shared_name_frame = \"shm://\" + str(os.getpid()) + '_frame' + str(seed[0])\n",
    "    shared_name_features = \"shm://\" + str(os.getpid()) + '_features' + str(seed[0])\n",
    "\n",
    "    try:\n",
    "        sa.delete(shared_name_frame[6:])\n",
    "    except:\n",
    "        pass\n",
    "    try:\n",
    "        sa.delete(shared_name_features[6:])\n",
    "    except:\n",
    "        pass\n",
    "    \n",
    "    shared_array_frame = sa.create(shared_name_frame, (3, sz, sz))\n",
    "    shared_array_features = sa.create(shared_name_features, (encoder_outputs))\n",
    "\n",
    "def transform_observation(observation):\n",
    "    #return(autoencoder(f_dense, observation))\n",
    "    global shared_array_frame, shared_name_frame, shared_name_features\n",
    "    global cuda_q\n",
    "    a, b = multiprocessing.Pipe()\n",
    "    b = compress_pipe(b)\n",
    "    shared_array_frame[:] = np.array(observation * 1./255)\n",
    "    cuda_q.put([shared_name_frame, shared_name_features, b])\n",
    "    a.recv()\n",
    "    return(shared_array_features)\n",
    "\n",
    "# a = argmax_a Q(s,a)\n",
    "def predict_action(observation, network):\n",
    "    observation = transform_observation(observation)\n",
    "    output = network.activate(observation)\n",
    "    action = np.argmax(output)\n",
    "    return(action)\n",
    "\n",
    "# play num_evaluations games, take mean\n",
    "def evaluate_network(env, network):\n",
    "    rewards = []\n",
    "    i = 0\n",
    "    while i < num_evaluations:\n",
    "        rewards += [get_reward(env, network)]\n",
    "        i += 1\n",
    "\n",
    "    res = np.array(rewards).mean()\n",
    "    return res"
   ]
  },
  {
   "cell_type": "code",
   "execution_count": 21,
   "metadata": {
    "collapsed": true
   },
   "outputs": [],
   "source": [
    "delta = None\n",
    "\n",
    "# play 1 game with network\n",
    "def get_reward(env, network):\n",
    "    global sz, alpha, delta\n",
    "    observation = env.reset()\n",
    "    \n",
    "    observation = cv2.resize(observation, (sz, sz))\n",
    "    prev_observation = observation\n",
    "    delta = np.zeros((3, sz, sz))\n",
    "    \n",
    "    done = False\n",
    "    iteration, total_reward = 0, 0\n",
    "        \n",
    "    while not done:\n",
    "        #env.render()\n",
    "        action = predict_action(delta, network)\n",
    "        prev_observation = observation\n",
    "        observation, reward, done, info = env.step(action)\n",
    "        observation = cv2.resize(observation, (sz, sz))\n",
    "        delta_now = observation - prev_observation\n",
    "        delta_now = np.swapaxes(delta_now, 0, 2)\n",
    "        delta_now = np.swapaxes(delta_now, 1, 2)\n",
    "        delta = alpha * delta_now + (1 - alpha) * delta\n",
    "        \n",
    "        total_reward += reward\n",
    "\n",
    "        #if iteration % 10 == 0:\n",
    "            #plt.imshow(np.swapaxes(delta, 0, 2))\n",
    "        \n",
    "        #if iteration % 500 == 0:\n",
    "        #    print(str(iteration))\n",
    "\n",
    "        if total_reward < -12000 or iteration >= 8000:\n",
    "            break\n",
    "\n",
    "        iteration += 1\n",
    "        \n",
    "    return total_reward\n",
    "\n",
    "def evaluate_genome(genome, config):\n",
    "    init_shared(genome)\n",
    "    network = neat.nn.FeedForwardNetwork.create(genome, config)\n",
    "    fitness = evaluate_network(env, network)\n",
    "    return fitness\n",
    "\n",
    "evaluator = neat.parallel.ParallelEvaluator(num_workers = num_cores, eval_function = evaluate_genome, timeout = None)"
   ]
  },
  {
   "cell_type": "code",
   "execution_count": 22,
   "metadata": {
    "collapsed": false
   },
   "outputs": [
    {
     "name": "stdout",
     "output_type": "stream",
     "text": [
      "-12003.0\n"
     ]
    }
   ],
   "source": [
    "print(evaluate_genome(p.species.get_species(1).members[1], config))"
   ]
  },
  {
   "cell_type": "markdown",
   "metadata": {},
   "source": [
    "# Run evolution"
   ]
  },
  {
   "cell_type": "code",
   "execution_count": 23,
   "metadata": {
    "collapsed": false,
    "scrolled": true
   },
   "outputs": [
    {
     "name": "stdout",
     "output_type": "stream",
     "text": [
      "\n",
      " ****** Running generation 0 ****** \n",
      "\n",
      "Population's average fitness: -11999.05000 stdev: 904.34014\n",
      "Best fitness: -9013.00000 - size: (4, 128) - species 1 - id 16\n",
      "Species length: 1 totaling 60 individuals\n",
      "Species no improv: {1: 0}\n",
      "Average adjusted fitness: 0.490\n",
      "Spawn amounts: [60]\n",
      "Species fitness  : [0.48986930896045111]\n",
      "Mean genetic distance 1.1372074859, std dev 0.202307703154\n",
      "Total extinctions: 0\n",
      "Generation time: 310.348 sec\n",
      "Saving checkpoint to neat-checkpoint-0\n"
     ]
    }
   ],
   "source": [
    "# Run evolution\n",
    "winner = p.run(evaluator.evaluate, 1)"
   ]
  },
  {
   "cell_type": "code",
   "execution_count": null,
   "metadata": {
    "collapsed": false
   },
   "outputs": [
    {
     "name": "stdout",
     "output_type": "stream",
     "text": [
      "\n",
      " ****** Running generation 1 ****** \n",
      "\n",
      "Population's average fitness: -11824.87500 stdev: 768.38560\n",
      "Best fitness: -9012.00000 - size: (4, 128) - species 1 - id 22\n",
      "Species length: 1 totaling 60 individuals\n",
      "Species no improv: {1: 0}\n",
      "Average adjusted fitness: 0.336\n",
      "Spawn amounts: [60]\n",
      "Species fitness  : [0.33635130352719123]\n",
      "Mean genetic distance 1.59431990539, std dev 0.318139914092\n",
      "Total extinctions: 0\n",
      "Generation time: 325.387 sec (317.868 average)\n",
      "Saving checkpoint to neat-checkpoint-1\n",
      "\n",
      " ****** Running generation 2 ****** \n",
      "\n",
      "Population's average fitness: -11851.54167 stdev: 950.02313\n",
      "Best fitness: -9013.00000 - size: (4, 128) - species 1 - id 16\n",
      "Species length: 2 totaling 60 individuals\n",
      "Species no improv: {1: 1, 2: 0}\n",
      "Average adjusted fitness: 0.536\n",
      "Spawn amounts: [53, 7]\n",
      "Species fitness  : [0.49486092062473042, 0.57638098573054364]\n",
      "Mean genetic distance 1.57309493696, std dev 0.213539979557\n",
      "Total extinctions: 0\n",
      "Generation time: 303.129 sec (312.955 average)\n",
      "Saving checkpoint to neat-checkpoint-2\n",
      "\n",
      " ****** Running generation 3 ****** \n",
      "\n",
      "Population's average fitness: -11719.92500 stdev: 1317.79285\n",
      "Best fitness: -8505.00000 - size: (4, 125) - species 2 - id 215\n",
      "Species length: 2 totaling 60 individuals\n",
      "Species no improv: {1: 0, 2: 1}\n",
      "Average adjusted fitness: 0.576\n",
      "Spawn amounts: [16, 44]\n",
      "Species fitness  : [0.57031403658296731, 0.58222532792429471]\n",
      "Mean genetic distance 1.43833215659, std dev 0.249298682087\n",
      "Total extinctions: 0\n",
      "Generation time: 288.737 sec (306.900 average)\n",
      "\n",
      " ****** Running generation 4 ****** \n",
      "\n",
      "Population's average fitness: -11375.90000 stdev: 1841.19042\n",
      "Best fitness: -8505.00000 - size: (4, 125) - species 1 - id 215\n",
      "Species length: 2 totaling 60 individuals\n",
      "Species no improv: {1: 0, 2: 0}\n",
      "Average adjusted fitness: 0.610\n",
      "Spawn amounts: [19, 41]\n",
      "Species fitness  : [0.59420272159510634, 0.62611114449208116]\n",
      "Mean genetic distance 1.21872869477, std dev 0.290944283153\n",
      "Total extinctions: 0\n",
      "Generation time: 245.581 sec (294.637 average)\n",
      "Saving checkpoint to neat-checkpoint-4\n",
      "\n",
      " ****** Running generation 5 ****** \n",
      "\n",
      "Population's average fitness: -10130.71667 stdev: 1945.95775\n",
      "Best fitness: -9012.00000 - size: (5, 95) - species 2 - id 290\n",
      "Species length: 2 totaling 60 individuals\n",
      "Species no improv: {1: 0, 2: 0}\n",
      "Average adjusted fitness: 0.895\n",
      "Spawn amounts: [31, 29]\n",
      "Species fitness  : [0.91973244147157196, 0.86979515050167222]\n",
      "Mean genetic distance 1.52657533801, std dev 0.289050016058\n",
      "Total extinctions: 0\n",
      "Generation time: 172.841 sec (274.337 average)\n",
      "\n",
      " ****** Running generation 6 ****** \n",
      "\n",
      "Population's average fitness: -9749.90000 stdev: 1463.91862\n",
      "Best fitness: -9011.00000 - size: (3, 92) - species 2 - id 351\n",
      "Species length: 2 totaling 60 individuals\n",
      "Species no improv: {1: 0, 2: 0}\n",
      "Average adjusted fitness: 0.895\n",
      "Spawn amounts: [31, 29]\n",
      "Species fitness  : [0.915474992814027, 0.8748450524576028]\n",
      "Mean genetic distance 1.57490790855, std dev 0.302870737995\n",
      "Total extinctions: 0\n",
      "Generation time: 152.709 sec (256.962 average)\n",
      "Saving checkpoint to neat-checkpoint-6\n",
      "\n",
      " ****** Running generation 7 ****** \n",
      "\n",
      "Population's average fitness: -10044.60833 stdev: 1571.56823\n",
      "Best fitness: -9012.00000 - size: (5, 125) - species 1 - id 312\n",
      "Species length: 2 totaling 60 individuals\n",
      "Species no improv: {1: 1, 2: 1}\n",
      "Average adjusted fitness: 0.805\n",
      "Spawn amounts: [47, 13]\n",
      "Species fitness  : [0.84428237599879385, 0.76660447761194028]\n",
      "Mean genetic distance 1.47563493698, std dev 0.37375342309\n",
      "Total extinctions: 0\n",
      "Generation time: 171.424 sec (246.270 average)\n",
      "\n",
      " ****** Running generation 8 ****** \n",
      "\n",
      "Population's average fitness: -10141.20000 stdev: 1577.36260\n",
      "Best fitness: -9012.00000 - size: (5, 125) - species 1 - id 312\n",
      "Species length: 2 totaling 60 individuals\n",
      "Species no improv: {1: 2, 2: 2}\n",
      "Average adjusted fitness: 0.748\n",
      "Spawn amounts: [56, 4]\n",
      "Species fitness  : [0.83690791641004347, 0.65908303135339541]\n",
      "Mean genetic distance 1.66063909775, std dev 0.290055533326\n",
      "Total extinctions: 0\n",
      "Generation time: 177.841 sec (238.667 average)\n",
      "Saving checkpoint to neat-checkpoint-8\n",
      "\n",
      " ****** Running generation 9 ****** \n",
      "\n",
      "Population's average fitness: -10220.92500 stdev: 1700.40366\n",
      "Best fitness: -7194.00000 - size: (4, 93) - species 2 - id 529\n",
      "Species length: 2 totaling 60 individuals\n",
      "Species no improv: {1: 3, 2: 3}\n",
      "Average adjusted fitness: 0.583\n",
      "Spawn amounts: [54, 6]\n",
      "Species fitness  : [0.60117579076953997, 0.56493247099105948]\n",
      "Mean genetic distance 1.50893569697, std dev 0.215151120543\n",
      "Total extinctions: 0\n",
      "Generation time: 187.940 sec (233.594 average)\n",
      "\n",
      " ****** Running generation 10 ****** \n",
      "\n",
      "Population's average fitness: -9993.04167 stdev: 1595.64389\n",
      "Best fitness: -8768.00000 - size: (5, 90) - species 2 - id 581\n",
      "Species length: 2 totaling 60 individuals\n",
      "Species no improv: {1: 4, 2: 4}\n",
      "Average adjusted fitness: 0.796\n",
      "Spawn amounts: [31, 29]\n",
      "Species fitness  : [0.77999486084756486, 0.81272939929693966]\n",
      "Mean genetic distance 1.51933872149, std dev 0.21319577521\n",
      "Total extinctions: 0\n",
      "Generation time: 166.816 sec (219.241 average)\n",
      "Saving checkpoint to neat-checkpoint-10\n",
      "\n",
      " ****** Running generation 11 ****** \n",
      "\n",
      "Population's average fitness: -10293.39167 stdev: 1927.84768\n",
      "Best fitness: -9011.00000 - size: (5, 92) - species 2 - id 612\n",
      "Species length: 2 totaling 60 individuals\n",
      "Species no improv: {1: 5, 2: 5}\n",
      "Average adjusted fitness: 0.798\n",
      "Spawn amounts: [20, 40]\n",
      "Species fitness  : [0.79130911331306886, 0.80410959773678015]\n",
      "Mean genetic distance 1.550734846, std dev 0.207190915331\n",
      "Total extinctions: 0\n",
      "Generation time: 162.386 sec (202.940 average)\n",
      "\n",
      " ****** Running generation 12 ****** \n",
      "\n",
      "Population's average fitness: -9945.38333 stdev: 1672.44504\n",
      "Best fitness: -9012.00000 - size: (7, 123) - species 1 - id 666\n",
      "Species length: 2 totaling 60 individuals\n",
      "Species no improv: {1: 6, 2: 6}\n",
      "Average adjusted fitness: 0.864\n",
      "Spawn amounts: [37, 23]\n",
      "Species fitness  : [0.86641667769349962, 0.86208715455504525]\n",
      "Mean genetic distance 1.72910315578, std dev 0.257858575961\n",
      "Total extinctions: 0\n",
      "Generation time: 153.893 sec (188.017 average)\n",
      "Saving checkpoint to neat-checkpoint-12\n",
      "\n",
      " ****** Running generation 13 ****** \n",
      "\n",
      "Population's average fitness: -9997.50833 stdev: 1819.64449\n",
      "Best fitness: -9011.00000 - size: (7, 121) - species 1 - id 740\n",
      "Species length: 4 totaling 60 individuals\n",
      "Species no improv: {1: 7, 2: 7, 3: 0, 4: 0}\n",
      "Average adjusted fitness: 0.811\n",
      "Spawn amounts: [39, 17, 2, 2]\n",
      "Species fitness  : [0.89754841505283156, 0.86914279327943977, 0.66649778340721977, 0.81051298290056994]\n",
      "Mean genetic distance 1.68535922642, std dev 0.356460202604\n",
      "Total extinctions: 0\n",
      "Generation time: 169.795 sec (176.123 average)\n",
      "\n",
      " ****** Running generation 14 ****** \n",
      "\n",
      "Population's average fitness: -10118.16129 stdev: 1959.51131\n",
      "Best fitness: -8185.00000 - size: (4, 87) - species 2 - id 793\n",
      "Species length: 4 totaling 62 individuals\n",
      "Species no improv: {1: 8, 2: 0, 3: 0, 4: 0}\n",
      "Average adjusted fitness: 0.753\n",
      "Spawn amounts: [14, 23, 20, 3]\n",
      "Species fitness  : [0.76927411431543657, 0.8239162853174874, 0.69429109637517827, 0.72407963936889552]\n",
      "Mean genetic distance 1.85027035289, std dev 0.295771798645\n",
      "Total extinctions: 0\n",
      "Generation time: 166.126 sec (168.177 average)\n",
      "Saving checkpoint to neat-checkpoint-14\n",
      "\n",
      " ****** Running generation 15 ****** \n",
      "\n",
      "Population's average fitness: -10174.73333 stdev: 1521.09392\n",
      "Best fitness: -8931.00000 - size: (5, 119) - species 1 - id 789\n",
      "Species length: 6 totaling 60 individuals\n",
      "Species no improv: {1: 9, 2: 1, 3: 0, 4: 0, 5: 0, 6: 0}\n",
      "Average adjusted fitness: 0.675\n",
      "Spawn amounts: [10, 17, 6, 4, 20, 3]\n",
      "Species fitness  : [0.54608895997562756, 0.78514509311093339, 0.75353212231996658, 0.8104078601622301, 0.78828311496208803, 0.3644464754941163]\n",
      "Mean genetic distance 1.67304066429, std dev 0.333359326471\n",
      "Total extinctions: 0\n",
      "Generation time: 195.165 sec (170.409 average)\n",
      "\n",
      " ****** Running generation 16 ****** \n",
      "\n",
      "Population's average fitness: -10319.17500 stdev: 1647.83564\n",
      "Best fitness: -8957.50000 - size: (5, 119) - species 6 - id 789\n",
      "Species length: 6 totaling 60 individuals\n",
      "Species no improv: {1: 0, 2: 2, 3: 1, 4: 1, 5: 1, 6: 0}\n",
      "Average adjusted fitness: 0.791\n",
      "Spawn amounts: [7, 16, 2, 6, 18, 12]\n",
      "Species fitness  : [0.91645802036387913, 0.77394032224807807, 0.74106993824069434, 0.76218494408279081, 0.6823524760825449, 0.86871140043398443]\n",
      "Mean genetic distance 1.71067613523, std dev 0.316120734698\n",
      "Total extinctions: 0\n",
      "Generation time: 181.080 sec (173.247 average)\n",
      "Saving checkpoint to neat-checkpoint-16\n",
      "\n",
      " ****** Running generation 17 ****** \n",
      "\n",
      "Population's average fitness: -10074.91129 stdev: 1621.01095\n",
      "Best fitness: -9011.00000 - size: (6, 83) - species 5 - id 771\n",
      "Species length: 6 totaling 62 individuals\n",
      "Species no improv: {1: 1, 2: 3, 3: 0, 4: 0, 5: 0, 6: 1}\n",
      "Average adjusted fitness: 0.857\n",
      "Spawn amounts: [23, 14, 3, 6, 10, 5]\n",
      "Species fitness  : [0.83068176835951779, 0.78611131409085377, 0.85409816100353175, 0.90994519546949204, 0.9671010433158771, 0.79704786262331007]\n",
      "Mean genetic distance 1.77471850481, std dev 0.337138411113\n",
      "Total extinctions: 0\n",
      "Generation time: 168.821 sec (172.986 average)\n",
      "\n",
      " ****** Running generation 18 ****** \n",
      "\n",
      "Population's average fitness: -9828.93443 stdev: 1602.22077\n",
      "Best fitness: -7769.50000 - size: (5, 89) - species 5 - id 975\n",
      "Species length: 7 totaling 61 individuals\n",
      "Species no improv: {1: 0, 2: 4, 3: 1, 4: 1, 5: 1, 6: 0, 7: 0}\n",
      "Average adjusted fitness: 0.714\n",
      "Spawn amounts: [15, 9, 5, 3, 20, 7, 2]\n",
      "Species fitness  : [0.75994598350367581, 0.65713869463869468, 0.66416083916083901, 0.6737325174825175, 0.67106378470014827, 0.75069201631701632, 0.81883741258741261]\n",
      "Mean genetic distance 1.77347263023, std dev 0.30736658341\n",
      "Total extinctions: 0\n",
      "Generation time: 163.318 sec (171.534 average)\n",
      "Saving checkpoint to neat-checkpoint-18\n",
      "\n",
      " ****** Running generation 19 ****** \n",
      "\n",
      "Population's average fitness: -10445.28226 stdev: 1925.94245\n",
      "Best fitness: -8973.00000 - size: (4, 88) - species 1 - id 1014\n",
      "Species length: 7 totaling 62 individuals\n",
      "Species no improv: {1: 1, 2: 5, 3: 2, 4: 2, 5: 2, 6: 1, 7: 1}\n",
      "Average adjusted fitness: 0.790\n",
      "Spawn amounts: [16, 7, 12, 7, 10, 2, 6]\n",
      "Species fitness  : [0.76819573355420756, 0.66232734049550535, 0.79306770843714502, 0.7572626616969963, 0.85224975029842376, 0.77578016516845716, 0.92131355209627508]\n",
      "Mean genetic distance 1.70603967038, std dev 0.302178762512\n",
      "Total extinctions: 0\n",
      "Generation time: 188.464 sec (171.586 average)\n",
      "\n",
      " ****** Running generation 20 ****** \n",
      "\n",
      "Population's average fitness: -10086.18852 stdev: 1578.58045\n",
      "Best fitness: -8585.50000 - size: (3, 83) - species 1 - id 1067\n",
      "Species length: 7 totaling 61 individuals\n",
      "Species no improv: {1: 2, 2: 6, 3: 0, 4: 3, 5: 3, 6: 2, 7: 2}\n",
      "Average adjusted fitness: 0.769\n",
      "Spawn amounts: [13, 17, 3, 9, 3, 11, 4]\n",
      "Species fitness  : [0.78360620129781966, 0.77358577013928487, 0.93133501669789032, 0.75142135700904134, 0.74363986858896047, 0.68028291384974604, 0.72081127311232396]\n",
      "Mean genetic distance 1.8117725585, std dev 0.334628691823\n",
      "Total extinctions: 0\n",
      "Generation time: 182.645 sec (173.169 average)\n",
      "Saving checkpoint to neat-checkpoint-20\n",
      "\n",
      " ****** Running generation 21 ****** \n",
      "\n",
      "Population's average fitness: -9720.35833 stdev: 1486.81319\n",
      "Best fitness: -9011.00000 - size: (6, 83) - species 2 - id 771\n",
      "Species length: 7 totaling 60 individuals\n",
      "Species no improv: {1: 3, 2: 0, 3: 1, 4: 4, 5: 4, 6: 0, 7: 3}\n",
      "Average adjusted fitness: 0.892\n",
      "Spawn amounts: [10, 21, 2, 11, 5, 8, 3]\n",
      "Species fitness  : [0.68816898594601239, 0.97309476887214241, 0.99966190516439857, 0.88332206350547982, 0.77601217141408163, 0.92745450813238828, 0.99966190516439857]\n",
      "Mean genetic distance 1.78841520129, std dev 0.372993463094\n",
      "Total extinctions: 0\n",
      "Generation time: 145.412 sec (171.472 average)\n",
      "\n",
      " ****** Running generation 22 ****** \n",
      "\n",
      "Population's average fitness: -9929.87705 stdev: 1519.06803\n",
      "Best fitness: -9011.00000 - size: (4, 88) - species 1 - id 900\n",
      "Species length: 7 totaling 61 individuals\n",
      "Species no improv: {1: 4, 2: 1, 3: 2, 4: 5, 5: 5, 6: 1, 7: 4}\n",
      "Average adjusted fitness: 0.896\n",
      "Spawn amounts: [5, 23, 3, 13, 8, 5, 3]\n",
      "Species fitness  : [0.78735558863137001, 0.82183287263448879, 0.99971649301864063, 0.9062241595199283, 0.93918775249840525, 0.88982209936919698, 0.92827273371606778]\n",
      "Mean genetic distance 1.7689808841, std dev 0.413445510187\n",
      "Total extinctions: 0\n",
      "Generation time: 158.693 sec (171.952 average)\n",
      "Saving checkpoint to neat-checkpoint-22\n",
      "\n",
      " ****** Running generation 23 ****** \n",
      "\n",
      "Population's average fitness: -9854.93333 stdev: 1537.59776\n",
      "Best fitness: -9011.00000 - size: (7, 118) - species 2 - id 1178\n",
      "Species length: 7 totaling 60 individuals\n",
      "Species no improv: {1: 5, 2: 2, 3: 3, 4: 6, 5: 6, 6: 2, 7: 5}\n",
      "Average adjusted fitness: 0.856\n",
      "Spawn amounts: [15, 19, 2, 8, 7, 5, 4]\n",
      "Species fitness  : [0.88915113479589913, 0.88958320183466932, 0.99962128384775606, 0.67900650129394702, 0.69924020071956072, 0.89507669002082935, 0.94286120053020261]\n",
      "Mean genetic distance 1.76088723461, std dev 0.381566812831\n",
      "Total extinctions: 0\n",
      "Generation time: 157.678 sec (170.740 average)\n",
      "\n",
      " ****** Running generation 24 ****** \n",
      "\n",
      "Population's average fitness: -10153.09016 stdev: 1903.62598\n",
      "Best fitness: -9011.00000 - size: (6, 83) - species 6 - id 771\n",
      "Species length: 7 totaling 61 individuals\n",
      "Species no improv: {1: 6, 2: 3, 3: 4, 4: 7, 5: 7, 6: 0, 7: 6}\n",
      "Average adjusted fitness: 0.879\n",
      "Spawn amounts: [16, 3, 6, 18, 6, 10, 2]\n",
      "Species fitness  : [0.72940554164008897, 0.7361147844485586, 0.99973551970378205, 0.86159328498447918, 0.86795821211319757, 0.95586117723118524, 0.99973551970378205]\n",
      "Mean genetic distance 1.77017009645, std dev 0.383884528181\n",
      "Total extinctions: 0\n",
      "Generation time: 163.132 sec (170.441 average)\n",
      "Saving checkpoint to neat-checkpoint-24\n",
      "\n",
      " ****** Running generation 25 ****** \n",
      "\n",
      "Population's average fitness: -10145.33065 stdev: 1672.13515\n",
      "Best fitness: -9011.00000 - size: (6, 83) - species 2 - id 771\n",
      "Species length: 7 totaling 62 individuals\n",
      "Species no improv: {1: 7, 2: 4, 3: 5, 4: 8, 5: 8, 6: 1, 7: 7}\n",
      "Average adjusted fitness: 0.835\n",
      "Spawn amounts: [7, 14, 4, 19, 7, 3, 5]\n",
      "Species fitness  : [0.74384971922631249, 0.8682454901369242, 0.99964346198413401, 0.72655231983157831, 0.68804037793029682, 0.82196868407760659, 0.99964346198413401]\n",
      "Mean genetic distance 1.81325203342, std dev 0.470240610438\n",
      "Total extinctions: 0\n",
      "Generation time: 179.357 sec (168.860 average)\n",
      "\n",
      " ****** Running generation 26 ****** \n",
      "\n",
      "Population's average fitness: -9830.96610 stdev: 1476.64481\n",
      "Best fitness: -9011.00000 - size: (5, 87) - species 1 - id 1283\n",
      "Species length: 7 totaling 59 individuals\n",
      "Species no improv: {1: 8, 2: 0, 3: 6, 4: 0, 5: 9, 6: 2, 7: 8}\n",
      "Average adjusted fitness: 0.913\n",
      "Spawn amounts: [25, 6, 8, 5, 7, 9, 1]\n",
      "Species fitness  : [0.82576220568685144, 0.9997051355557377, 0.92966546926740223, 0.99967237283970845, 0.82375998970314634, 0.81492705745306293, 0.99967237283970845]\n",
      "Mean genetic distance 1.80326464936, std dev 0.497019021698\n",
      "Total extinctions: 0\n",
      "Generation time: 148.909 sec (165.643 average)\n",
      "Saving checkpoint to neat-checkpoint-26\n",
      "\n",
      " ****** Running generation 27 ****** \n",
      "\n"
     ]
    }
   ],
   "source": [
    "# Run evolution\n",
    "winner = p.run(evaluator.evaluate, 30)"
   ]
  },
  {
   "cell_type": "markdown",
   "metadata": {},
   "source": [
    "# Print results"
   ]
  },
  {
   "cell_type": "code",
   "execution_count": null,
   "metadata": {
    "collapsed": false
   },
   "outputs": [],
   "source": [
    "# Display the winning genome.\n",
    "#print('\\nBest genome:\\n{!s}'.format(winner))\n",
    "\n",
    "# Show output of the most fit genome against training data.\n",
    "winner_network = neat.nn.FeedForwardNetwork.create(winner, config)\n",
    "visualize.draw_net(config, winner, False)\n",
    "visualize.plot_stats(stats, ylog = False, view = False)\n",
    "visualize.plot_species(stats, view = False)\n",
    "\n",
    "#p = neat.Checkpointer.restore_checkpoint('neat-checkpoint-4')\n",
    "#p.run(eval_genomes, 10)"
   ]
  },
  {
   "cell_type": "markdown",
   "metadata": {},
   "source": [
    "# Evaluate from checkpoint & send to OpenAI"
   ]
  },
  {
   "cell_type": "code",
   "execution_count": null,
   "metadata": {
    "collapsed": true
   },
   "outputs": [],
   "source": [
    "def get_winner(p):\n",
    "    max_fitness = -9999999999\n",
    "    best_genome = None\n",
    "    for v in p.population:\n",
    "        genome = p.population[v]\n",
    "        if genome.fitness > max_fitness:\n",
    "            max_fitness = genome.fitness\n",
    "            winner = genome\n",
    "    print(max_fitness)\n",
    "    return(winner)"
   ]
  },
  {
   "cell_type": "code",
   "execution_count": null,
   "metadata": {
    "collapsed": false
   },
   "outputs": [],
   "source": [
    "s = 'neat-checkpoint-0 neat-checkpoint-15 neat-checkpoint-21 neat-checkpoint-28 neat-checkpoint-34 neat-checkpoint-40 neat-checkpoint-47 neat-checkpoint-53 neat-checkpoint-8 neat-checkpoint-1 neat-checkpoint-16 neat-checkpoint-22 neat-checkpoint-29 neat-checkpoint-35 neat-checkpoint-41 neat-checkpoint-48 neat-checkpoint-54 neat-checkpoint-9 neat-checkpoint-10 neat-checkpoint-17 neat-checkpoint-23 neat-checkpoint-3 neat-checkpoint-36 neat-checkpoint-42 neat-checkpoint-49 neat-checkpoint-55 neat-checkpoint-11 neat-checkpoint-18 neat-checkpoint-24 neat-checkpoint-30 neat-checkpoint-37 neat-checkpoint-43 neat-checkpoint-5 neat-checkpoint-56 neat-checkpoint-12 neat-checkpoint-19 neat-checkpoint-25 neat-checkpoint-31 neat-checkpoint-38 neat-checkpoint-44 neat-checkpoint-50 neat-checkpoint-57 neat-checkpoint-13 neat-checkpoint-2 neat-checkpoint-26 neat-checkpoint-32 neat-checkpoint-39 neat-checkpoint-45 neat-checkpoint-51 neat-checkpoint-6 neat-checkpoint-14 neat-checkpoint-20 neat-checkpoint-27 neat-checkpoint-33 neat-checkpoint-4 neat-checkpoint-46 neat-checkpoint-7 '\n",
    "for x in s.split(' '):\n",
    "    p = neat.Checkpointer.restore_checkpoint(x)\n",
    "    winner = get_winner(p)"
   ]
  },
  {
   "cell_type": "code",
   "execution_count": null,
   "metadata": {
    "collapsed": false
   },
   "outputs": [],
   "source": [
    "env_eval = gym.make(game)\n",
    "monitor_path = '/tmp/' + game + '-eval'\n",
    "env_eval = wrappers.Monitor(env_eval, monitor_path)\n",
    "def evaluate_with_video(game, network):\n",
    "    for i_episode in range(100):\n",
    "        observation = env_eval.reset()\n",
    "        total_reward = 0\n",
    "        t = 0\n",
    "        while True:\n",
    "            env_eval.render()\n",
    "            action = predict_action(observation, network)\n",
    "            observation, reward, done, info = env_eval.step(action)\n",
    "            total_reward += reward\n",
    "            t += 1\n",
    "            if done:\n",
    "                print(\"Episode finished after {0} timesteps reward = {1}\".format(t+1, total_reward))\n",
    "                break"
   ]
  },
  {
   "cell_type": "code",
   "execution_count": null,
   "metadata": {
    "collapsed": true
   },
   "outputs": [],
   "source": [
    "evaluate_with_video(game, winner_network)"
   ]
  },
  {
   "cell_type": "code",
   "execution_count": null,
   "metadata": {
    "collapsed": true
   },
   "outputs": [],
   "source": [
    "env_eval.close()"
   ]
  },
  {
   "cell_type": "code",
   "execution_count": null,
   "metadata": {
    "collapsed": true
   },
   "outputs": [],
   "source": [
    "gym.upload(monitor_path, api_key='sk_ciz2F0csRzCkpESayoRuug')"
   ]
  },
  {
   "cell_type": "markdown",
   "metadata": {},
   "source": [
    "# Measure performance"
   ]
  },
  {
   "cell_type": "code",
   "execution_count": null,
   "metadata": {
    "collapsed": false
   },
   "outputs": [],
   "source": [
    "# FPS total\n",
    "t_initial = time()\n",
    "env.reset()\n",
    "F = 100\n",
    "buf = []\n",
    "for i in range(F):\n",
    "    action = env.action_space.sample()\n",
    "    observation, reward, done, info = env.step(action)\n",
    "    features = transform_observation(1)\n",
    "t_end = time()\n",
    "print(\"FPS: \" + str(1. * F / (t_end - t_initial)))"
   ]
  },
  {
   "cell_type": "code",
   "execution_count": null,
   "metadata": {
    "collapsed": false
   },
   "outputs": [],
   "source": [
    "# FPS emulator-only\n",
    "t_initial = time()\n",
    "env.reset()\n",
    "F = 100\n",
    "buf = []\n",
    "for i in range(F):\n",
    "    action = env.action_space.sample()\n",
    "    observation, reward, done, info = env.step(action)\n",
    "t_end = time()\n",
    "print(\"FPS: \" + str(1. * F / (t_end - t_initial)))"
   ]
  },
  {
   "cell_type": "code",
   "execution_count": null,
   "metadata": {
    "collapsed": false
   },
   "outputs": [],
   "source": [
    "# FPS OD-only\n",
    "t_initial = time()\n",
    "env.reset()\n",
    "F = 100\n",
    "buf = []\n",
    "for i in range(F):\n",
    "    action = env.action_space.sample()\n",
    "    observation, reward, done, info = env.step(action)\n",
    "    image = process_image(env.ale.getScreenGrayscale()[:, :, 0])\n",
    "    buf = [image,image,image]\n",
    "t_end = time()\n",
    "print(\"FPS: \" + str(1. * F / (t_end - t_initial)))"
   ]
  },
  {
   "cell_type": "code",
   "execution_count": null,
   "metadata": {
    "collapsed": false
   },
   "outputs": [],
   "source": [
    "init_shared('sdsf')"
   ]
  },
  {
   "cell_type": "code",
   "execution_count": null,
   "metadata": {
    "collapsed": false
   },
   "outputs": [],
   "source": [
    "for i in range(10):\n",
    "    get_features_gpu(buf)"
   ]
  },
  {
   "cell_type": "code",
   "execution_count": null,
   "metadata": {
    "collapsed": false
   },
   "outputs": [],
   "source": [
    "%timeit get_features_gpu(buf)"
   ]
  },
  {
   "cell_type": "code",
   "execution_count": null,
   "metadata": {
    "collapsed": true
   },
   "outputs": [],
   "source": [
    "def get_reward(env):\n",
    "    global sz, alpha, delta\n",
    "    observation = env.reset()\n",
    "    \n",
    "    observation = cv2.resize(observation, (sz, sz))\n",
    "    prev_observation = observation\n",
    "    delta = np.zeros((3, sz, sz))\n",
    "    \n",
    "    done = False\n",
    "    iteration, total_reward = 0, 0\n",
    "        \n",
    "    while not done:\n",
    "        #env.render()\n",
    "        #action = predict_action(delta, network)\n",
    "        print(transform_observation(delta))\n",
    "        prev_observation = observation\n",
    "        observation, reward, done, info = env.step(env.action_space.sample())\n",
    "        observation = cv2.resize(observation, (sz, sz))\n",
    "        delta_now = observation - prev_observation\n",
    "        delta_now = np.swapaxes(delta_now, 0, 2)\n",
    "        delta_now = np.swapaxes(delta_now, 1, 2)\n",
    "        delta = alpha * delta_now + (1 - alpha) * delta\n",
    "        \n",
    "        total_reward += reward\n",
    "\n",
    "        #if iteration % 10 == 0:\n",
    "            #plt.imshow(np.swapaxes(delta, 0, 2))\n",
    "        \n",
    "        #if iteration % 500 == 0:\n",
    "        #    print(str(iteration))\n",
    "\n",
    "        if total_reward < -12000 or iteration >= 8000:\n",
    "            break\n",
    "\n",
    "        iteration += 1\n",
    "        \n",
    "    return total_reward"
   ]
  },
  {
   "cell_type": "code",
   "execution_count": null,
   "metadata": {
    "collapsed": true
   },
   "outputs": [],
   "source": [
    "get_reward()"
   ]
  }
 ],
 "metadata": {
  "kernelspec": {
   "display_name": "Python 2",
   "language": "python",
   "name": "python2"
  },
  "language_info": {
   "codemirror_mode": {
    "name": "ipython",
    "version": 2
   },
   "file_extension": ".py",
   "mimetype": "text/x-python",
   "name": "python",
   "nbconvert_exporter": "python",
   "pygments_lexer": "ipython2",
   "version": "2.7.9"
  }
 },
 "nbformat": 4,
 "nbformat_minor": 0
}
