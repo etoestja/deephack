{
 "cells": [
  {
   "cell_type": "markdown",
   "metadata": {
    "deletable": true,
    "editable": true
   },
   "source": [
    "Playing ATARI games using python-neat and convolutional autoencoder"
   ]
  },
  {
   "cell_type": "markdown",
   "metadata": {
    "deletable": true,
    "editable": true
   },
   "source": [
    "# Import"
   ]
  },
  {
   "cell_type": "code",
   "execution_count": 2,
   "metadata": {
    "collapsed": false,
    "deletable": true,
    "editable": true
   },
   "outputs": [],
   "source": [
    "import os, sys, urllib, gzip\n",
    "os.environ['DISPLAY']=':0'\n",
    "sys.setrecursionlimit(10000)\n",
    "\n",
    "from time import time, clock, sleep\n",
    "import numpy as np\n",
    "import gym\n",
    "from gym import wrappers\n",
    "import neat\n",
    "import visualize\n",
    "from __future__ import print_function\n",
    "from six.moves import cPickle as pickle\n",
    "import numpy as np\n",
    "import cv2\n",
    "import multiprocessing\n",
    "from multiprocessing import Pool\n",
    "from multiprocessing.reduction import reduce_connection\n",
    "from hashlib import sha256\n",
    "import SharedArray as sa\n",
    "\n",
    "from functools import partial\n",
    "%matplotlib inline\n",
    "import matplotlib\n",
    "import matplotlib.pyplot as plt\n",
    "from IPython.display import Image as IPImage\n",
    "from PIL import Image"
   ]
  },
  {
   "cell_type": "markdown",
   "metadata": {
    "deletable": true,
    "editable": true
   },
   "source": [
    "# Define config"
   ]
  },
  {
   "cell_type": "code",
   "execution_count": 3,
   "metadata": {
    "collapsed": true,
    "deletable": true,
    "editable": true
   },
   "outputs": [],
   "source": [
    "fc_config_filename = 'fc.config'\n",
    "game_name = 'Skiing'\n",
    "game_version = 'v0'\n",
    "game = game_name + '-' + game_version\n",
    "num_evaluations = 2\n",
    "num_cores = 11\n",
    "population_size = 60\n",
    "encoder_filename = '../collect/{}-enc.pkl'.format(game)\n",
    "encoder_outputs = 32\n",
    "cuda_processes = 4"
   ]
  },
  {
   "cell_type": "markdown",
   "metadata": {
    "deletable": true,
    "editable": true
   },
   "source": [
    "# Create environment"
   ]
  },
  {
   "cell_type": "code",
   "execution_count": 4,
   "metadata": {
    "collapsed": false,
    "deletable": true,
    "editable": true
   },
   "outputs": [
    {
     "name": "stderr",
     "output_type": "stream",
     "text": [
      "[2017-02-12 07:49:18,028] Making new env: Skiing-v0\n"
     ]
    }
   ],
   "source": [
    "env = gym.make(game)"
   ]
  },
  {
   "cell_type": "markdown",
   "metadata": {
    "deletable": true,
    "editable": true
   },
   "source": [
    "# Autoencoder"
   ]
  },
  {
   "cell_type": "code",
   "execution_count": 5,
   "metadata": {
    "collapsed": true,
    "deletable": true,
    "editable": true
   },
   "outputs": [],
   "source": [
    "def get_ae(encoder_filename):\n",
    "    from nolearn.lasagne import NeuralNet\n",
    "    ae = pickle.load(open(encoder_filename,'rb'))\n",
    "    return(ae)"
   ]
  },
  {
   "cell_type": "code",
   "execution_count": 6,
   "metadata": {
    "collapsed": true,
    "deletable": true,
    "editable": true
   },
   "outputs": [],
   "source": [
    "def get_f_dense(ae):\n",
    "    import theano\n",
    "    from lasagne.layers import get_output\n",
    "    dense_layer = get_output(ae.layers_['encode'],deterministic=True)\n",
    "    input_var = ae.layers_['input0'].input_var\n",
    "    f_dense = theano.function([input_var], dense_layer)\n",
    "    return(f_dense)"
   ]
  },
  {
   "cell_type": "code",
   "execution_count": 7,
   "metadata": {
    "collapsed": true,
    "deletable": true,
    "editable": true
   },
   "outputs": [],
   "source": [
    "def autoencoder(f_dense, picture):\n",
    "    return(f_dense(np.array([picture], dtype=np.float32))[0])"
   ]
  },
  {
   "cell_type": "code",
   "execution_count": 8,
   "metadata": {
    "collapsed": false,
    "deletable": true,
    "editable": true
   },
   "outputs": [],
   "source": [
    "f_dense = None\n",
    "get_ae_fn = partial(get_ae, encoder_filename = encoder_filename)\n",
    "#ae = get_ae_fn()"
   ]
  },
  {
   "cell_type": "markdown",
   "metadata": {
    "deletable": true,
    "editable": true
   },
   "source": [
    "# Cuda processes"
   ]
  },
  {
   "cell_type": "code",
   "execution_count": 9,
   "metadata": {
    "collapsed": true,
    "deletable": true,
    "editable": true
   },
   "outputs": [],
   "source": [
    "def compress_pipe(p):\n",
    "    pp = pickle.dumps(reduce_connection(p))\n",
    "    return(pp)\n",
    "def decompress_pipe(pp):\n",
    "    upw = pickle.loads(pp)\n",
    "    pp = upw[0](upw[1][0],upw[1][1],upw[1][2])\n",
    "    return(pp)"
   ]
  },
  {
   "cell_type": "code",
   "execution_count": 10,
   "metadata": {
    "collapsed": true,
    "deletable": true,
    "editable": true
   },
   "outputs": [],
   "source": [
    "m = multiprocessing.Manager()\n",
    "cuda_q = m.Queue()\n",
    "cuda_r = []"
   ]
  },
  {
   "cell_type": "code",
   "execution_count": 11,
   "metadata": {
    "collapsed": true,
    "deletable": true,
    "editable": true
   },
   "outputs": [],
   "source": [
    "def cuda_process():\n",
    "    print(\"importing...\")\n",
    "    global f_dense\n",
    "    ae = get_ae_fn()\n",
    "    f_dense = get_f_dense(ae)\n",
    "    \n",
    "    print(\"Listening\")\n",
    "    global cuda_q\n",
    "    while True:\n",
    "        [sn_frame, sn_features, p] = cuda_q.get(block = True)\n",
    "        fr = sa.attach(sn_frame)\n",
    "        ft = sa.attach(sn_features)\n",
    "        p = decompress_pipe(p)\n",
    "        \n",
    "        try:\n",
    "            ft[:] = autoencoder(f_dense, fr)\n",
    "        except:\n",
    "            ft[:] = np.zeros(encoder_outputs)\n",
    "\n",
    "        try:\n",
    "            p.send(' ')\n",
    "        except:\n",
    "            continue\n",
    "    return(0)"
   ]
  },
  {
   "cell_type": "code",
   "execution_count": 12,
   "metadata": {
    "collapsed": false,
    "deletable": true,
    "editable": true
   },
   "outputs": [
    {
     "name": "stdout",
     "output_type": "stream",
     "text": [
      "importing...\n",
      "importing...\n",
      "importing...\n",
      "importing...\n"
     ]
    },
    {
     "name": "stderr",
     "output_type": "stream",
     "text": [
      "Using gpu device 1: GeForce GTX 980 (CNMeM is disabled, cuDNN 5105)\n",
      "/home/etoestja/venv/lib/python2.7/site-packages/theano/sandbox/cuda/__init__.py:600: UserWarning: Your cuDNN version is more recent than the one Theano officially supports. If you see any problems, try updating Theano or downgrading cuDNN to version 5.\n",
      "  warnings.warn(warn)\n",
      "/home/etoestja/venv/lib/python2.7/site-packages/sklearn/cross_validation.py:44: DeprecationWarning: This module was deprecated in version 0.18 in favor of the model_selection module into which all the refactored classes and functions are moved. Also note that the interface of the new CV iterators are different from that of this module. This module will be removed in 0.20.\n",
      "  \"This module will be removed in 0.20.\", DeprecationWarning)\n",
      "INFO (theano.gof.compilelock): Waiting for existing lock by process '15273' (I am process '15291')\n",
      "[2017-02-12 07:49:39,326] Waiting for existing lock by process '15273' (I am process '15291')\n",
      "INFO (theano.gof.compilelock): To manually release the lock, delete /home/etoestja/.theano/compiledir_Linux-3.16--amd64-x86_64-with-debian-8.6--2.7.9-64/lock_dir\n",
      "[2017-02-12 07:49:39,333] To manually release the lock, delete /home/etoestja/.theano/compiledir_Linux-3.16--amd64-x86_64-with-debian-8.6--2.7.9-64/lock_dir\n",
      "INFO (theano.gof.compilelock): Waiting for existing lock by process '15273' (I am process '15328')\n",
      "[2017-02-12 07:49:40,155] Waiting for existing lock by process '15273' (I am process '15328')\n",
      "INFO (theano.gof.compilelock): To manually release the lock, delete /home/etoestja/.theano/compiledir_Linux-3.16--amd64-x86_64-with-debian-8.6--2.7.9-64/lock_dir\n",
      "[2017-02-12 07:49:40,162] To manually release the lock, delete /home/etoestja/.theano/compiledir_Linux-3.16--amd64-x86_64-with-debian-8.6--2.7.9-64/lock_dir\n",
      "Using gpu device 1: GeForce GTX 980 (CNMeM is disabled, cuDNN 5105)\n",
      "/home/etoestja/venv/lib/python2.7/site-packages/theano/sandbox/cuda/__init__.py:600: UserWarning: Your cuDNN version is more recent than the one Theano officially supports. If you see any problems, try updating Theano or downgrading cuDNN to version 5.\n",
      "  warnings.warn(warn)\n",
      "/home/etoestja/venv/lib/python2.7/site-packages/sklearn/cross_validation.py:44: DeprecationWarning: This module was deprecated in version 0.18 in favor of the model_selection module into which all the refactored classes and functions are moved. Also note that the interface of the new CV iterators are different from that of this module. This module will be removed in 0.20.\n",
      "  \"This module will be removed in 0.20.\", DeprecationWarning)\n"
     ]
    },
    {
     "name": "stdout",
     "output_type": "stream",
     "text": [
      "Listening\n"
     ]
    },
    {
     "name": "stderr",
     "output_type": "stream",
     "text": [
      "INFO (theano.gof.compilelock): Waiting for existing lock by process '15291' (I am process '15328')\n",
      "[2017-02-12 07:49:46,937] Waiting for existing lock by process '15291' (I am process '15328')\n",
      "INFO (theano.gof.compilelock): To manually release the lock, delete /home/etoestja/.theano/compiledir_Linux-3.16--amd64-x86_64-with-debian-8.6--2.7.9-64/lock_dir\n",
      "[2017-02-12 07:49:46,942] To manually release the lock, delete /home/etoestja/.theano/compiledir_Linux-3.16--amd64-x86_64-with-debian-8.6--2.7.9-64/lock_dir\n",
      "Using gpu device 1: GeForce GTX 980 (CNMeM is disabled, cuDNN 5105)\n",
      "/home/etoestja/venv/lib/python2.7/site-packages/theano/sandbox/cuda/__init__.py:600: UserWarning: Your cuDNN version is more recent than the one Theano officially supports. If you see any problems, try updating Theano or downgrading cuDNN to version 5.\n",
      "  warnings.warn(warn)\n",
      "/home/etoestja/venv/lib/python2.7/site-packages/sklearn/cross_validation.py:44: DeprecationWarning: This module was deprecated in version 0.18 in favor of the model_selection module into which all the refactored classes and functions are moved. Also note that the interface of the new CV iterators are different from that of this module. This module will be removed in 0.20.\n",
      "  \"This module will be removed in 0.20.\", DeprecationWarning)\n",
      "Using gpu device 1: GeForce GTX 980 (CNMeM is disabled, cuDNN 5105)\n",
      "/home/etoestja/venv/lib/python2.7/site-packages/theano/sandbox/cuda/__init__.py:600: UserWarning: Your cuDNN version is more recent than the one Theano officially supports. If you see any problems, try updating Theano or downgrading cuDNN to version 5.\n",
      "  warnings.warn(warn)\n",
      "/home/etoestja/venv/lib/python2.7/site-packages/sklearn/cross_validation.py:44: DeprecationWarning: This module was deprecated in version 0.18 in favor of the model_selection module into which all the refactored classes and functions are moved. Also note that the interface of the new CV iterators are different from that of this module. This module will be removed in 0.20.\n",
      "  \"This module will be removed in 0.20.\", DeprecationWarning)\n"
     ]
    },
    {
     "name": "stdout",
     "output_type": "stream",
     "text": [
      "Listening\n",
      "Listening\n",
      "Listening\n"
     ]
    }
   ],
   "source": [
    "while len(cuda_r) < cuda_processes:\n",
    "    cuda_process_p = multiprocessing.Process(target = cuda_process, args = ())\n",
    "    cuda_process_p.daemon = True\n",
    "    cuda_process_p.start()\n",
    "    cuda_r.append(cuda_process_p)\n",
    "    sleep(1)"
   ]
  },
  {
   "cell_type": "code",
   "execution_count": 13,
   "metadata": {
    "collapsed": false,
    "deletable": true,
    "editable": true
   },
   "outputs": [
    {
     "name": "stdout",
     "output_type": "stream",
     "text": [
      "[<Process(Process-2, started daemon)>, <Process(Process-3, started daemon)>, <Process(Process-4, started daemon)>, <Process(Process-5, started daemon)>]\n"
     ]
    }
   ],
   "source": [
    "print(cuda_r)"
   ]
  },
  {
   "cell_type": "markdown",
   "metadata": {
    "deletable": true,
    "editable": true
   },
   "source": [
    "# Create neat-python population"
   ]
  },
  {
   "cell_type": "code",
   "execution_count": 14,
   "metadata": {
    "collapsed": false,
    "deletable": true,
    "editable": true
   },
   "outputs": [],
   "source": [
    "# Load configuration.\n",
    "config_initial = neat.Config(neat.DefaultGenome, neat.DefaultReproduction,\n",
    "                             neat.DefaultSpeciesSet, neat.DefaultStagnation, fc_config_filename)\n",
    "\n",
    "config_initial.genome_config.num_inputs = encoder_outputs\n",
    "config_initial.genome_config.num_outputs = env.action_space.n\n",
    "config_initial.pop_size = population_size"
   ]
  },
  {
   "cell_type": "code",
   "execution_count": 15,
   "metadata": {
    "collapsed": false,
    "deletable": true,
    "editable": true
   },
   "outputs": [],
   "source": [
    "game_fc_config_filename = 'fc-' + game + '.config'\n",
    "\n",
    "config_initial.save(game_fc_config_filename)\n",
    "\n",
    "config = neat.Config(neat.DefaultGenome, neat.DefaultReproduction,\n",
    "                     neat.DefaultSpeciesSet, neat.DefaultStagnation, game_fc_config_filename)\n",
    "\n",
    "# Create the population, which is the top-level object for a NEAT run.\n",
    "p = neat.Population(config)"
   ]
  },
  {
   "cell_type": "markdown",
   "metadata": {
    "deletable": true,
    "editable": true
   },
   "source": [
    "# Add reporters"
   ]
  },
  {
   "cell_type": "code",
   "execution_count": 16,
   "metadata": {
    "collapsed": true,
    "deletable": true,
    "editable": true
   },
   "outputs": [],
   "source": [
    "# Add a stdout reporter to show progress in the terminal.\n",
    "p.add_reporter(neat.StdOutReporter())\n",
    "stats = neat.StatisticsReporter()\n",
    "p.add_reporter(stats)\n",
    "p.add_reporter(neat.Checkpointer(5))"
   ]
  },
  {
   "cell_type": "markdown",
   "metadata": {
    "deletable": true,
    "editable": true
   },
   "source": [
    "# Define fitness via game score"
   ]
  },
  {
   "cell_type": "code",
   "execution_count": 17,
   "metadata": {
    "collapsed": true,
    "deletable": true,
    "editable": true
   },
   "outputs": [],
   "source": [
    "alpha = 0.6\n",
    "sz = 28\n",
    "f_dense = None\n",
    "\n",
    "shared_name_frame = None\n",
    "shared_name_features = None\n",
    "shared_array_frame = None\n",
    "shared_array_features = None\n",
    "\n",
    "def init_shared(obj):\n",
    "    global shared_name_frame, shared_name_features, shared_array_frame, shared_array_features\n",
    "    h = sha256(obj.__str__())\n",
    "    seed = np.frombuffer(h.digest(), dtype='uint32')\n",
    "    rstate = np.random.RandomState(seed)\n",
    "    \n",
    "    shared_name_frame = \"shm://\" + str(os.getpid()) + '_frame' + str(seed[0])\n",
    "    shared_name_features = \"shm://\" + str(os.getpid()) + '_features' + str(seed[0])\n",
    "\n",
    "    try:\n",
    "        sa.delete(shared_name_frame[6:])\n",
    "    except:\n",
    "        pass\n",
    "    try:\n",
    "        sa.delete(shared_name_features[6:])\n",
    "    except:\n",
    "        pass\n",
    "    \n",
    "    shared_array_frame = sa.create(shared_name_frame, (3, sz, sz))\n",
    "    shared_array_features = sa.create(shared_name_features, (encoder_outputs))\n",
    "\n",
    "def transform_observation(observation):\n",
    "    #return(autoencoder(f_dense, observation))\n",
    "    global shared_array_frame, shared_name_frame, shared_name_features\n",
    "    global cuda_q\n",
    "    a, b = multiprocessing.Pipe()\n",
    "    b = compress_pipe(b)\n",
    "    shared_array_frame[:] = np.array(observation * 1./255)\n",
    "    cuda_q.put([shared_name_frame, shared_name_features, b])\n",
    "    a.recv()\n",
    "    return(shared_array_features)\n",
    "\n",
    "# a = argmax_a Q(s,a)\n",
    "def predict_action(observation, network):\n",
    "    observation = transform_observation(observation)\n",
    "    output = network.activate(observation)\n",
    "    action = np.argmax(output)\n",
    "    return(action)\n",
    "\n",
    "# play num_evaluations games, take mean\n",
    "def evaluate_network(env, network):\n",
    "    rewards = []\n",
    "    i = 0\n",
    "    while i < num_evaluations:\n",
    "        rewards += [get_reward(env, network)]\n",
    "        i += 1\n",
    "\n",
    "    res = np.array(rewards).mean()\n",
    "    return res"
   ]
  },
  {
   "cell_type": "code",
   "execution_count": 18,
   "metadata": {
    "collapsed": true,
    "deletable": true,
    "editable": true
   },
   "outputs": [],
   "source": [
    "delta = None\n",
    "\n",
    "# play 1 game with network\n",
    "def get_reward(env, network):\n",
    "    global sz, alpha, delta\n",
    "    observation = env.reset()\n",
    "    \n",
    "    observation = cv2.resize(observation, (sz, sz))\n",
    "    prev_observation = observation\n",
    "    delta = np.zeros((3, sz, sz))\n",
    "    \n",
    "    done = False\n",
    "    iteration, total_reward = 0, 0\n",
    "        \n",
    "    while not done:\n",
    "        action = predict_action(delta, network)\n",
    "        prev_observation = observation\n",
    "        observation, reward, done, info = env.step(action)\n",
    "        observation = cv2.resize(observation, (sz, sz))\n",
    "        delta_now = observation - prev_observation\n",
    "        delta_now = np.swapaxes(delta_now, 0, 2)\n",
    "        delta_now = np.swapaxes(delta_now, 1, 2)\n",
    "        delta = alpha * delta_now + (1 - alpha) * delta\n",
    "        \n",
    "        total_reward += reward\n",
    "\n",
    "        #if iteration % 10 == 0:\n",
    "            #plt.imshow(np.swapaxes(delta, 0, 2))\n",
    "        \n",
    "        #if iteration % 500 == 0:\n",
    "        #    print(str(iteration))\n",
    "\n",
    "        #if total_reward < -12000 or iteration >= 8000:\n",
    "        #    break\n",
    "\n",
    "        iteration += 1\n",
    "        \n",
    "    return total_reward\n",
    "\n",
    "def evaluate_genome(genome, config):\n",
    "    init_shared(genome)\n",
    "    network = neat.nn.FeedForwardNetwork.create(genome, config)\n",
    "    fitness = evaluate_network(env, network)\n",
    "    return fitness\n",
    "\n",
    "evaluator = neat.parallel.ParallelEvaluator(num_workers = num_cores, eval_function = evaluate_genome, timeout = None)"
   ]
  },
  {
   "cell_type": "code",
   "execution_count": 22,
   "metadata": {
    "collapsed": false,
    "deletable": true,
    "editable": true
   },
   "outputs": [
    {
     "name": "stdout",
     "output_type": "stream",
     "text": [
      "-12003.0\n"
     ]
    }
   ],
   "source": [
    "print(evaluate_genome(p.species.get_species(1).members[1], config))"
   ]
  },
  {
   "cell_type": "markdown",
   "metadata": {
    "deletable": true,
    "editable": true
   },
   "source": [
    "# Run evolution"
   ]
  },
  {
   "cell_type": "code",
   "execution_count": null,
   "metadata": {
    "collapsed": false,
    "deletable": true,
    "editable": true,
    "scrolled": true
   },
   "outputs": [],
   "source": [
    "# Run evolution\n",
    "winner = p.run(evaluator.evaluate, 33)"
   ]
  },
  {
   "cell_type": "markdown",
   "metadata": {
    "deletable": true,
    "editable": true
   },
   "source": [
    "# Print results"
   ]
  },
  {
   "cell_type": "code",
   "execution_count": 26,
   "metadata": {
    "collapsed": true,
    "deletable": true,
    "editable": true
   },
   "outputs": [],
   "source": [
    "# Display the winning genome.\n",
    "#print('\\nBest genome:\\n{!s}'.format(winner))\n",
    "\n",
    "# Show output of the most fit genome against training data.\n",
    "winner_network = neat.nn.FeedForwardNetwork.create(winner, config)"
   ]
  },
  {
   "cell_type": "code",
   "execution_count": null,
   "metadata": {
    "collapsed": false,
    "deletable": true,
    "editable": true
   },
   "outputs": [],
   "source": [
    "visualize.draw_net(config, winner, False)\n",
    "visualize.plot_stats(stats, ylog = False, view = False)\n",
    "visualize.plot_species(stats, view = False)\n",
    "\n",
    "#p = neat.Checkpointer.restore_checkpoint('neat-checkpoint-4')\n",
    "#p.run(eval_genomes, 10)"
   ]
  },
  {
   "cell_type": "markdown",
   "metadata": {
    "deletable": true,
    "editable": true
   },
   "source": [
    "# Evaluate from checkpoint & send to OpenAI"
   ]
  },
  {
   "cell_type": "code",
   "execution_count": 19,
   "metadata": {
    "collapsed": true,
    "deletable": true,
    "editable": true
   },
   "outputs": [],
   "source": [
    "def get_winner(p):\n",
    "    max_fitness = -9999999999\n",
    "    best_genome = None\n",
    "    for v in p.population:\n",
    "        genome = p.population[v]\n",
    "        if genome.fitness > max_fitness:\n",
    "            max_fitness = genome.fitness\n",
    "            winner = genome\n",
    "    print(max_fitness)\n",
    "    return(winner)"
   ]
  },
  {
   "cell_type": "code",
   "execution_count": 20,
   "metadata": {
    "collapsed": true,
    "deletable": true,
    "editable": true
   },
   "outputs": [],
   "source": [
    "p = neat.Checkpointer.restore_checkpoint('neat-checkpoint-' + game)"
   ]
  },
  {
   "cell_type": "code",
   "execution_count": 21,
   "metadata": {
    "collapsed": false,
    "deletable": true,
    "editable": true
   },
   "outputs": [
    {
     "name": "stdout",
     "output_type": "stream",
     "text": [
      "-6528.0\n"
     ]
    }
   ],
   "source": [
    "winner = get_winner(p)\n",
    "winner_network = neat.nn.FeedForwardNetwork.create(winner, config)"
   ]
  },
  {
   "cell_type": "code",
   "execution_count": null,
   "metadata": {
    "collapsed": false,
    "deletable": true,
    "editable": true
   },
   "outputs": [],
   "source": [
    "init_shared('testing')\n",
    "env_eval = gym.make(game)\n",
    "monitor_path = '/tmp/' + game + '-eval'\n",
    "env_eval = wrappers.Monitor(env_eval, monitor_path)\n",
    "def evaluate_with_video(network):\n",
    "    for i_episode in range(100):\n",
    "        print(get_reward(env_eval, network))"
   ]
  },
  {
   "cell_type": "code",
   "execution_count": null,
   "metadata": {
    "collapsed": false,
    "deletable": true,
    "editable": true
   },
   "outputs": [],
   "source": [
    "evaluate_with_video(winner_network)"
   ]
  },
  {
   "cell_type": "code",
   "execution_count": null,
   "metadata": {
    "collapsed": false,
    "deletable": true,
    "editable": true
   },
   "outputs": [],
   "source": [
    "env_eval.close()"
   ]
  },
  {
   "cell_type": "code",
   "execution_count": null,
   "metadata": {
    "collapsed": true
   },
   "outputs": [],
   "source": [
    "gym.upload(monitor_path, api_key='sk_ciz2F0csRzCkpESayoRuug')"
   ]
  },
  {
   "cell_type": "markdown",
   "metadata": {},
   "source": [
    "# Generate video"
   ]
  },
  {
   "cell_type": "code",
   "execution_count": null,
   "metadata": {
    "collapsed": false,
    "deletable": true,
    "editable": true
   },
   "outputs": [
    {
     "name": "stderr",
     "output_type": "stream",
     "text": [
      "[2017-02-12 07:52:01,468] Making new env: Skiing-v0\n",
      "[2017-02-12 07:52:01,603] DEPRECATION WARNING: env.spec.timestep_limit has been deprecated. Replace your call to `env.spec.timestep_limit` with `env.spec.tags.get('wrapper_config.TimeLimit.max_episode_steps')`. This change was made 12/28/2016 and is included in version 0.7.0\n",
      "[2017-02-12 07:52:01,814] Starting new video recorder writing to /tmp/Skiing-v0-eval/openaigym.video.1.15239.video000000.mp4\n"
     ]
    }
   ],
   "source": [
    "init_shared('testing')\n",
    "env_eval = gym.make(game)\n",
    "monitor_path = '/tmp/' + game + '-eval'\n",
    "env_eval = wrappers.Monitor(env_eval, monitor_path, force = True)\n",
    "env_eval.seed(0)\n",
    "get_reward(env_eval, winner_network)"
   ]
  },
  {
   "cell_type": "markdown",
   "metadata": {
    "deletable": true,
    "editable": true
   },
   "source": [
    "# Measure performance"
   ]
  },
  {
   "cell_type": "code",
   "execution_count": null,
   "metadata": {
    "collapsed": false,
    "deletable": true,
    "editable": true
   },
   "outputs": [],
   "source": [
    "# FPS total\n",
    "t_initial = time()\n",
    "env.reset()\n",
    "F = 100\n",
    "buf = []\n",
    "for i in range(F):\n",
    "    action = env.action_space.sample()\n",
    "    observation, reward, done, info = env.step(action)\n",
    "    features = transform_observation(1)\n",
    "t_end = time()\n",
    "print(\"FPS: \" + str(1. * F / (t_end - t_initial)))"
   ]
  },
  {
   "cell_type": "code",
   "execution_count": null,
   "metadata": {
    "collapsed": false,
    "deletable": true,
    "editable": true
   },
   "outputs": [],
   "source": [
    "# FPS emulator-only\n",
    "t_initial = time()\n",
    "env.reset()\n",
    "F = 100\n",
    "buf = []\n",
    "for i in range(F):\n",
    "    action = env.action_space.sample()\n",
    "    observation, reward, done, info = env.step(action)\n",
    "t_end = time()\n",
    "print(\"FPS: \" + str(1. * F / (t_end - t_initial)))"
   ]
  }
 ],
 "metadata": {
  "kernelspec": {
   "display_name": "Python 2",
   "language": "python",
   "name": "python2"
  },
  "language_info": {
   "codemirror_mode": {
    "name": "ipython",
    "version": 2
   },
   "file_extension": ".py",
   "mimetype": "text/x-python",
   "name": "python",
   "nbconvert_exporter": "python",
   "pygments_lexer": "ipython2",
   "version": "2.7.9"
  }
 },
 "nbformat": 4,
 "nbformat_minor": 0
}
