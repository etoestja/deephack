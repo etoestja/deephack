{
 "cells": [
  {
   "cell_type": "code",
   "execution_count": 1,
   "metadata": {
    "collapsed": false,
    "deletable": true,
    "editable": true
   },
   "outputs": [],
   "source": [
    "import gym\n",
    "%matplotlib inline\n",
    "import matplotlib.pyplot as plt\n",
    "import numpy as np\n",
    "import cv2"
   ]
  },
  {
   "cell_type": "code",
   "execution_count": 2,
   "metadata": {
    "collapsed": true,
    "deletable": true,
    "editable": true
   },
   "outputs": [],
   "source": [
    "env_name = 'Skiing-v0'"
   ]
  },
  {
   "cell_type": "code",
   "execution_count": 122,
   "metadata": {
    "collapsed": false,
    "deletable": true,
    "editable": true
   },
   "outputs": [
    {
     "name": "stderr",
     "output_type": "stream",
     "text": [
      "[2017-02-10 12:42:33,858] Making new env: Skiing-v0\n"
     ]
    }
   ],
   "source": [
    "env = gym.make(env_name)\n",
    "N = 1000"
   ]
  },
  {
   "cell_type": "code",
   "execution_count": 134,
   "metadata": {
    "collapsed": true,
    "deletable": true,
    "editable": true
   },
   "outputs": [],
   "source": [
    "buf = []\n",
    "use = []"
   ]
  },
  {
   "cell_type": "code",
   "execution_count": 135,
   "metadata": {
    "collapsed": false,
    "deletable": true,
    "editable": true
   },
   "outputs": [
    {
     "name": "stdout",
     "output_type": "stream",
     "text": [
      "Episode finished after 1669 timesteps\n"
     ]
    }
   ],
   "source": [
    "alpha = 0.6\n",
    "sz = 28\n",
    "while len(buf) < N:\n",
    "    observation = env.reset()\n",
    "    observation = cv2.resize(observation, (sz, sz))\n",
    "    delta = np.zeros((3, sz, sz))\n",
    "    for t in range(3000):\n",
    "        use_ = 0\n",
    "        if t >= 2:\n",
    "            use_ = 1\n",
    "        use.append(use_)\n",
    "        \n",
    "        prev_observation = observation\n",
    "        \n",
    "        action = env.action_space.sample()\n",
    "        observation, r, done, i = env.step(action)\n",
    "        observation = cv2.resize(observation, (sz, sz))\n",
    "        \n",
    "        delta_now = observation - prev_observation\n",
    "        delta_now = np.swapaxes(delta_now, 0, 2)\n",
    "        delta_now = np.swapaxes(delta_now, 1, 2)\n",
    "        delta = alpha * delta_now + (1 - alpha) * delta\n",
    "        buf.append(delta)\n",
    "        \n",
    "        if done:\n",
    "            print(\"Episode finished after {} timesteps\".format(t+1))\n",
    "            break"
   ]
  },
  {
   "cell_type": "code",
   "execution_count": 136,
   "metadata": {
    "collapsed": true,
    "deletable": true,
    "editable": true
   },
   "outputs": [],
   "source": [
    "images = np.array(buf)\n",
    "use = np.array(use)"
   ]
  },
  {
   "cell_type": "code",
   "execution_count": 137,
   "metadata": {
    "collapsed": false
   },
   "outputs": [
    {
     "data": {
      "text/plain": [
       "(1669, 3, 28, 28)"
      ]
     },
     "execution_count": 137,
     "metadata": {},
     "output_type": "execute_result"
    }
   ],
   "source": [
    "images.shape"
   ]
  },
  {
   "cell_type": "code",
   "execution_count": 138,
   "metadata": {
    "collapsed": false
   },
   "outputs": [
    {
     "data": {
      "text/plain": [
       "<matplotlib.image.AxesImage at 0x7f1ba0ca2850>"
      ]
     },
     "execution_count": 138,
     "metadata": {},
     "output_type": "execute_result"
    },
    {
     "data": {
      "image/png": "[encoded data removed]",
      "text/plain": [
       "<matplotlib.figure.Figure at 0x7f1b8854d390>"
      ]
     },
     "metadata": {},
     "output_type": "display_data"
    }
   ],
   "source": [
    "mean = np.mean(images, axis = 0)\n",
    "plt.imshow(mean[0,:,:])"
   ]
  },
  {
   "cell_type": "code",
   "execution_count": 139,
   "metadata": {
    "collapsed": false
   },
   "outputs": [
    {
     "data": {
      "text/plain": [
       "<matplotlib.image.AxesImage at 0x7f1ba0db8b10>"
      ]
     },
     "execution_count": 139,
     "metadata": {},
     "output_type": "execute_result"
    },
    {
     "data": {
      "image/png": "[encoded data removed]",
      "text/plain": [
       "<matplotlib.figure.Figure at 0x7f1ba0d053d0>"
      ]
     },
     "metadata": {},
     "output_type": "display_data"
    }
   ],
   "source": [
    "i = 180\n",
    "plt.imshow(np.swapaxes(images[i], 0, 2))"
   ]
  },
  {
   "cell_type": "code",
   "execution_count": 6,
   "metadata": {
    "collapsed": true
   },
   "outputs": [],
   "source": [
    "import os, sys, urllib, gzip\n",
    "from __future__ import print_function\n",
    "try:\n",
    "    import cPickle as pickle\n",
    "except:\n",
    "    import pickle\n",
    "sys.setrecursionlimit(10000)"
   ]
  },
  {
   "cell_type": "code",
   "execution_count": 7,
   "metadata": {
    "collapsed": false
   },
   "outputs": [],
   "source": [
    "import matplotlib\n",
    "matplotlib.use('Agg') # Change matplotlib backend, in case we have no X server running..\n",
    "import matplotlib.pyplot as plt\n",
    "%matplotlib inline\n",
    "import numpy as np\n",
    "from IPython.display import Image as IPImage\n",
    "from PIL import Image"
   ]
  },
  {
   "cell_type": "code",
   "execution_count": 8,
   "metadata": {
    "collapsed": false
   },
   "outputs": [],
   "source": [
    "from lasagne.layers import get_output, InputLayer, DenseLayer, Upscale2DLayer, ReshapeLayer\n",
    "from lasagne.nonlinearities import rectify, leaky_rectify, tanh\n",
    "from lasagne.updates import nesterov_momentum, rmsprop\n",
    "from lasagne.objectives import categorical_crossentropy\n",
    "from nolearn.lasagne import NeuralNet, BatchIterator, PrintLayerInfo"
   ]
  },
  {
   "cell_type": "code",
   "execution_count": 9,
   "metadata": {
    "collapsed": false
   },
   "outputs": [
    {
     "name": "stdout",
     "output_type": "stream",
     "text": [
      "Using cuda_convnet (faster)\n"
     ]
    }
   ],
   "source": [
    "from lasagne.layers import Conv2DLayer as Conv2DLayerSlow\n",
    "from lasagne.layers import MaxPool2DLayer as MaxPool2DLayerSlow\n",
    "from lasagne.layers.cuda_convnet import Conv2DCCLayer as Conv2DLayerFast\n",
    "from lasagne.layers.cuda_convnet import MaxPool2DCCLayer as MaxPool2DLayerFast\n",
    "print('Using cuda_convnet (faster)')"
   ]
  },
  {
   "cell_type": "code",
   "execution_count": null,
   "metadata": {
    "collapsed": false
   },
   "outputs": [],
   "source": [
    "X = np.array(images, dtype=np.float32) / 255."
   ]
  },
  {
   "cell_type": "code",
   "execution_count": 18,
   "metadata": {
    "collapsed": false
   },
   "outputs": [
    {
     "name": "stdout",
     "output_type": "stream",
     "text": [
      "X type and shape: float32 (10225, 3, 28, 28)\n",
      "X.min(): 0.0\n",
      "X.max(): 0.985528\n"
     ]
    }
   ],
   "source": [
    "print('X type and shape:', X.dtype, X.shape)\n",
    "print('X.min():', X.min())\n",
    "print('X.max():', X.max())"
   ]
  },
  {
   "cell_type": "code",
   "execution_count": 19,
   "metadata": {
    "collapsed": false
   },
   "outputs": [
    {
     "name": "stdout",
     "output_type": "stream",
     "text": [
      "X_out: float32 (10225, 2352)\n"
     ]
    }
   ],
   "source": [
    "# we need our target to be 1 dimensional\n",
    "X_out = X.reshape((X.shape[0], -1))\n",
    "print('X_out:', X_out.dtype, X_out.shape)"
   ]
  },
  {
   "cell_type": "code",
   "execution_count": null,
   "metadata": {
    "collapsed": false
   },
   "outputs": [],
   "source": [
    "conv_num_filters = 16\n",
    "filter_size = 3\n",
    "pool_size = 2\n",
    "encode_size = 32\n",
    "dense_mid_size = 128\n",
    "pad_in = 'valid'\n",
    "pad_out = 'full'\n",
    "layers = [\n",
    "    (InputLayer, {'shape': (None, X.shape[1], X.shape[2], X.shape[3])}), \n",
    "    (Conv2DLayerFast, {'num_filters': conv_num_filters, 'filter_size': filter_size, 'pad': pad_in}),\n",
    "    (Conv2DLayerFast, {'num_filters': conv_num_filters, 'filter_size': filter_size, 'pad': pad_in}),\n",
    "    (MaxPool2DLayerFast, {'pool_size': pool_size}),\n",
    "    (Conv2DLayerFast, {'num_filters': 2*conv_num_filters, 'filter_size': filter_size, 'pad': pad_in}),\n",
    "    (MaxPool2DLayerFast, {'pool_size': pool_size}),\n",
    "    (ReshapeLayer, {'shape': (([0], -1))}),\n",
    "    (DenseLayer, {'num_units': dense_mid_size}),\n",
    "    (DenseLayer, {'name': 'encode', 'num_units': encode_size}),\n",
    "    (DenseLayer, {'num_units': dense_mid_size}),\n",
    "    (DenseLayer, {'num_units': 800}),\n",
    "    (ReshapeLayer, {'shape': (([0], 2*conv_num_filters, 5, 5))}),\n",
    "    (Upscale2DLayer, {'scale_factor': pool_size}),\n",
    "    (Conv2DLayerFast, {'num_filters': conv_num_filters, 'filter_size': filter_size, 'pad': pad_out}),\n",
    "    (Upscale2DLayer, {'scale_factor': pool_size}),\n",
    "    (Conv2DLayerSlow, {'num_filters': conv_num_filters, 'filter_size': filter_size, 'pad': pad_out}),\n",
    "    (Conv2DLayerSlow, {'num_filters': 3, 'filter_size': filter_size, 'pad': pad_out}),\n",
    "    (ReshapeLayer, {'shape': (([0], -1))}),\n",
    "]"
   ]
  },
  {
   "cell_type": "code",
   "execution_count": null,
   "metadata": {
    "collapsed": false
   },
   "outputs": [],
   "source": [
    "ae = NeuralNet(\n",
    "    layers=layers,\n",
    "    max_epochs=100,\n",
    "    \n",
    "    update=rmsprop,\n",
    "    update_learning_rate=0.001,\n",
    "    \n",
    "    regression=True,\n",
    "    verbose=1\n",
    ")"
   ]
  },
  {
   "cell_type": "code",
   "execution_count": 55,
   "metadata": {
    "collapsed": false
   },
   "outputs": [
    {
     "name": "stdout",
     "output_type": "stream",
     "text": [
      "    201     \u001b[36m0.00140\u001b[0m     0.00156    0.89519  1.46s\n",
      "    202     0.00142     0.00158    0.89466  1.41s\n",
      "    203     0.00140     0.00156    0.89814  1.41s\n",
      "    204     \u001b[36m0.00139\u001b[0m     \u001b[32m0.00154\u001b[0m    0.89904  1.41s\n",
      "    205     \u001b[36m0.00138\u001b[0m     \u001b[32m0.00154\u001b[0m    0.89327  1.41s\n",
      "    206     \u001b[36m0.00136\u001b[0m     \u001b[32m0.00154\u001b[0m    0.88573  1.41s\n",
      "    207     \u001b[36m0.00136\u001b[0m     0.00154    0.88327  1.42s\n",
      "    208     0.00137     0.00155    0.88569  1.41s\n",
      "    209     0.00138     0.00154    0.89215  1.41s\n",
      "    210     0.00137     0.00154    0.89150  1.41s\n",
      "    211     0.00136     \u001b[32m0.00154\u001b[0m    0.88662  1.42s\n",
      "    212     \u001b[36m0.00135\u001b[0m     \u001b[32m0.00153\u001b[0m    0.88674  1.42s\n",
      "    213     \u001b[36m0.00135\u001b[0m     \u001b[32m0.00153\u001b[0m    0.88354  1.42s\n",
      "    214     \u001b[36m0.00134\u001b[0m     \u001b[32m0.00152\u001b[0m    0.88432  1.41s\n",
      "    215     \u001b[36m0.00134\u001b[0m     \u001b[32m0.00152\u001b[0m    0.88010  1.42s\n",
      "    216     \u001b[36m0.00134\u001b[0m     0.00152    0.87936  1.42s\n",
      "    217     0.00134     0.00152    0.87979  1.42s\n",
      "    218     0.00134     \u001b[32m0.00151\u001b[0m    0.88421  1.42s\n",
      "    219     0.00135     \u001b[32m0.00151\u001b[0m    0.88987  1.42s\n",
      "    220     \u001b[36m0.00134\u001b[0m     \u001b[32m0.00151\u001b[0m    0.88645  1.42s\n",
      "    221     \u001b[36m0.00133\u001b[0m     \u001b[32m0.00150\u001b[0m    0.88444  1.42s\n",
      "    222     \u001b[36m0.00132\u001b[0m     \u001b[32m0.00150\u001b[0m    0.87548  1.42s\n",
      "    223     \u001b[36m0.00131\u001b[0m     \u001b[32m0.00149\u001b[0m    0.87781  1.42s\n",
      "    224     \u001b[36m0.00130\u001b[0m     0.00149    0.87059  1.41s\n",
      "    225     \u001b[36m0.00129\u001b[0m     0.00150    0.86576  1.42s\n",
      "    226     0.00130     \u001b[32m0.00148\u001b[0m    0.87512  1.42s\n",
      "    227     \u001b[36m0.00129\u001b[0m     0.00150    0.86470  1.41s\n",
      "    228     0.00130     0.00148    0.87424  1.42s\n",
      "    229     \u001b[36m0.00129\u001b[0m     \u001b[32m0.00148\u001b[0m    0.87094  1.42s\n",
      "    230     0.00129     \u001b[32m0.00148\u001b[0m    0.87313  1.42s\n",
      "    231     \u001b[36m0.00128\u001b[0m     \u001b[32m0.00147\u001b[0m    0.87162  1.42s\n",
      "    232     \u001b[36m0.00127\u001b[0m     0.00149    0.85741  1.41s\n",
      "    233     0.00128     \u001b[32m0.00147\u001b[0m    0.87101  1.42s\n",
      "    234     \u001b[36m0.00127\u001b[0m     0.00147    0.86205  1.42s\n",
      "    235     0.00127     0.00147    0.86375  1.41s\n",
      "    236     \u001b[36m0.00126\u001b[0m     \u001b[32m0.00147\u001b[0m    0.86115  1.42s\n",
      "    237     0.00126     0.00148    0.85156  1.41s\n",
      "    238     \u001b[36m0.00126\u001b[0m     \u001b[32m0.00145\u001b[0m    0.86522  1.42s\n",
      "    239     \u001b[36m0.00125\u001b[0m     0.00147    0.85081  1.42s\n",
      "    240     0.00127     0.00146    0.86871  1.42s\n",
      "    241     0.00127     0.00146    0.87011  1.42s\n",
      "    242     0.00126     0.00146    0.86903  1.42s\n",
      "    243     0.00126     0.00146    0.85999  1.42s\n",
      "    244     0.00126     0.00145    0.86413  1.42s\n",
      "    245     0.00125     \u001b[32m0.00145\u001b[0m    0.86236  1.42s\n",
      "    246     \u001b[36m0.00124\u001b[0m     \u001b[32m0.00144\u001b[0m    0.85590  1.42s\n",
      "    247     \u001b[36m0.00123\u001b[0m     0.00145    0.84985  1.42s\n",
      "    248     \u001b[36m0.00123\u001b[0m     \u001b[32m0.00144\u001b[0m    0.85084  1.42s\n",
      "    249     \u001b[36m0.00122\u001b[0m     \u001b[32m0.00144\u001b[0m    0.84811  1.42s\n",
      "    250     \u001b[36m0.00121\u001b[0m     \u001b[32m0.00144\u001b[0m    0.84346  1.42s\n",
      "    251     \u001b[36m0.00121\u001b[0m     \u001b[32m0.00143\u001b[0m    0.84485  1.42s\n",
      "    252     0.00121     0.00144    0.84124  1.42s\n",
      "    253     0.00122     0.00144    0.84301  1.41s\n",
      "    254     0.00121     0.00144    0.84155  1.42s\n",
      "    255     \u001b[36m0.00121\u001b[0m     \u001b[32m0.00143\u001b[0m    0.84278  1.42s\n",
      "    256     0.00121     0.00143    0.84119  1.42s\n",
      "    257     \u001b[36m0.00120\u001b[0m     0.00145    0.82519  1.42s\n",
      "    258     \u001b[36m0.00119\u001b[0m     \u001b[32m0.00143\u001b[0m    0.83160  1.41s\n",
      "    259     0.00119     0.00143    0.83194  1.42s\n",
      "    260     0.00120     0.00144    0.83248  1.42s\n",
      "    261     0.00119     0.00143    0.83410  1.42s\n",
      "    262     0.00119     0.00145    0.81785  1.42s\n",
      "    263     \u001b[36m0.00119\u001b[0m     0.00143    0.82955  1.42s\n",
      "    264     0.00119     0.00144    0.82421  1.42s\n",
      "    265     \u001b[36m0.00118\u001b[0m     \u001b[32m0.00143\u001b[0m    0.83056  1.42s\n",
      "    266     \u001b[36m0.00118\u001b[0m     0.00143    0.82850  1.42s\n",
      "    267     \u001b[36m0.00118\u001b[0m     0.00144    0.81477  1.42s\n",
      "    268     0.00118     \u001b[32m0.00142\u001b[0m    0.83034  1.42s\n",
      "    269     \u001b[36m0.00118\u001b[0m     \u001b[32m0.00142\u001b[0m    0.82947  1.42s\n",
      "    270     \u001b[36m0.00117\u001b[0m     \u001b[32m0.00142\u001b[0m    0.82448  1.42s\n",
      "    271     \u001b[36m0.00116\u001b[0m     \u001b[32m0.00140\u001b[0m    0.83345  1.42s\n",
      "    272     \u001b[36m0.00116\u001b[0m     \u001b[32m0.00140\u001b[0m    0.82757  1.41s\n",
      "    273     \u001b[36m0.00115\u001b[0m     \u001b[32m0.00140\u001b[0m    0.82340  1.41s\n",
      "    274     \u001b[36m0.00115\u001b[0m     0.00140    0.81700  1.42s\n",
      "    275     \u001b[36m0.00115\u001b[0m     \u001b[32m0.00140\u001b[0m    0.82048  1.42s\n",
      "    276     0.00115     \u001b[32m0.00139\u001b[0m    0.82516  1.42s\n",
      "    277     0.00115     \u001b[32m0.00139\u001b[0m    0.82483  1.41s\n",
      "    278     \u001b[36m0.00114\u001b[0m     \u001b[32m0.00138\u001b[0m    0.82454  1.42s\n",
      "    279     0.00114     0.00139    0.82301  1.42s\n",
      "    280     \u001b[36m0.00113\u001b[0m     \u001b[32m0.00138\u001b[0m    0.81959  1.42s\n",
      "    281     0.00114     0.00139    0.82152  1.42s\n",
      "    282     \u001b[36m0.00113\u001b[0m     \u001b[32m0.00138\u001b[0m    0.81841  1.42s\n",
      "    283     0.00113     \u001b[32m0.00138\u001b[0m    0.82161  1.42s\n",
      "    284     0.00113     0.00138    0.81960  1.42s\n",
      "    285     \u001b[36m0.00112\u001b[0m     0.00138    0.81464  1.42s\n",
      "    286     0.00112     \u001b[32m0.00138\u001b[0m    0.81665  1.42s\n",
      "    287     \u001b[36m0.00112\u001b[0m     \u001b[32m0.00137\u001b[0m    0.81484  1.42s\n",
      "    288     \u001b[36m0.00112\u001b[0m     \u001b[32m0.00137\u001b[0m    0.81728  1.42s\n",
      "    289     \u001b[36m0.00111\u001b[0m     0.00138    0.80442  1.42s\n",
      "    290     0.00111     0.00138    0.81024  1.42s\n",
      "    291     0.00111     0.00137    0.81079  1.42s\n",
      "    292     0.00111     0.00138    0.80675  1.42s\n",
      "    293     0.00112     0.00137    0.81225  1.42s\n",
      "    294     0.00111     0.00137    0.80907  1.42s\n",
      "    295     0.00112     0.00138    0.81349  1.42s\n",
      "    296     0.00112     0.00138    0.81239  1.42s\n",
      "    297     0.00113     0.00138    0.81820  1.41s\n",
      "    298     0.00112     0.00137    0.81959  1.42s\n",
      "    299     0.00111     0.00137    0.81116  1.42s\n",
      "    300     \u001b[36m0.00110\u001b[0m     0.00137    0.80482  1.42s\n"
     ]
    },
    {
     "data": {
      "text/plain": [
       "NeuralNet(X_tensor_type=None,\n",
       "     batch_iterator_test=<nolearn.lasagne.base.BatchIterator object at 0x7f1bd029f190>,\n",
       "     batch_iterator_train=<nolearn.lasagne.base.BatchIterator object at 0x7f1bd029f090>,\n",
       "     check_input=True, custom_scores=None,\n",
       "     layers=[(<class 'lasagne.layers.input.InputLayer'>, {'shape': (None, 3, 28, 28)}), (<class 'lasagne.layers.cuda_convnet.Conv2DCCLayer'>, {'filter_size': 3, 'pad': 'valid', 'num_filters': 16}), (<class 'lasagne.layers.cuda_convnet.Conv2DCCLayer'>, {'filter_size': 3, 'pad': 'valid', 'num_filters': 16}...d': 'full', 'num_filters': 3}), (<class 'lasagne.layers.shape.ReshapeLayer'>, {'shape': ([0], -1)})],\n",
       "     loss=None, max_epochs=100, more_params={},\n",
       "     objective=<function objective at 0x7f1bd029b668>,\n",
       "     objective_loss_function=<function squared_error at 0x7f1bd1bcbd70>,\n",
       "     on_batch_finished=[],\n",
       "     on_epoch_finished=[<nolearn.lasagne.handlers.PrintLog instance at 0x7f1bd0242758>],\n",
       "     on_training_finished=[],\n",
       "     on_training_started=[<nolearn.lasagne.handlers.PrintLayerInfo instance at 0x7f1bd0242710>],\n",
       "     regression=True, scores_train=[], scores_valid=[],\n",
       "     train_split=<nolearn.lasagne.base.TrainSplit object at 0x7f1bd029f1d0>,\n",
       "     update=<function nesterov_momentum at 0x7f1bd1bce668>,\n",
       "     update_learning_rate=0.2, update_momentum=0.975,\n",
       "     use_label_encoder=False, verbose=1,\n",
       "     y_tensor_type=TensorType(float32, matrix))"
      ]
     },
     "execution_count": 55,
     "metadata": {},
     "output_type": "execute_result"
    }
   ],
   "source": [
    "# Run multiple times\n",
    "ae.fit(X, X_out)"
   ]
  },
  {
   "cell_type": "code",
   "execution_count": 56,
   "metadata": {
    "collapsed": false
   },
   "outputs": [
    {
     "data": {
      "text/plain": [
       "<module 'matplotlib.pyplot' from '/home/etoestja/venv/lib/python2.7/site-packages/matplotlib/pyplot.pyc'>"
      ]
     },
     "execution_count": 56,
     "metadata": {},
     "output_type": "execute_result"
    },
    {
     "data": {
      "image/png": "[encoded data removed]",
      "text/plain": [
       "<matplotlib.figure.Figure at 0x7f1baaf8e6d0>"
      ]
     },
     "metadata": {},
     "output_type": "display_data"
    }
   ],
   "source": [
    "from nolearn.lasagne.visualize import plot_loss\n",
    "plot_loss(ae)"
   ]
  },
  {
   "cell_type": "code",
   "execution_count": 57,
   "metadata": {
    "collapsed": true
   },
   "outputs": [],
   "source": [
    "save_filename = env_name + '-enc.pkl'"
   ]
  },
  {
   "cell_type": "code",
   "execution_count": 59,
   "metadata": {
    "collapsed": false
   },
   "outputs": [],
   "source": [
    "# ae.save_params_to('mnist/conv_ae.np')\n",
    "pickle.dump(ae, open(save_filename,'wb'))\n",
    "# ae = pickle.load(open('mnist/conv_ae.pkl','rb'))\n",
    "# ae.layers"
   ]
  },
  {
   "cell_type": "code",
   "execution_count": 28,
   "metadata": {
    "collapsed": true
   },
   "outputs": [],
   "source": [
    "ae1 = pickle.load(open(save_filename,'rb'))"
   ]
  },
  {
   "cell_type": "code",
   "execution_count": 29,
   "metadata": {
    "collapsed": false
   },
   "outputs": [
    {
     "data": {
      "text/plain": [
       "[(lasagne.layers.input.InputLayer, {'shape': (None, 3, 28, 28)}),\n",
       " (lasagne.layers.cuda_convnet.Conv2DCCLayer,\n",
       "  {'filter_size': 3, 'num_filters': 16, 'pad': 'valid'}),\n",
       " (lasagne.layers.cuda_convnet.Conv2DCCLayer,\n",
       "  {'filter_size': 3, 'num_filters': 16, 'pad': 'valid'}),\n",
       " (lasagne.layers.cuda_convnet.MaxPool2DCCLayer, {'pool_size': 2}),\n",
       " (lasagne.layers.cuda_convnet.Conv2DCCLayer,\n",
       "  {'filter_size': 3, 'num_filters': 32, 'pad': 'valid'}),\n",
       " (lasagne.layers.cuda_convnet.MaxPool2DCCLayer, {'pool_size': 2}),\n",
       " (lasagne.layers.shape.ReshapeLayer, {'shape': ([0], -1)}),\n",
       " (lasagne.layers.dense.DenseLayer, {'num_units': 128}),\n",
       " (lasagne.layers.dense.DenseLayer, {'name': 'encode', 'num_units': 32}),\n",
       " (lasagne.layers.dense.DenseLayer, {'num_units': 128}),\n",
       " (lasagne.layers.dense.DenseLayer, {'num_units': 800}),\n",
       " (lasagne.layers.shape.ReshapeLayer, {'shape': ([0], 32, 5, 5)}),\n",
       " (lasagne.layers.pool.Upscale2DLayer, {'scale_factor': 2}),\n",
       " (lasagne.layers.cuda_convnet.Conv2DCCLayer,\n",
       "  {'filter_size': 3, 'num_filters': 16, 'pad': 'full'}),\n",
       " (lasagne.layers.pool.Upscale2DLayer, {'scale_factor': 2}),\n",
       " (lasagne.layers.conv.Conv2DLayer,\n",
       "  {'filter_size': 3, 'num_filters': 16, 'pad': 'full'}),\n",
       " (lasagne.layers.conv.Conv2DLayer,\n",
       "  {'filter_size': 3, 'num_filters': 3, 'pad': 'full'}),\n",
       " (lasagne.layers.shape.ReshapeLayer, {'shape': ([0], -1)})]"
      ]
     },
     "execution_count": 29,
     "metadata": {},
     "output_type": "execute_result"
    }
   ],
   "source": [
    "ae1.layers"
   ]
  },
  {
   "cell_type": "code",
   "execution_count": 60,
   "metadata": {
    "collapsed": false
   },
   "outputs": [
    {
     "name": "stdout",
     "output_type": "stream",
     "text": [
      "(10225, 3, 28, 28) (10225, 3, 28, 28)\n"
     ]
    }
   ],
   "source": [
    "X_pred = ae.predict(X).reshape(-1, 3, 28, 28)\n",
    "X_pred = np.rint(256. * X_pred).astype(int)\n",
    "X_pred = np.clip(X_pred, a_min = 0, a_max = 255)\n",
    "X_pred = X_pred.astype('uint8')\n",
    "print(X_pred.shape , X.shape)"
   ]
  },
  {
   "cell_type": "code",
   "execution_count": 65,
   "metadata": {
    "collapsed": false
   },
   "outputs": [
    {
     "name": "stdout",
     "output_type": "stream",
     "text": [
      "200\n"
     ]
    },
    {
     "data": {
      "image/png": "[encoded data removed]",
      "text/plain": [
       "<IPython.core.display.Image object>"
      ]
     },
     "execution_count": 65,
     "metadata": {},
     "output_type": "execute_result"
    }
   ],
   "source": [
    "###  show random inputs / outputs side by side\n",
    "\n",
    "def get_picture_array(X, rescale=4):\n",
    "    array = X.reshape(3,28,28)\n",
    "    array = np.clip(array, a_min = 0, a_max = 255)\n",
    "    return  array.repeat(rescale, axis = 1).repeat(rescale, axis = 2).astype(np.uint8()).mean(0)\n",
    "\n",
    "def compare_images(index):\n",
    "    print(index)\n",
    "    original_image = Image.fromarray(get_picture_array(255 * X[index]))\n",
    "    new_size = (original_image.size[0] * 2, original_image.size[1])\n",
    "    new_im = Image.new('L', new_size)\n",
    "    new_im.paste(original_image, (0,0))\n",
    "    rec_image = Image.fromarray(get_picture_array(X_pred[index]))\n",
    "    new_im.paste(rec_image, (original_image.size[0],0))\n",
    "    new_im.save('data/test.png', format=\"PNG\")\n",
    "    return IPImage('data/test.png')\n",
    "\n",
    "compare_images(200)\n",
    "# compare_images(np.random.randint(50000))"
   ]
  },
  {
   "cell_type": "code",
   "execution_count": null,
   "metadata": {
    "collapsed": true
   },
   "outputs": [],
   "source": [
    "## we find the encode layer from our ae, and use it to define an encoding function\n",
    "\n",
    "def get_layer_by_name(net, name):\n",
    "    for i, layer in enumerate(net.get_all_layers()):\n",
    "        if layer.name == name:\n",
    "            return layer, i\n",
    "    return None, None\n",
    "encode_layer, encode_layer_index = get_layer_by_name(ae, 'encode')\n",
    "input_layer, _ = get_layer_by_name(ae, 'encode')\n",
    "\n",
    "def encode_input(encode_layer, X):\n",
    "    return get_output(encode_layer, inputs=X, deterministic = True).eval()"
   ]
  },
  {
   "cell_type": "code",
   "execution_count": 110,
   "metadata": {
    "collapsed": false
   },
   "outputs": [],
   "source": [
    "dense_layer = get_output(ae.layers_['encode'],deterministic=True)\n",
    "input_var = ae.layers_['input0'].input_var\n",
    "f_dense = theano.function([input_var], dense_layer)"
   ]
  },
  {
   "cell_type": "code",
   "execution_count": 118,
   "metadata": {
    "collapsed": false
   },
   "outputs": [
    {
     "data": {
      "text/plain": [
       "array([ 0.66586745,  0.75246054,  0.69725955,  0.31500983,  0.71860224,\n",
       "        0.71219218,  0.21668428,  0.99290162,  0.        ,  0.        ,\n",
       "        0.77741092,  0.79697222,  0.72363698,  0.65712178,  0.1492893 ,\n",
       "        0.        ,  0.        ,  0.73802692,  0.        ,  0.53544062,\n",
       "        1.24993038,  0.706698  ,  0.6278801 ,  0.60559243,  0.        ,\n",
       "        0.64021921,  1.07540607,  0.83167481,  0.        ,  0.        ,\n",
       "        0.        ,  0.75928164], dtype=float32)"
      ]
     },
     "execution_count": 118,
     "metadata": {},
     "output_type": "execute_result"
    }
   ],
   "source": [
    "f_dense(np.array([X[0]]))[0]"
   ]
  },
  {
   "cell_type": "code",
   "execution_count": 104,
   "metadata": {
    "collapsed": true
   },
   "outputs": [],
   "source": [
    "X_encoded = encode_input(encode_layer, X)"
   ]
  },
  {
   "cell_type": "code",
   "execution_count": 72,
   "metadata": {
    "collapsed": false
   },
   "outputs": [
    {
     "name": "stdout",
     "output_type": "stream",
     "text": [
      "1 loop, best of 3: 1.75 s per loop\n"
     ]
    }
   ],
   "source": [
    "%timeit encode_input(encode_layer, np.array([X[0]]))"
   ]
  },
  {
   "cell_type": "code",
   "execution_count": 99,
   "metadata": {
    "collapsed": true
   },
   "outputs": [],
   "source": [
    "import theano\n",
    "import theano.tensor as T"
   ]
  },
  {
   "cell_type": "code",
   "execution_count": 100,
   "metadata": {
    "collapsed": false
   },
   "outputs": [
    {
     "ename": "TypeError",
     "evalue": "Unknown parameter type: <type 'numpy.ndarray'>",
     "output_type": "error",
     "traceback": [
      "\u001b[1;31m---------------------------------------------------------------------------\u001b[0m",
      "\u001b[1;31mTypeError\u001b[0m                                 Traceback (most recent call last)",
      "\u001b[1;32m<ipython-input-100-4ebc679b2a69>\u001b[0m in \u001b[0;36m<module>\u001b[1;34m()\u001b[0m\n\u001b[0;32m      1\u001b[0m \u001b[0mtest_prediction\u001b[0m \u001b[1;33m=\u001b[0m \u001b[0mget_output\u001b[0m\u001b[1;33m(\u001b[0m\u001b[0mencode_layer\u001b[0m\u001b[1;33m,\u001b[0m \u001b[0minputs\u001b[0m\u001b[1;33m=\u001b[0m\u001b[0mnp\u001b[0m\u001b[1;33m.\u001b[0m\u001b[0marray\u001b[0m\u001b[1;33m(\u001b[0m\u001b[1;33m[\u001b[0m\u001b[0mX\u001b[0m\u001b[1;33m[\u001b[0m\u001b[1;36m0\u001b[0m\u001b[1;33m]\u001b[0m\u001b[1;33m]\u001b[0m\u001b[1;33m)\u001b[0m\u001b[1;33m,\u001b[0m\u001b[0mdeterministic\u001b[0m\u001b[1;33m=\u001b[0m\u001b[0mTrue\u001b[0m\u001b[1;33m)\u001b[0m\u001b[1;33m\u001b[0m\u001b[0m\n\u001b[1;32m----> 2\u001b[1;33m \u001b[0mpredict_fn\u001b[0m \u001b[1;33m=\u001b[0m \u001b[0mtheano\u001b[0m\u001b[1;33m.\u001b[0m\u001b[0mfunction\u001b[0m\u001b[1;33m(\u001b[0m\u001b[1;33m[\u001b[0m\u001b[0mX\u001b[0m\u001b[1;33m[\u001b[0m\u001b[1;36m200\u001b[0m\u001b[1;33m]\u001b[0m\u001b[1;33m]\u001b[0m\u001b[1;33m,\u001b[0m \u001b[0mT\u001b[0m\u001b[1;33m.\u001b[0m\u001b[0margmax\u001b[0m\u001b[1;33m(\u001b[0m\u001b[0mtest_prediction\u001b[0m\u001b[1;33m,\u001b[0m \u001b[0maxis\u001b[0m\u001b[1;33m=\u001b[0m\u001b[1;36m1\u001b[0m\u001b[1;33m)\u001b[0m\u001b[1;33m)\u001b[0m\u001b[1;33m\u001b[0m\u001b[0m\n\u001b[0m",
      "\u001b[1;32m/home/etoestja/venv/lib/python2.7/site-packages/theano/compile/function.pyc\u001b[0m in \u001b[0;36mfunction\u001b[1;34m(inputs, outputs, mode, updates, givens, no_default_updates, accept_inplace, name, rebuild_strict, allow_input_downcast, profile, on_unused_input)\u001b[0m\n\u001b[0;32m    318\u001b[0m                    \u001b[0mon_unused_input\u001b[0m\u001b[1;33m=\u001b[0m\u001b[0mon_unused_input\u001b[0m\u001b[1;33m,\u001b[0m\u001b[1;33m\u001b[0m\u001b[0m\n\u001b[0;32m    319\u001b[0m                    \u001b[0mprofile\u001b[0m\u001b[1;33m=\u001b[0m\u001b[0mprofile\u001b[0m\u001b[1;33m,\u001b[0m\u001b[1;33m\u001b[0m\u001b[0m\n\u001b[1;32m--> 320\u001b[1;33m                    output_keys=output_keys)\n\u001b[0m\u001b[0;32m    321\u001b[0m     \u001b[1;31m# We need to add the flag check_aliased inputs if we have any mutable or\u001b[0m\u001b[1;33m\u001b[0m\u001b[1;33m\u001b[0m\u001b[0m\n\u001b[0;32m    322\u001b[0m     \u001b[1;31m# borrowed used defined inputs\u001b[0m\u001b[1;33m\u001b[0m\u001b[1;33m\u001b[0m\u001b[0m\n",
      "\u001b[1;32m/home/etoestja/venv/lib/python2.7/site-packages/theano/compile/pfunc.pyc\u001b[0m in \u001b[0;36mpfunc\u001b[1;34m(params, outputs, mode, updates, givens, no_default_updates, accept_inplace, name, rebuild_strict, allow_input_downcast, profile, on_unused_input, output_keys)\u001b[0m\n\u001b[0;32m    388\u001b[0m     \u001b[1;31m# transform params into theano.compile.In objects.\u001b[0m\u001b[1;33m\u001b[0m\u001b[1;33m\u001b[0m\u001b[0m\n\u001b[0;32m    389\u001b[0m     inputs = [_pfunc_param_to_in(p, allow_downcast=allow_input_downcast)\n\u001b[1;32m--> 390\u001b[1;33m               for p in params]\n\u001b[0m\u001b[0;32m    391\u001b[0m \u001b[1;33m\u001b[0m\u001b[0m\n\u001b[0;32m    392\u001b[0m     \u001b[1;31m# Check if some variable is present more than once in inputs\u001b[0m\u001b[1;33m\u001b[0m\u001b[1;33m\u001b[0m\u001b[0m\n",
      "\u001b[1;32m/home/etoestja/venv/lib/python2.7/site-packages/theano/compile/pfunc.pyc\u001b[0m in \u001b[0;36m_pfunc_param_to_in\u001b[1;34m(param, strict, allow_downcast)\u001b[0m\n\u001b[0;32m    487\u001b[0m     \u001b[1;32melif\u001b[0m \u001b[0misinstance\u001b[0m\u001b[1;33m(\u001b[0m\u001b[0mparam\u001b[0m\u001b[1;33m,\u001b[0m \u001b[0mIn\u001b[0m\u001b[1;33m)\u001b[0m\u001b[1;33m:\u001b[0m\u001b[1;33m\u001b[0m\u001b[0m\n\u001b[0;32m    488\u001b[0m         \u001b[1;32mreturn\u001b[0m \u001b[0mparam\u001b[0m\u001b[1;33m\u001b[0m\u001b[0m\n\u001b[1;32m--> 489\u001b[1;33m     \u001b[1;32mraise\u001b[0m \u001b[0mTypeError\u001b[0m\u001b[1;33m(\u001b[0m\u001b[1;34m'Unknown parameter type: %s'\u001b[0m \u001b[1;33m%\u001b[0m \u001b[0mtype\u001b[0m\u001b[1;33m(\u001b[0m\u001b[0mparam\u001b[0m\u001b[1;33m)\u001b[0m\u001b[1;33m)\u001b[0m\u001b[1;33m\u001b[0m\u001b[0m\n\u001b[0m\u001b[0;32m    490\u001b[0m \u001b[1;33m\u001b[0m\u001b[0m\n\u001b[0;32m    491\u001b[0m \u001b[1;33m\u001b[0m\u001b[0m\n",
      "\u001b[1;31mTypeError\u001b[0m: Unknown parameter type: <type 'numpy.ndarray'>"
     ]
    }
   ],
   "source": [
    "test_prediction = get_output(encode_layer, inputs=np.array([X[0]]),deterministic=True)\n",
    "predict_fn = theano.function([X[200]], T.argmax(test_prediction, axis=1))"
   ]
  },
  {
   "cell_type": "code",
   "execution_count": 90,
   "metadata": {
    "collapsed": true
   },
   "outputs": [],
   "source": [
    "X_pred = ae.predict([X[200]],)"
   ]
  },
  {
   "cell_type": "code",
   "execution_count": 91,
   "metadata": {
    "collapsed": false
   },
   "outputs": [],
   "source": [
    "for i in range(2000):\n",
    "    np.max(ae.predict([X[i]]))"
   ]
  },
  {
   "cell_type": "code",
   "execution_count": 103,
   "metadata": {
    "collapsed": false
   },
   "outputs": [
    {
     "ename": "ValueError",
     "evalue": "'encode' is not in list",
     "output_type": "error",
     "traceback": [
      "\u001b[1;31m---------------------------------------------------------------------------\u001b[0m",
      "\u001b[1;31mValueError\u001b[0m                                Traceback (most recent call last)",
      "\u001b[1;32m<ipython-input-103-54f7a0cbde81>\u001b[0m in \u001b[0;36m<module>\u001b[1;34m()\u001b[0m\n\u001b[1;32m----> 1\u001b[1;33m \u001b[0mencode_layer_index\u001b[0m \u001b[1;33m=\u001b[0m \u001b[0mmap\u001b[0m\u001b[1;33m(\u001b[0m\u001b[1;32mlambda\u001b[0m \u001b[0mpair\u001b[0m \u001b[1;33m:\u001b[0m \u001b[0mpair\u001b[0m\u001b[1;33m[\u001b[0m\u001b[1;36m0\u001b[0m\u001b[1;33m]\u001b[0m\u001b[1;33m,\u001b[0m \u001b[0mae\u001b[0m\u001b[1;33m.\u001b[0m\u001b[0mlayers\u001b[0m\u001b[1;33m)\u001b[0m\u001b[1;33m.\u001b[0m\u001b[0mindex\u001b[0m\u001b[1;33m(\u001b[0m\u001b[1;34m'encode'\u001b[0m\u001b[1;33m)\u001b[0m\u001b[1;33m\u001b[0m\u001b[0m\n\u001b[0m\u001b[0;32m      2\u001b[0m \u001b[0mencode_layer\u001b[0m \u001b[1;33m=\u001b[0m \u001b[0mae\u001b[0m\u001b[1;33m.\u001b[0m\u001b[0mget_all_layers\u001b[0m\u001b[1;33m(\u001b[0m\u001b[1;33m)\u001b[0m\u001b[1;33m[\u001b[0m\u001b[0mencode_layer_index\u001b[0m\u001b[1;33m]\u001b[0m\u001b[1;33m\u001b[0m\u001b[0m\n\u001b[0;32m      3\u001b[0m \u001b[1;33m\u001b[0m\u001b[0m\n\u001b[0;32m      4\u001b[0m \u001b[1;32mdef\u001b[0m \u001b[0mget_output_from_nn\u001b[0m\u001b[1;33m(\u001b[0m\u001b[0mlast_layer\u001b[0m\u001b[1;33m,\u001b[0m \u001b[0mX\u001b[0m\u001b[1;33m)\u001b[0m\u001b[1;33m:\u001b[0m\u001b[1;33m\u001b[0m\u001b[0m\n\u001b[0;32m      5\u001b[0m     \u001b[0mindices\u001b[0m \u001b[1;33m=\u001b[0m \u001b[0mnp\u001b[0m\u001b[1;33m.\u001b[0m\u001b[0marange\u001b[0m\u001b[1;33m(\u001b[0m\u001b[1;36m128\u001b[0m\u001b[1;33m,\u001b[0m \u001b[0mX\u001b[0m\u001b[1;33m.\u001b[0m\u001b[0mshape\u001b[0m\u001b[1;33m[\u001b[0m\u001b[1;36m0\u001b[0m\u001b[1;33m]\u001b[0m\u001b[1;33m,\u001b[0m \u001b[1;36m128\u001b[0m\u001b[1;33m)\u001b[0m\u001b[1;33m\u001b[0m\u001b[0m\n",
      "\u001b[1;31mValueError\u001b[0m: 'encode' is not in list"
     ]
    }
   ],
   "source": [
    "encode_layer_index = map(lambda pair : pair[0], ae.layers).index('encode')\n",
    "encode_layer = ae.get_all_layers()[encode_layer_index]\n",
    "\n",
    "def get_output_from_nn(last_layer, X):\n",
    "    indices = np.arange(128, X.shape[0], 128)\n",
    "    sys.stdout.flush()\n",
    "\n",
    "    # not splitting into batches can cause a memory error\n",
    "    X_batches = np.split(X, indices)\n",
    "    out = []\n",
    "    for count, X_batch in enumerate(X_batches):\n",
    "        #out.append(last_layer.get_output_for (X_batch).eval())\n",
    "        out.append(lasagne.layers.get_output(last_layer, X_batch).eval())\n",
    "        sys.stdout.flush()\n",
    "    return np.vstack(out)\n"
   ]
  },
  {
   "cell_type": "code",
   "execution_count": 102,
   "metadata": {
    "collapsed": false
   },
   "outputs": [
    {
     "data": {
      "text/plain": [
       "[(lasagne.layers.input.InputLayer, {'shape': (None, 3, 28, 28)}),\n",
       " (lasagne.layers.cuda_convnet.Conv2DCCLayer,\n",
       "  {'filter_size': 3, 'num_filters': 16, 'pad': 'valid'}),\n",
       " (lasagne.layers.cuda_convnet.Conv2DCCLayer,\n",
       "  {'filter_size': 3, 'num_filters': 16, 'pad': 'valid'}),\n",
       " (lasagne.layers.cuda_convnet.MaxPool2DCCLayer, {'pool_size': 2}),\n",
       " (lasagne.layers.cuda_convnet.Conv2DCCLayer,\n",
       "  {'filter_size': 3, 'num_filters': 32, 'pad': 'valid'}),\n",
       " (lasagne.layers.cuda_convnet.MaxPool2DCCLayer, {'pool_size': 2}),\n",
       " (lasagne.layers.shape.ReshapeLayer, {'shape': ([0], -1)}),\n",
       " (lasagne.layers.dense.DenseLayer, {'num_units': 128}),\n",
       " (lasagne.layers.dense.DenseLayer, {'name': 'encode', 'num_units': 32}),\n",
       " (lasagne.layers.dense.DenseLayer, {'num_units': 128}),\n",
       " (lasagne.layers.dense.DenseLayer, {'num_units': 800}),\n",
       " (lasagne.layers.shape.ReshapeLayer, {'shape': ([0], 32, 5, 5)}),\n",
       " (lasagne.layers.pool.Upscale2DLayer, {'scale_factor': 2}),\n",
       " (lasagne.layers.cuda_convnet.Conv2DCCLayer,\n",
       "  {'filter_size': 3, 'num_filters': 16, 'pad': 'full'}),\n",
       " (lasagne.layers.pool.Upscale2DLayer, {'scale_factor': 2}),\n",
       " (lasagne.layers.conv.Conv2DLayer,\n",
       "  {'filter_size': 3, 'num_filters': 16, 'pad': 'full'}),\n",
       " (lasagne.layers.conv.Conv2DLayer,\n",
       "  {'filter_size': 3, 'num_filters': 3, 'pad': 'full'}),\n",
       " (lasagne.layers.shape.ReshapeLayer, {'shape': ([0], -1)})]"
      ]
     },
     "execution_count": 102,
     "metadata": {},
     "output_type": "execute_result"
    }
   ],
   "source": [
    "ae.layers"
   ]
  },
  {
   "cell_type": "code",
   "execution_count": 106,
   "metadata": {
    "collapsed": false
   },
   "outputs": [
    {
     "data": {
      "text/plain": [
       "<lasagne.layers.input.InputLayer at 0x7f1bd029f4d0>"
      ]
     },
     "execution_count": 106,
     "metadata": {},
     "output_type": "execute_result"
    }
   ],
   "source": []
  },
  {
   "cell_type": "code",
   "execution_count": null,
   "metadata": {
    "collapsed": true
   },
   "outputs": [],
   "source": []
  }
 ],
 "metadata": {
  "kernelspec": {
   "display_name": "Python 2",
   "language": "python",
   "name": "python2"
  },
  "language_info": {
   "codemirror_mode": {
    "name": "ipython",
    "version": 2
   },
   "file_extension": ".py",
   "mimetype": "text/x-python",
   "name": "python",
   "nbconvert_exporter": "python",
   "pygments_lexer": "ipython2",
   "version": "2.7.9"
  }
 },
 "nbformat": 4,
 "nbformat_minor": 0
}
